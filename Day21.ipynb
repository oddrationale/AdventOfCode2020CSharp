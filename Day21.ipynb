{
 "cells": [
  {
   "cell_type": "markdown",
   "metadata": {},
   "source": [
    "[![Binder](https://mybinder.org/badge_logo.svg)](https://mybinder.org/v2/gh/oddrationale/AdventOfCode2020CSharp/main?urlpath=lab%2Ftree%2FDay21.ipynb)"
   ]
  },
  {
   "cell_type": "markdown",
   "metadata": {},
   "source": [
    "# --- Day 21: Allergen Assessment ---"
   ]
  },
  {
   "cell_type": "code",
   "execution_count": 2,
   "metadata": {},
   "outputs": [],
   "source": [
    "using System.IO;"
   ]
  },
  {
   "cell_type": "code",
   "execution_count": 3,
   "metadata": {},
   "outputs": [],
   "source": [
    "record Food\n",
    "{\n",
    "    public List<string> Ingredients { get; init; }\n",
    "    public List<string> Allergens { get; init; }\n",
    "    \n",
    "    public Food(string input)\n",
    "    {\n",
    "        Ingredients = input\n",
    "            .Split(\" (contains \")\n",
    "            .First()\n",
    "            .Split(\" \")\n",
    "            .ToList();\n",
    "            \n",
    "        Allergens = input\n",
    "            .Split(\" (contains \")\n",
    "            .Last()\n",
    "            .Replace(\")\", \"\")\n",
    "            .Split(\", \")\n",
    "            .ToList();\n",
    "    }\n",
    "}"
   ]
  },
  {
   "cell_type": "code",
   "execution_count": 4,
   "metadata": {},
   "outputs": [
    {
     "data": {
      "text/html": [
       "<table><thead><tr><th><i>index</i></th><th>Ingredients</th><th>Allergens</th></tr></thead><tbody><tr><td>0</td><td><div class=\"dni-plaintext\">[ snsdlq, cbzv, vhkj, tvdvzd, smfz, vs, bkrvqt, mtmvt, tcpk, qlfqvt, ccnrkv, hrmrh, lrqqqsg, krfrk, zjfxkz, qfrkf, tnmkkz, jbrbfr, lcb, dtxr ... (32 more) ]</div></td><td><div class=\"dni-plaintext\">[ shellfish, wheat, peanuts ]</div></td></tr><tr><td>1</td><td><div class=\"dni-plaintext\">[ shx, nxqs, jrvfntm, pzjzbhr, glxsr, gpzch, lvdf, vmmczr, krfrk, lrqqqsg, shp, ccxmrdc, bzltj, hmkgj, rgqms, npvrd, blgppq, djshtst, khmjmz, fv ... (44 more) ]</div></td><td><div class=\"dni-plaintext\">[ fish ]</div></td></tr><tr><td>2</td><td><div class=\"dni-plaintext\">[ cnlj, glxsr, pflkd, rnjbb, qpxgsf, qnnq, bzqdq, zqg, mhbfxn, ljhmb, nlmzg, vzcr, gdnsf, zdtk, fhgtsqrd, lkpr, rsfnzgx, sbh, xmrb, qztvj ... (48 more) ]</div></td><td><div class=\"dni-plaintext\">[ soy, wheat ]</div></td></tr><tr><td>3</td><td><div class=\"dni-plaintext\">[ dg, jjcvl, dpcqm, dhv, skzl, lkpr, qzlmr, khmjmz, hrmrh, tvdvzd, xhkzq, zhmsk, sbh, vzcr, bqzj, qfrkf, rbld, kmbh, zrzqlg, hpglh ... (42 more) ]</div></td><td><div class=\"dni-plaintext\">[ soy, dairy, nuts ]</div></td></tr><tr><td>4</td><td><div class=\"dni-plaintext\">[ dpcqm, rsfnzgx, qztvj, tqjtp, xgdl, qfrkf, njblch, zjfxkz, rcshk, blgppq, dfzqlk, bkrvqt, frxs, jvglg, ljhmb, zkqfrnv, kgjfrf, ggzcj, bnmf, tqx ... (51 more) ]</div></td><td><div class=\"dni-plaintext\">[ dairy, soy, peanuts ]</div></td></tr><tr><td>5</td><td><div class=\"dni-plaintext\">[ ccxmrdc, zxbnvj, kgm, zcpxkv, rcfjcc, smfz, vhkj, svnhg, sgpt, pzjzbhr, lvdf, vfqxhl, nfpxbp, jllmb, hrmrh, lrqqqsg, jjcvl, fhgtsqrd, lmpvkrp, vtkj ... (43 more) ]</div></td><td><div class=\"dni-plaintext\">[ nuts, peanuts, dairy ]</div></td></tr><tr><td>6</td><td><div class=\"dni-plaintext\">[ qlfqvt, xhkv, fhgtsqrd, svnhg, vmlqhsc, dpcqm, hrstz, rpppnjgt, nsvr, blgppq, rmtp, dhv, lgsd, glxsr, tqx, rqrzz, qzlmr, rcfjcc, njblch, mrtbtfnm ... (48 more) ]</div></td><td><div class=\"dni-plaintext\">[ fish ]</div></td></tr><tr><td>7</td><td><div class=\"dni-plaintext\">[ nsvr, gnqg, blgppq, xgdl, qzlmr, rcfjcc, lkpr, smfz, vfdb, zvvsc, zmdpjs, hrcbj, pxcb, rzkg, lrqqqsg, xtftlq, tvdvzd, dhv, vhkj, jjcvl ... (19 more) ]</div></td><td><div class=\"dni-plaintext\">[ soy, peanuts, wheat ]</div></td></tr><tr><td>8</td><td><div class=\"dni-plaintext\">[ qrxd, rgqms, hhxbts, bzkz, zkfbs, lcb, dfzqlk, dtxr, mhbfxn, smfz, shp, djkbp, vs, hkxgm, thsjj, tkksxx, lskslfm, hrcbj, ccxmrdc, pkbmqd ... (36 more) ]</div></td><td><div class=\"dni-plaintext\">[ sesame, nuts ]</div></td></tr><tr><td>9</td><td><div class=\"dni-plaintext\">[ rcfjcc, njblch, fqvs, hkxgm, ccnrkv, ch, lmpvkrp, vctx, tnmkkz, shp, hnzv, hzgzr, qzlmr, hmzph, rrxz, lnvmjf, qzxfnkr, dg, vcndd, gnqg ... (36 more) ]</div></td><td><div class=\"dni-plaintext\">[ nuts, shellfish ]</div></td></tr><tr><td>10</td><td><div class=\"dni-plaintext\">[ hnzv, svnhg, qjhlb, bzqdq, vzcr, pxcb, njblch, qzlmr, mgtk, dg, rsfnzgx, dpcqm, nlmzg, cfvjcmq, ccxmrdc, lcb, vfqxhl, cxgb, nkflfbtc, nfpxbp ... (39 more) ]</div></td><td><div class=\"dni-plaintext\">[ fish ]</div></td></tr><tr><td>11</td><td><div class=\"dni-plaintext\">[ dsfnl, qjhlb, kmbh, stcbv, hrcbj, bdvhmld, hrmrh, rfcnxd, gpzch, lrqqqsg, vhkj, cfvjcmq, ndcd, shp, ffbfn, dg, zdrh, hmkgj, kgjfrf, rqrzz ... (53 more) ]</div></td><td><div class=\"dni-plaintext\">[ nuts, sesame, fish ]</div></td></tr><tr><td>12</td><td><div class=\"dni-plaintext\">[ hzgzr, lrqqqsg, khmjmz, tnvt, vfdb, dhhst, rnjbb, bdvhmld, jrvfntm, tnrm, zhmsk, kgm, xhkzq, tqxjb, skzl, mgtk, rzkg, bxccqd, mhbfxn, llbfh ... (43 more) ]</div></td><td><div class=\"dni-plaintext\">[ fish ]</div></td></tr><tr><td>13</td><td><div class=\"dni-plaintext\">[ xxc, dhlqj, slng, gnqg, lfhpg, rmtp, rrxz, zqg, hrmrh, bzltj, qjhlb, lkpr, lrhdnsfq, hmzph, tvdvzd, khmjmz, mrtbtfnm, pcrgqs, vnz, lrqqqsg ... (54 more) ]</div></td><td><div class=\"dni-plaintext\">[ fish, sesame ]</div></td></tr><tr><td>14</td><td><div class=\"dni-plaintext\">[ skzl, vnz, lbmrn, rrxz, pcrgqs, lrqqqsg, cfvjcmq, pflkd, tvdvzd, lgsd, dhhst, vzcr, xxgfj, svbrzg, vjpdx, bkrvqt, lcb, jjcvl, rcfjcc, qzlmr ... (23 more) ]</div></td><td><div class=\"dni-plaintext\">[ shellfish, sesame, nuts ]</div></td></tr><tr><td>15</td><td><div class=\"dni-plaintext\">[ xgdl, vcndd, rcshk, skqdml, lfhpg, blgppq, dhqn, cnlj, stcbv, vfqxhl, xhkzq, lrqqqsg, vfdb, lcb, dg, skzl, lgsd, pclp, vctx, xhkv ... (58 more) ]</div></td><td><div class=\"dni-plaintext\">[ fish, shellfish ]</div></td></tr><tr><td>16</td><td><div class=\"dni-plaintext\">[ vkbjt, qpxgsf, zkqfrnv, lrqqqsg, lvdf, lbmrn, hsfxz, rsfnzgx, smfz, nsvr, tkksxx, jgg, jbrbfr, vgp, fqvs, slng, mhbfxn, xhkv, bkrvqt, ntcp ... (58 more) ]</div></td><td><div class=\"dni-plaintext\">[ wheat, fish ]</div></td></tr><tr><td>17</td><td><div class=\"dni-plaintext\">[ vkbjt, vhkj, jrvfntm, rxdltn, vzcr, xtftlq, stcbv, lrqqqsg, hmkgj, qlfqvt, qnnq, jplrgxdg, fhgtsqrd, dsfnl, fcvcnkk, nlmzg, khmjmz, vcndd, jhdgj, bxccqd ... (49 more) ]</div></td><td><div class=\"dni-plaintext\">[ sesame, soy ]</div></td></tr><tr><td>18</td><td><div class=\"dni-plaintext\">[ lcb, bkrvqt, xqtg, zhmsk, zqg, rbld, qpxgsf, xxc, hkxgm, qrxd, zvvsc, vfdb, rgqms, lskslfm, lrqqqsg, vnz, hmzph, mvz, glxsr, mhbfxn ... (54 more) ]</div></td><td><div class=\"dni-plaintext\">[ soy ]</div></td></tr><tr><td>19</td><td><div class=\"dni-plaintext\">[ hnzv, vhkj, xtftlq, jdzhd, hrstz, ccxmrdc, glxsr, zjfxkz, vmnpkgm, qlfqvt, qrxd, djshtst, vgp, skzl, npvrd, hzgzr, vmmczr, lfhpg, hjzb, rqrzz ... (63 more) ]</div></td><td><div class=\"dni-plaintext\">[ wheat, nuts ]</div></td></tr><tr><td colspan=\"3\">(20 more)</td></tr></tbody></table>"
      ]
     },
     "execution_count": 4,
     "metadata": {},
     "output_type": "execute_result"
    }
   ],
   "source": [
    "var foods = File.ReadAllLines(@\"input/21.txt\").Select(line => new Food(line));\n",
    "foods"
   ]
  },
  {
   "cell_type": "code",
   "execution_count": 5,
   "metadata": {},
   "outputs": [
    {
     "data": {
      "text/html": [
       "<table><thead><tr><th><i>key</i></th><th>value</th></tr></thead><tbody><tr><td><div class=\"dni-plaintext\">shellfish</div></td><td><div class=\"dni-plaintext\">[ lrqqqsg, lcb ]</div></td></tr><tr><td><div class=\"dni-plaintext\">wheat</div></td><td><div class=\"dni-plaintext\">[ vhkj, lrqqqsg, shp, qzlmr ]</div></td></tr><tr><td><div class=\"dni-plaintext\">peanuts</div></td><td><div class=\"dni-plaintext\">[ vhkj, tvdvzd ]</div></td></tr><tr><td><div class=\"dni-plaintext\">fish</div></td><td><div class=\"dni-plaintext\">[ vhkj ]</div></td></tr><tr><td><div class=\"dni-plaintext\">soy</div></td><td><div class=\"dni-plaintext\">[ vhkj, dfzqlk ]</div></td></tr><tr><td><div class=\"dni-plaintext\">dairy</div></td><td><div class=\"dni-plaintext\">[ vhkj, smfz ]</div></td></tr><tr><td><div class=\"dni-plaintext\">nuts</div></td><td><div class=\"dni-plaintext\">[ qzlmr, tvdvzd ]</div></td></tr><tr><td><div class=\"dni-plaintext\">sesame</div></td><td><div class=\"dni-plaintext\">[ lcb, vhkj ]</div></td></tr></tbody></table>"
      ]
     },
     "execution_count": 5,
     "metadata": {},
     "output_type": "execute_result"
    }
   ],
   "source": [
    "var allergens = foods\n",
    "    .Select(food => food.Allergens)\n",
    "    .SelectMany(allergen => allergen)\n",
    "    .Distinct()\n",
    "    .ToDictionary(\n",
    "        k => k,\n",
    "        v => foods.Where(food => food.Allergens.Contains(v)).Select(food => food.Ingredients).Aggregate<IEnumerable<string>>((a, b) => a.Intersect(b)).ToList()\n",
    "    );\n",
    "allergens"
   ]
  },
  {
   "cell_type": "code",
   "execution_count": null,
   "metadata": {},
   "outputs": [],
   "source": [
    "while (allergens.Where(a => a.Value.Count() > 1).Count() > 1)\n",
    "{\n",
    "    var ingredient = allergens.Where(a => a.Value.Count() == 1).First().Value.First();\n",
    "    foreach (var allergen in allergens.Where(a => a.Value.Count() > 1))\n",
    "    {\n",
    "        allergen.Value.Remove(ingredient);\n",
    "    }\n",
    "}"
   ]
  },
  {
   "cell_type": "code",
   "execution_count": 10,
   "metadata": {},
   "outputs": [
    {
     "data": {
      "text/html": [
       "<table><thead><tr><th><i>key</i></th><th>value</th></tr></thead><tbody><tr><td><div class=\"dni-plaintext\">shellfish</div></td><td><div class=\"dni-plaintext\">[ lrqqqsg ]</div></td></tr><tr><td><div class=\"dni-plaintext\">wheat</div></td><td><div class=\"dni-plaintext\">[ shp ]</div></td></tr><tr><td><div class=\"dni-plaintext\">peanuts</div></td><td><div class=\"dni-plaintext\">[ tvdvzd ]</div></td></tr><tr><td><div class=\"dni-plaintext\">fish</div></td><td><div class=\"dni-plaintext\">[ vhkj ]</div></td></tr><tr><td><div class=\"dni-plaintext\">soy</div></td><td><div class=\"dni-plaintext\">[ dfzqlk ]</div></td></tr><tr><td><div class=\"dni-plaintext\">dairy</div></td><td><div class=\"dni-plaintext\">[ smfz ]</div></td></tr><tr><td><div class=\"dni-plaintext\">nuts</div></td><td><div class=\"dni-plaintext\">[ qzlmr ]</div></td></tr><tr><td><div class=\"dni-plaintext\">sesame</div></td><td><div class=\"dni-plaintext\">[ lcb ]</div></td></tr></tbody></table>"
      ]
     },
     "execution_count": 10,
     "metadata": {},
     "output_type": "execute_result"
    }
   ],
   "source": [
    "foreach (var allergen in allergens.Where(a => a.Value.Count() > 1))\n",
    "{\n",
    "    allergen.Value.Remove(\"qzlmr\");\n",
    "}\n",
    "allergens"
   ]
  },
  {
   "cell_type": "code",
   "execution_count": 12,
   "metadata": {},
   "outputs": [
    {
     "data": {
      "text/html": [
       "<table><thead><tr><th><i>index</i></th><th>value</th></tr></thead><tbody><tr><td>0</td><td><div class=\"dni-plaintext\">snsdlq</div></td></tr><tr><td>1</td><td><div class=\"dni-plaintext\">cbzv</div></td></tr><tr><td>2</td><td><div class=\"dni-plaintext\">vhkj</div></td></tr><tr><td>3</td><td><div class=\"dni-plaintext\">tvdvzd</div></td></tr><tr><td>4</td><td><div class=\"dni-plaintext\">smfz</div></td></tr><tr><td>5</td><td><div class=\"dni-plaintext\">vs</div></td></tr><tr><td>6</td><td><div class=\"dni-plaintext\">bkrvqt</div></td></tr><tr><td>7</td><td><div class=\"dni-plaintext\">mtmvt</div></td></tr><tr><td>8</td><td><div class=\"dni-plaintext\">tcpk</div></td></tr><tr><td>9</td><td><div class=\"dni-plaintext\">qlfqvt</div></td></tr><tr><td>10</td><td><div class=\"dni-plaintext\">ccnrkv</div></td></tr><tr><td>11</td><td><div class=\"dni-plaintext\">hrmrh</div></td></tr><tr><td>12</td><td><div class=\"dni-plaintext\">lrqqqsg</div></td></tr><tr><td>13</td><td><div class=\"dni-plaintext\">krfrk</div></td></tr><tr><td>14</td><td><div class=\"dni-plaintext\">zjfxkz</div></td></tr><tr><td>15</td><td><div class=\"dni-plaintext\">qfrkf</div></td></tr><tr><td>16</td><td><div class=\"dni-plaintext\">tnmkkz</div></td></tr><tr><td>17</td><td><div class=\"dni-plaintext\">jbrbfr</div></td></tr><tr><td>18</td><td><div class=\"dni-plaintext\">lcb</div></td></tr><tr><td>19</td><td><div class=\"dni-plaintext\">dtxr</div></td></tr><tr><td colspan=\"2\">(180 more)</td></tr></tbody></table>"
      ]
     },
     "execution_count": 12,
     "metadata": {},
     "output_type": "execute_result"
    }
   ],
   "source": [
    "foods.Select(food => food.Ingredients).SelectMany(f => f).Distinct()"
   ]
  },
  {
   "cell_type": "code",
   "execution_count": 13,
   "metadata": {},
   "outputs": [
    {
     "data": {
      "text/html": [
       "<table><thead><tr><th><i>index</i></th><th>value</th></tr></thead><tbody><tr><td>0</td><td><div class=\"dni-plaintext\">lrqqqsg</div></td></tr><tr><td>1</td><td><div class=\"dni-plaintext\">shp</div></td></tr><tr><td>2</td><td><div class=\"dni-plaintext\">tvdvzd</div></td></tr><tr><td>3</td><td><div class=\"dni-plaintext\">vhkj</div></td></tr><tr><td>4</td><td><div class=\"dni-plaintext\">dfzqlk</div></td></tr><tr><td>5</td><td><div class=\"dni-plaintext\">smfz</div></td></tr><tr><td>6</td><td><div class=\"dni-plaintext\">qzlmr</div></td></tr><tr><td>7</td><td><div class=\"dni-plaintext\">lcb</div></td></tr></tbody></table>"
      ]
     },
     "execution_count": 13,
     "metadata": {},
     "output_type": "execute_result"
    }
   ],
   "source": [
    "allergens.Values.SelectMany(a => a)"
   ]
  },
  {
   "cell_type": "code",
   "execution_count": 14,
   "metadata": {},
   "outputs": [
    {
     "data": {
      "text/html": [
       "<table><thead><tr><th><i>index</i></th><th>value</th></tr></thead><tbody><tr><td>0</td><td><div class=\"dni-plaintext\">snsdlq</div></td></tr><tr><td>1</td><td><div class=\"dni-plaintext\">cbzv</div></td></tr><tr><td>2</td><td><div class=\"dni-plaintext\">vs</div></td></tr><tr><td>3</td><td><div class=\"dni-plaintext\">bkrvqt</div></td></tr><tr><td>4</td><td><div class=\"dni-plaintext\">mtmvt</div></td></tr><tr><td>5</td><td><div class=\"dni-plaintext\">tcpk</div></td></tr><tr><td>6</td><td><div class=\"dni-plaintext\">qlfqvt</div></td></tr><tr><td>7</td><td><div class=\"dni-plaintext\">ccnrkv</div></td></tr><tr><td>8</td><td><div class=\"dni-plaintext\">hrmrh</div></td></tr><tr><td>9</td><td><div class=\"dni-plaintext\">krfrk</div></td></tr><tr><td>10</td><td><div class=\"dni-plaintext\">zjfxkz</div></td></tr><tr><td>11</td><td><div class=\"dni-plaintext\">qfrkf</div></td></tr><tr><td>12</td><td><div class=\"dni-plaintext\">tnmkkz</div></td></tr><tr><td>13</td><td><div class=\"dni-plaintext\">jbrbfr</div></td></tr><tr><td>14</td><td><div class=\"dni-plaintext\">dtxr</div></td></tr><tr><td>15</td><td><div class=\"dni-plaintext\">ndcd</div></td></tr><tr><td>16</td><td><div class=\"dni-plaintext\">dhv</div></td></tr><tr><td>17</td><td><div class=\"dni-plaintext\">jhdgj</div></td></tr><tr><td>18</td><td><div class=\"dni-plaintext\">lnvmjf</div></td></tr><tr><td>19</td><td><div class=\"dni-plaintext\">xmrb</div></td></tr><tr><td colspan=\"2\">(172 more)</td></tr></tbody></table>"
      ]
     },
     "execution_count": 14,
     "metadata": {},
     "output_type": "execute_result"
    }
   ],
   "source": [
    "var nonAllergenIngredients = Enumerable.Except(\n",
    "    foods.Select(food => food.Ingredients).SelectMany(f => f).Distinct(),\n",
    "    allergens.Values.SelectMany(a => a)\n",
    ");\n",
    "nonAllergenIngredients"
   ]
  },
  {
   "cell_type": "code",
   "execution_count": 15,
   "metadata": {},
   "outputs": [
    {
     "data": {
      "text/html": [
       "<div class=\"dni-plaintext\">2302</div>"
      ]
     },
     "execution_count": 15,
     "metadata": {},
     "output_type": "execute_result"
    }
   ],
   "source": [
    "nonAllergenIngredients.Select(i => foods.Select(food => food.Ingredients).SelectMany(f => f).Where(f => f == i).Count()).Sum()"
   ]
  },
  {
   "cell_type": "markdown",
   "metadata": {},
   "source": [
    "# --- Part Two ---"
   ]
  },
  {
   "cell_type": "code",
   "execution_count": 22,
   "metadata": {},
   "outputs": [
    {
     "data": {
      "text/plain": [
       "smfz,vhkj,qzlmr,tvdvzd,lcb,lrqqqsg,dfzqlk,shp"
      ]
     },
     "execution_count": 22,
     "metadata": {},
     "output_type": "execute_result"
    }
   ],
   "source": [
    "string.Join(\",\", allergens.OrderBy(kv => kv.Key).Select(kv => kv.Value.First()))"
   ]
  },
  {
   "cell_type": "code",
   "execution_count": null,
   "metadata": {},
   "outputs": [],
   "source": []
  }
 ],
 "metadata": {
  "kernelspec": {
   "display_name": ".NET (C#)",
   "language": "C#",
   "name": ".net-csharp"
  },
  "language_info": {
   "file_extension": ".cs",
   "mimetype": "text/x-csharp",
   "name": "C#",
   "pygments_lexer": "csharp",
   "version": "8.0"
  }
 },
 "nbformat": 4,
 "nbformat_minor": 4
}
