{
 "cells": [
  {
   "cell_type": "markdown",
   "metadata": {},
   "source": [
    "[![Binder](https://mybinder.org/badge_logo.svg)](https://mybinder.org/v2/gh/oddrationale/AdventOfCode2020CSharp/main?urlpath=lab%2Ftree%2FDay21.ipynb)"
   ]
  },
  {
   "cell_type": "markdown",
   "metadata": {},
   "source": [
    "# --- Day 21: Allergen Assessment ---"
   ]
  },
  {
   "cell_type": "code",
   "execution_count": 14,
   "metadata": {},
   "outputs": [],
   "source": [
    "using System.IO;"
   ]
  },
  {
   "cell_type": "code",
   "execution_count": 15,
   "metadata": {},
   "outputs": [],
   "source": [
    "record Food\n",
    "{\n",
    "    public List<string> Ingredients { get; init; }\n",
    "    public List<string> Allergens { get; init; }\n",
    "    \n",
    "    public Food(string input)\n",
    "    {\n",
    "        Ingredients = input\n",
    "            .Split(\" (contains \")\n",
    "            .First()\n",
    "            .Split(\" \")\n",
    "            .ToList();\n",
    "            \n",
    "        Allergens = input\n",
    "            .Split(\" (contains \")\n",
    "            .Last()\n",
    "            .Replace(\")\", \"\")\n",
    "            .Split(\", \")\n",
    "            .ToList();\n",
    "    }\n",
    "}"
   ]
  },
  {
   "cell_type": "code",
   "execution_count": 16,
   "metadata": {},
   "outputs": [],
   "source": [
    "var foods = File.ReadAllLines(@\"input/21.txt\").Select(line => new Food(line));"
   ]
  },
  {
   "cell_type": "code",
   "execution_count": 17,
   "metadata": {},
   "outputs": [
    {
     "data": {
      "text/html": [
       "<table><thead><tr><th><i>key</i></th><th>value</th></tr></thead><tbody><tr><td><div class=\"dni-plaintext\">shellfish</div></td><td><div class=\"dni-plaintext\">[ lrqqqsg, lcb ]</div></td></tr><tr><td><div class=\"dni-plaintext\">wheat</div></td><td><div class=\"dni-plaintext\">[ vhkj, lrqqqsg, shp, qzlmr ]</div></td></tr><tr><td><div class=\"dni-plaintext\">peanuts</div></td><td><div class=\"dni-plaintext\">[ vhkj, tvdvzd ]</div></td></tr><tr><td><div class=\"dni-plaintext\">fish</div></td><td><div class=\"dni-plaintext\">[ vhkj ]</div></td></tr><tr><td><div class=\"dni-plaintext\">soy</div></td><td><div class=\"dni-plaintext\">[ vhkj, dfzqlk ]</div></td></tr><tr><td><div class=\"dni-plaintext\">dairy</div></td><td><div class=\"dni-plaintext\">[ vhkj, smfz ]</div></td></tr><tr><td><div class=\"dni-plaintext\">nuts</div></td><td><div class=\"dni-plaintext\">[ qzlmr, tvdvzd ]</div></td></tr><tr><td><div class=\"dni-plaintext\">sesame</div></td><td><div class=\"dni-plaintext\">[ lcb, vhkj ]</div></td></tr></tbody></table>"
      ]
     },
     "execution_count": 17,
     "metadata": {},
     "output_type": "execute_result"
    }
   ],
   "source": [
    "var allergens = foods\n",
    "    .Select(food => food.Allergens)\n",
    "    .SelectMany(allergen => allergen)\n",
    "    .Distinct()\n",
    "    .ToDictionary(\n",
    "        k => k,\n",
    "        v => foods\n",
    "            .Where(food => food.Allergens.Contains(v))\n",
    "            .Select(food => food.Ingredients)\n",
    "            .Aggregate<IEnumerable<string>>((a, b) => a.Intersect(b))\n",
    "            .ToList()\n",
    "    );\n",
    "allergens"
   ]
  },
  {
   "cell_type": "code",
   "execution_count": 18,
   "metadata": {},
   "outputs": [
    {
     "data": {
      "text/html": [
       "<table><thead><tr><th><i>key</i></th><th>value</th></tr></thead><tbody><tr><td><div class=\"dni-plaintext\">shellfish</div></td><td><div class=\"dni-plaintext\">[ lrqqqsg ]</div></td></tr><tr><td><div class=\"dni-plaintext\">wheat</div></td><td><div class=\"dni-plaintext\">[ shp ]</div></td></tr><tr><td><div class=\"dni-plaintext\">peanuts</div></td><td><div class=\"dni-plaintext\">[ tvdvzd ]</div></td></tr><tr><td><div class=\"dni-plaintext\">fish</div></td><td><div class=\"dni-plaintext\">[ vhkj ]</div></td></tr><tr><td><div class=\"dni-plaintext\">soy</div></td><td><div class=\"dni-plaintext\">[ dfzqlk ]</div></td></tr><tr><td><div class=\"dni-plaintext\">dairy</div></td><td><div class=\"dni-plaintext\">[ smfz ]</div></td></tr><tr><td><div class=\"dni-plaintext\">nuts</div></td><td><div class=\"dni-plaintext\">[ qzlmr ]</div></td></tr><tr><td><div class=\"dni-plaintext\">sesame</div></td><td><div class=\"dni-plaintext\">[ lcb ]</div></td></tr></tbody></table>"
      ]
     },
     "execution_count": 18,
     "metadata": {},
     "output_type": "execute_result"
    }
   ],
   "source": [
    "while (allergens.Where(kv => kv.Value.Count() > 1).Count() > 1)\n",
    "{\n",
    "    foreach (var allergen in allergens.Where(kv => kv.Value.Count() > 1))\n",
    "    {\n",
    "        allergen.Value.RemoveAll(ingredient => \n",
    "            allergens\n",
    "                .Where(kv => kv.Value.Count() == 1)\n",
    "                .Select(kv => kv.Value.First())\n",
    "                .Contains(ingredient)\n",
    "        );\n",
    "    }\n",
    "}\n",
    "allergens"
   ]
  },
  {
   "cell_type": "code",
   "execution_count": 19,
   "metadata": {},
   "outputs": [],
   "source": [
    "var allergenIngredients = allergens.Select(kv => kv.Value.First());\n",
    "var nonAllergenIngredients = Enumerable.Except(\n",
    "    foods.Select(food => food.Ingredients).SelectMany(f => f).Distinct(),\n",
    "    allergenIngredients\n",
    ");"
   ]
  },
  {
   "cell_type": "code",
   "execution_count": 20,
   "metadata": {},
   "outputs": [
    {
     "data": {
      "text/html": [
       "<div class=\"dni-plaintext\">2302</div>"
      ]
     },
     "execution_count": 20,
     "metadata": {},
     "output_type": "execute_result"
    }
   ],
   "source": [
    "nonAllergenIngredients\n",
    "    .Select(i => foods\n",
    "        .Select(food => food.Ingredients)\n",
    "        .SelectMany(f => f)\n",
    "        .Where(f => f == i).Count()\n",
    "    )\n",
    "    .Sum()"
   ]
  },
  {
   "cell_type": "markdown",
   "metadata": {},
   "source": [
    "# --- Part Two ---"
   ]
  },
  {
   "cell_type": "code",
   "execution_count": 21,
   "metadata": {},
   "outputs": [
    {
     "data": {
      "text/plain": [
       "smfz,vhkj,qzlmr,tvdvzd,lcb,lrqqqsg,dfzqlk,shp"
      ]
     },
     "execution_count": 21,
     "metadata": {},
     "output_type": "execute_result"
    }
   ],
   "source": [
    "string.Join(\",\", allergens.OrderBy(kv => kv.Key).Select(kv => kv.Value.First()))"
   ]
  }
 ],
 "metadata": {
  "kernelspec": {
   "display_name": ".NET (C#)",
   "language": "C#",
   "name": ".net-csharp"
  },
  "language_info": {
   "file_extension": ".cs",
   "mimetype": "text/x-csharp",
   "name": "C#",
   "pygments_lexer": "csharp",
   "version": "8.0"
  }
 },
 "nbformat": 4,
 "nbformat_minor": 4
}
