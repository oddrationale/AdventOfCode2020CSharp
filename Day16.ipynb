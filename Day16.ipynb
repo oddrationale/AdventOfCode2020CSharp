{
 "cells": [
  {
   "cell_type": "markdown",
   "metadata": {},
   "source": [
    "[![Binder](https://mybinder.org/badge_logo.svg)](https://mybinder.org/v2/gh/oddrationale/AdventOfCode2020CSharp/main?urlpath=lab%2Ftree%2FDay16.ipynb)"
   ]
  },
  {
   "cell_type": "markdown",
   "metadata": {},
   "source": [
    "# --- Day 16: Ticket Translation ---"
   ]
  },
  {
   "cell_type": "code",
   "execution_count": 1,
   "metadata": {},
   "outputs": [
    {
     "data": {
      "text/html": [
       "\r\n",
       "<div>\r\n",
       "    <div id='dotnet-interactive-this-cell-17576.Microsoft.DotNet.Interactive.Http.HttpPort' style='display: none'>\r\n",
       "        The below script needs to be able to find the current output cell; this is an easy method to get it.\r\n",
       "    </div>\r\n",
       "    <script type='text/javascript'>\r\n",
       "async function probeAddresses(probingAddresses) {\r\n",
       "    function timeout(ms, promise) {\r\n",
       "        return new Promise(function (resolve, reject) {\r\n",
       "            setTimeout(function () {\r\n",
       "                reject(new Error('timeout'))\r\n",
       "            }, ms)\r\n",
       "            promise.then(resolve, reject)\r\n",
       "        })\r\n",
       "    }\r\n",
       "\r\n",
       "    if (Array.isArray(probingAddresses)) {\r\n",
       "        for (let i = 0; i < probingAddresses.length; i++) {\r\n",
       "\r\n",
       "            let rootUrl = probingAddresses[i];\r\n",
       "\r\n",
       "            if (!rootUrl.endsWith('/')) {\r\n",
       "                rootUrl = `${rootUrl}/`;\r\n",
       "            }\r\n",
       "\r\n",
       "            try {\r\n",
       "                let response = await timeout(1000, fetch(`${rootUrl}discovery`, {\r\n",
       "                    method: 'POST',\r\n",
       "                    cache: 'no-cache',\r\n",
       "                    mode: 'cors',\r\n",
       "                    timeout: 1000,\r\n",
       "                    headers: {\r\n",
       "                        'Content-Type': 'text/plain'\r\n",
       "                    },\r\n",
       "                    body: probingAddresses[i]\r\n",
       "                }));\r\n",
       "\r\n",
       "                if (response.status == 200) {\r\n",
       "                    return rootUrl;\r\n",
       "                }\r\n",
       "            }\r\n",
       "            catch (e) { }\r\n",
       "        }\r\n",
       "    }\r\n",
       "}\r\n",
       "\r\n",
       "function loadDotnetInteractiveApi() {\r\n",
       "    probeAddresses([\"http://192.168.86.66:1001/\", \"http://127.0.0.1:1001/\"])\r\n",
       "        .then((root) => {\r\n",
       "        // use probing to find host url and api resources\r\n",
       "        // load interactive helpers and language services\r\n",
       "        let dotnetInteractiveRequire = require.config({\r\n",
       "        context: '17576.Microsoft.DotNet.Interactive.Http.HttpPort',\r\n",
       "                paths:\r\n",
       "            {\r\n",
       "                'dotnet-interactive': `${root}resources`\r\n",
       "                }\r\n",
       "        }) || require;\r\n",
       "\r\n",
       "            window.dotnetInteractiveRequire = dotnetInteractiveRequire;\r\n",
       "\r\n",
       "            window.configureRequireFromExtension = function(extensionName, extensionCacheBuster) {\r\n",
       "                let paths = {};\r\n",
       "                paths[extensionName] = `${root}extensions/${extensionName}/resources/`;\r\n",
       "                \r\n",
       "                let internalRequire = require.config({\r\n",
       "                    context: extensionCacheBuster,\r\n",
       "                    paths: paths,\r\n",
       "                    urlArgs: `cacheBuster=${extensionCacheBuster}`\r\n",
       "                    }) || require;\r\n",
       "\r\n",
       "                return internalRequire\r\n",
       "            };\r\n",
       "        \r\n",
       "            dotnetInteractiveRequire([\r\n",
       "                    'dotnet-interactive/dotnet-interactive'\r\n",
       "                ],\r\n",
       "                function (dotnet) {\r\n",
       "                    dotnet.init(window);\r\n",
       "                },\r\n",
       "                function (error) {\r\n",
       "                    console.log(error);\r\n",
       "                }\r\n",
       "            );\r\n",
       "        })\r\n",
       "        .catch(error => {console.log(error);});\r\n",
       "    }\r\n",
       "\r\n",
       "// ensure `require` is available globally\r\n",
       "if ((typeof(require) !==  typeof(Function)) || (typeof(require.config) !== typeof(Function))) {\r\n",
       "    let require_script = document.createElement('script');\r\n",
       "    require_script.setAttribute('src', 'https://cdnjs.cloudflare.com/ajax/libs/require.js/2.3.6/require.min.js');\r\n",
       "    require_script.setAttribute('type', 'text/javascript');\r\n",
       "    \r\n",
       "    \r\n",
       "    require_script.onload = function() {\r\n",
       "        loadDotnetInteractiveApi();\r\n",
       "    };\r\n",
       "\r\n",
       "    document.getElementsByTagName('head')[0].appendChild(require_script);\r\n",
       "}\r\n",
       "else {\r\n",
       "    loadDotnetInteractiveApi();\r\n",
       "}\r\n",
       "\r\n",
       "    </script>\r\n",
       "</div>"
      ]
     },
     "metadata": {},
     "output_type": "display_data"
    }
   ],
   "source": [
    "using System.IO;\n",
    "using System.Text.RegularExpressions;"
   ]
  },
  {
   "cell_type": "code",
   "execution_count": 2,
   "metadata": {},
   "outputs": [],
   "source": [
    "var input = File.ReadAllText(@\"input/16.txt\").Split(\"\\n\\n\");\n",
    "var ticketFieldRules = input[0].Split(\"\\n\");\n",
    "var myTicket = input[1].Split(\"\\n\").Last().Split(\",\").Select(int.Parse).ToArray();\n",
    "var nearbyTickets = input[2].Split(\"\\n\").Skip(1).Select(\n",
    "    line => line.Split(\",\").Select(int.Parse).ToArray()\n",
    ").ToArray();"
   ]
  },
  {
   "cell_type": "code",
   "execution_count": 3,
   "metadata": {},
   "outputs": [],
   "source": [
    "[Flags]\n",
    "enum Fields\n",
    "{\n",
    "    NONE               = 0B_0000_0000_0000_0000_0000,\n",
    "    DEPARTURE_LOCATION = 0B_0000_0000_0000_0000_0001,\n",
    "    DEPARTURE_STATION  = 0B_0000_0000_0000_0000_0010,\n",
    "    DEPARTURE_PLATFORM = 0B_0000_0000_0000_0000_0100,\n",
    "    DEPARTURE_TRACK    = 0B_0000_0000_0000_0000_1000,\n",
    "    DEPARTURE_DATE     = 0B_0000_0000_0000_0001_0000,\n",
    "    DEPARTURE_TIME     = 0B_0000_0000_0000_0010_0000,\n",
    "    ARRIVAL_LOCATION   = 0B_0000_0000_0000_0100_0000,\n",
    "    ARRIVAL_STATION    = 0B_0000_0000_0000_1000_0000,\n",
    "    ARRIVAL_PLATFORM   = 0B_0000_0000_0001_0000_0000,\n",
    "    ARRIVAL_TRACK      = 0B_0000_0000_0010_0000_0000,\n",
    "    CLASS              = 0B_0000_0000_0100_0000_0000,\n",
    "    DURATION           = 0B_0000_0000_1000_0000_0000,\n",
    "    PRICE              = 0B_0000_0001_0000_0000_0000,\n",
    "    ROUTE              = 0B_0000_0010_0000_0000_0000,\n",
    "    ROW                = 0B_0000_0100_0000_0000_0000,\n",
    "    SEAT               = 0B_0000_1000_0000_0000_0000,\n",
    "    TRAIN              = 0B_0001_0000_0000_0000_0000,\n",
    "    TYPE               = 0B_0010_0000_0000_0000_0000,\n",
    "    WAGON              = 0B_0100_0000_0000_0000_0000,\n",
    "    ZONE               = 0B_1000_0000_0000_0000_0000,\n",
    "}"
   ]
  },
  {
   "cell_type": "code",
   "execution_count": 4,
   "metadata": {},
   "outputs": [],
   "source": [
    "record Range(int Lower, int Upper);"
   ]
  },
  {
   "cell_type": "code",
   "execution_count": 5,
   "metadata": {},
   "outputs": [],
   "source": [
    "record Rule\n",
    "{\n",
    "    public Fields FieldName { get; init; }\n",
    "    public List<Range> Ranges { get; init; }\n",
    "    \n",
    "    public Rule(string rule)\n",
    "    {\n",
    "        var split = rule.Split(\": \");\n",
    "        var pattern = @\"(\\d+)-(\\d+)\";\n",
    "        \n",
    "        FieldName = Enum.Parse<Fields>(split.First().Replace(\" \", \"_\").ToUpper());\n",
    "        Ranges = Regex.Matches(split.Last(), pattern).Select(\n",
    "            match => new Range(\n",
    "                Convert.ToInt32(match.Groups[1].Value),\n",
    "                Convert.ToInt32(match.Groups[2].Value)\n",
    "            )\n",
    "        ).ToList();\n",
    "    }\n",
    "}"
   ]
  },
  {
   "cell_type": "code",
   "execution_count": 6,
   "metadata": {},
   "outputs": [
    {
     "data": {
      "text/html": [
       "<table><thead><tr><th><i>index</i></th><th>FieldName</th><th>Ranges</th></tr></thead><tbody><tr><td>0</td><td><span>DEPARTURE_LOCATION</span></td><td><div class=\"dni-plaintext\">[ Range { Lower = 49, Upper = 239 }, Range { Lower = 247, Upper = 960 } ]</div></td></tr><tr><td>1</td><td><span>DEPARTURE_STATION</span></td><td><div class=\"dni-plaintext\">[ Range { Lower = 43, Upper = 135 }, Range { Lower = 155, Upper = 963 } ]</div></td></tr><tr><td>2</td><td><span>DEPARTURE_PLATFORM</span></td><td><div class=\"dni-plaintext\">[ Range { Lower = 27, Upper = 426 }, Range { Lower = 449, Upper = 955 } ]</div></td></tr><tr><td>3</td><td><span>DEPARTURE_TRACK</span></td><td><div class=\"dni-plaintext\">[ Range { Lower = 43, Upper = 655 }, Range { Lower = 680, Upper = 949 } ]</div></td></tr><tr><td>4</td><td><span>DEPARTURE_DATE</span></td><td><div class=\"dni-plaintext\">[ Range { Lower = 49, Upper = 159 }, Range { Lower = 175, Upper = 970 } ]</div></td></tr><tr><td>5</td><td><span>DEPARTURE_TIME</span></td><td><div class=\"dni-plaintext\">[ Range { Lower = 44, Upper = 257 }, Range { Lower = 280, Upper = 970 } ]</div></td></tr><tr><td>6</td><td><span>ARRIVAL_LOCATION</span></td><td><div class=\"dni-plaintext\">[ Range { Lower = 26, Upper = 825 }, Range { Lower = 848, Upper = 950 } ]</div></td></tr><tr><td>7</td><td><span>ARRIVAL_STATION</span></td><td><div class=\"dni-plaintext\">[ Range { Lower = 25, Upper = 549 }, Range { Lower = 557, Upper = 956 } ]</div></td></tr><tr><td>8</td><td><span>ARRIVAL_PLATFORM</span></td><td><div class=\"dni-plaintext\">[ Range { Lower = 50, Upper = 460 }, Range { Lower = 486, Upper = 964 } ]</div></td></tr><tr><td>9</td><td><span>ARRIVAL_TRACK</span></td><td><div class=\"dni-plaintext\">[ Range { Lower = 50, Upper = 368 }, Range { Lower = 385, Upper = 950 } ]</div></td></tr><tr><td>10</td><td><span>CLASS</span></td><td><div class=\"dni-plaintext\">[ Range { Lower = 45, Upper = 644 }, Range { Lower = 653, Upper = 966 } ]</div></td></tr><tr><td>11</td><td><span>DURATION</span></td><td><div class=\"dni-plaintext\">[ Range { Lower = 28, Upper = 210 }, Range { Lower = 216, Upper = 972 } ]</div></td></tr><tr><td>12</td><td><span>PRICE</span></td><td><div class=\"dni-plaintext\">[ Range { Lower = 25, Upper = 193 }, Range { Lower = 206, Upper = 969 } ]</div></td></tr><tr><td>13</td><td><span>ROUTE</span></td><td><div class=\"dni-plaintext\">[ Range { Lower = 45, Upper = 727 }, Range { Lower = 734, Upper = 949 } ]</div></td></tr><tr><td>14</td><td><span>ROW</span></td><td><div class=\"dni-plaintext\">[ Range { Lower = 39, Upper = 520 }, Range { Lower = 537, Upper = 970 } ]</div></td></tr><tr><td>15</td><td><span>SEAT</span></td><td><div class=\"dni-plaintext\">[ Range { Lower = 42, Upper = 611 }, Range { Lower = 627, Upper = 956 } ]</div></td></tr><tr><td>16</td><td><span>TRAIN</span></td><td><div class=\"dni-plaintext\">[ Range { Lower = 34, Upper = 296 }, Range { Lower = 307, Upper = 952 } ]</div></td></tr><tr><td>17</td><td><span>TYPE</span></td><td><div class=\"dni-plaintext\">[ Range { Lower = 25, Upper = 343 }, Range { Lower = 349, Upper = 949 } ]</div></td></tr><tr><td>18</td><td><span>WAGON</span></td><td><div class=\"dni-plaintext\">[ Range { Lower = 41, Upper = 309 }, Range { Lower = 326, Upper = 964 } ]</div></td></tr><tr><td>19</td><td><span>ZONE</span></td><td><div class=\"dni-plaintext\">[ Range { Lower = 49, Upper = 118 }, Range { Lower = 132, Upper = 952 } ]</div></td></tr></tbody></table>"
      ]
     },
     "execution_count": 6,
     "metadata": {},
     "output_type": "execute_result"
    }
   ],
   "source": [
    "var rules = ticketFieldRules.Select(rule => new Rule(rule));\n",
    "rules"
   ]
  },
  {
   "cell_type": "code",
   "execution_count": 7,
   "metadata": {},
   "outputs": [],
   "source": [
    "bool IsValidForAnyField(int input, IEnumerable<Rule> rules)\n",
    "{\n",
    "    foreach (var rule in rules)\n",
    "    {\n",
    "        foreach (var range in rule.Ranges)\n",
    "        {\n",
    "            if (range.Lower <= input && input <= range.Upper)\n",
    "            {\n",
    "                return true;\n",
    "            }\n",
    "        }\n",
    "    }\n",
    "    \n",
    "    return false;\n",
    "}"
   ]
  },
  {
   "cell_type": "code",
   "execution_count": 8,
   "metadata": {},
   "outputs": [
    {
     "data": {
      "text/html": [
       "<div class=\"dni-plaintext\">22977</div>"
      ]
     },
     "execution_count": 8,
     "metadata": {},
     "output_type": "execute_result"
    }
   ],
   "source": [
    "nearbyTickets.SelectMany(ticket => ticket).Where(input => !IsValidForAnyField(input, rules)).Sum()"
   ]
  },
  {
   "cell_type": "markdown",
   "metadata": {},
   "source": [
    "# --- Part Two ---"
   ]
  },
  {
   "cell_type": "code",
   "execution_count": 9,
   "metadata": {},
   "outputs": [],
   "source": [
    "bool IsTicketValid(int[] ticket, IEnumerable<Rule> rules) =>\n",
    "    !ticket.Where(input => !IsValidForAnyField(input, rules)).Any();"
   ]
  },
  {
   "cell_type": "code",
   "execution_count": 10,
   "metadata": {},
   "outputs": [],
   "source": [
    "bool IsSingleField(Fields field) =>\n",
    "    field != 0 && (field & (field - 1)) == 0;"
   ]
  },
  {
   "cell_type": "code",
   "execution_count": 11,
   "metadata": {},
   "outputs": [
    {
     "data": {
      "text/html": [
       "<div class=\"dni-plaintext\">190</div>"
      ]
     },
     "execution_count": 11,
     "metadata": {},
     "output_type": "execute_result"
    }
   ],
   "source": [
    "var validTickets = nearbyTickets.Where(ticket => IsTicketValid(ticket, rules));\n",
    "validTickets.Count()"
   ]
  },
  {
   "cell_type": "code",
   "execution_count": 12,
   "metadata": {},
   "outputs": [],
   "source": [
    "Fields[] FindFieldOrder(IEnumerable<int[]> validTickets, IEnumerable<Rule> rules)\n",
    "{\n",
    "    var fieldOrder = Enumerable.Range(0, rules.Count())\n",
    "        .Select(index => (Fields)(0B_1111_1111_1111_1111_1111))\n",
    "        .ToArray();\n",
    "    \n",
    "    foreach (var ticket in validTickets)\n",
    "    {\n",
    "        for (var i = 0; i < ticket.Length; i++)\n",
    "        {\n",
    "            foreach (var rule in rules)\n",
    "            {\n",
    "                var valid = false;\n",
    "                foreach (var range in rule.Ranges)\n",
    "                {\n",
    "                    if (range.Lower <= ticket[i] && ticket[i] <= range.Upper)\n",
    "                    {\n",
    "                        valid = true;\n",
    "                        break;\n",
    "                    }\n",
    "                }\n",
    "                \n",
    "                if (!valid)\n",
    "                {\n",
    "                    fieldOrder[i] = fieldOrder[i] ^ rule.FieldName;\n",
    "                }\n",
    "            }\n",
    "        }\n",
    "    }\n",
    "    \n",
    "    var fieldsWithSingleFlag = fieldOrder.Where(field => IsSingleField(field));\n",
    "    while (fieldsWithSingleFlag.Count() != fieldOrder.Count())\n",
    "    {\n",
    "        foreach (var singleFlag in fieldsWithSingleFlag)\n",
    "        {\n",
    "            for (var i = 0; i < fieldOrder.Count(); i++)\n",
    "            {\n",
    "                var field = fieldOrder[i];\n",
    "                if (!IsSingleField(field) && field.HasFlag(singleFlag))\n",
    "                {\n",
    "                    fieldOrder[i] = field ^ singleFlag;\n",
    "                }\n",
    "            }\n",
    "        }\n",
    "    }\n",
    "    \n",
    "    return fieldOrder;\n",
    "}"
   ]
  },
  {
   "cell_type": "code",
   "execution_count": 13,
   "metadata": {},
   "outputs": [
    {
     "name": "stdout",
     "output_type": "stream",
     "text": [
      "Index: 0, Field: ROW\n",
      "Index: 1, Field: DEPARTURE_TRACK\n",
      "Index: 2, Field: DURATION\n",
      "Index: 3, Field: ARRIVAL_STATION\n",
      "Index: 4, Field: DEPARTURE_DATE\n",
      "Index: 5, Field: CLASS\n",
      "Index: 6, Field: TYPE\n",
      "Index: 7, Field: ARRIVAL_LOCATION\n",
      "Index: 8, Field: PRICE\n",
      "Index: 9, Field: TRAIN\n",
      "Index: 10, Field: SEAT\n",
      "Index: 11, Field: ARRIVAL_PLATFORM\n",
      "Index: 12, Field: ZONE\n",
      "Index: 13, Field: DEPARTURE_LOCATION\n",
      "Index: 14, Field: DEPARTURE_STATION\n",
      "Index: 15, Field: DEPARTURE_PLATFORM\n",
      "Index: 16, Field: ROUTE\n",
      "Index: 17, Field: DEPARTURE_TIME\n",
      "Index: 18, Field: ARRIVAL_TRACK\n",
      "Index: 19, Field: WAGON\n"
     ]
    }
   ],
   "source": [
    "var fieldOrder = FindFieldOrder(validTickets, rules);\n",
    "\n",
    "for (var i = 0; i < fieldOrder.Count(); i++)\n",
    "{\n",
    "    Console.WriteLine($\"Index: {i}, Field: {fieldOrder[i]}\");\n",
    "}"
   ]
  },
  {
   "cell_type": "code",
   "execution_count": 14,
   "metadata": {},
   "outputs": [
    {
     "data": {
      "text/html": [
       "<div class=\"dni-plaintext\">998358379943</div>"
      ]
     },
     "execution_count": 14,
     "metadata": {},
     "output_type": "execute_result"
    }
   ],
   "source": [
    "fieldOrder\n",
    "    .Zip(myTicket, (f, v) => (Field: Enum.GetName<Fields>(f), Value: v))\n",
    "    .Where(t => t.Field.StartsWith(\"DEPARTURE\"))\n",
    "    .Select(t => (long)t.Value)\n",
    "    .Aggregate((a, b) => a*b)"
   ]
  }
 ],
 "metadata": {
  "kernelspec": {
   "display_name": ".NET (C#)",
   "language": "C#",
   "name": ".net-csharp"
  },
  "language_info": {
   "file_extension": ".cs",
   "mimetype": "text/x-csharp",
   "name": "C#",
   "pygments_lexer": "csharp",
   "version": "8.0"
  }
 },
 "nbformat": 4,
 "nbformat_minor": 4
}
