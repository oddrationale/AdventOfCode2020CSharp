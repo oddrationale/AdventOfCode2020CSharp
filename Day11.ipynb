{
 "cells": [
  {
   "cell_type": "markdown",
   "metadata": {},
   "source": [
    "[![Binder](https://mybinder.org/badge_logo.svg)](https://mybinder.org/v2/gh/oddrationale/AdventOfCode2020CSharp/main?urlpath=lab%2Ftree%2FDay11.ipynb)"
   ]
  },
  {
   "cell_type": "markdown",
   "metadata": {},
   "source": [
    "# --- Day 11: Seating System ---"
   ]
  },
  {
   "cell_type": "code",
   "execution_count": 1,
   "metadata": {},
   "outputs": [],
   "source": [
    "using System.IO;"
   ]
  },
  {
   "cell_type": "code",
   "execution_count": 184,
   "metadata": {},
   "outputs": [],
   "source": [
    "var initialSeatLayout = File.ReadAllLines(@\"input/11.txt\").Select(line => line.ToCharArray()).ToArray();"
   ]
  },
  {
   "cell_type": "code",
   "execution_count": 149,
   "metadata": {},
   "outputs": [],
   "source": [
    "char[][] GenerateNextLayout(char[][] layout)\n",
    "{\n",
    "    var nextLayout = layout.Select(arr => (char[])arr.Clone()).ToArray();\n",
    "    var maxRow = layout.Length;\n",
    "    var maxCol = layout.First().Length;\n",
    "    \n",
    "    ValueTuple<int, int>[] directions = {\n",
    "        (1, 0),\n",
    "        (-1, 0),\n",
    "        (0, -1),\n",
    "        (0, 1),\n",
    "        (-1, 1),\n",
    "        (1, 1),\n",
    "        (1, -1),\n",
    "        (-1, -1),\n",
    "    };\n",
    "    \n",
    "    for (int i = 0; i < maxRow; i++)\n",
    "    {\n",
    "        for (int j = 0; j < maxCol; j++)\n",
    "        {\n",
    "            if (layout[i][j] == '.')\n",
    "            {\n",
    "                continue;\n",
    "            }\n",
    "            \n",
    "            var adjacents = new List<char>();\n",
    "            foreach (var d in directions)\n",
    "            {\n",
    "                var steps = 1;\n",
    "                while (0 <= i + steps*d.Item1 && i + steps*d.Item1 < maxRow \n",
    "                       && 0 <= j + steps*d.Item2 && j + steps*d.Item2 < maxCol)\n",
    "                {\n",
    "                    if (layout[i + steps*d.Item1][j + steps*d.Item2] != '.')\n",
    "                    {\n",
    "                        adjacents.Add(layout[i + steps*d.Item1][j + steps*d.Item2]);\n",
    "                        break;\n",
    "                    }\n",
    "                    steps++;\n",
    "                }\n",
    "            }\n",
    "            \n",
    "            if (layout[i][j] == 'L' && !adjacents.Where(seat => seat == '#').Any())\n",
    "            {\n",
    "                nextLayout[i][j] = '#';\n",
    "            }\n",
    "            else if (layout[i][j] == '#' && adjacents.Where(seat => seat == '#').Count() >= 4)\n",
    "            {\n",
    "                nextLayout[i][j] = 'L';\n",
    "            }\n",
    "        }\n",
    "    }\n",
    "    \n",
    "    return nextLayout;\n",
    "}"
   ]
  },
  {
   "cell_type": "code",
   "execution_count": 150,
   "metadata": {},
   "outputs": [],
   "source": [
    "int CountFinalOccupiedSeats(char[][] layout)\n",
    "{\n",
    "    char[][] currentLayout;\n",
    "    var nextLayout = layout;\n",
    "    \n",
    "    do\n",
    "    {\n",
    "        currentLayout = nextLayout;\n",
    "        nextLayout = GenerateNextLayout(currentLayout);\n",
    "    } while (string.Join(\"\\n\", currentLayout.Select(row => string.Join(string.Empty, row))) \n",
    "             != string.Join(\"\\n\", nextLayout.Select(row => string.Join(string.Empty, row))));\n",
    "    return currentLayout.SelectMany(row => row).Where(seat => seat == '#').Count();\n",
    "}"
   ]
  },
  {
   "cell_type": "code",
   "execution_count": 156,
   "metadata": {},
   "outputs": [
    {
     "data": {
      "text/html": [
       "<div class=\"dni-plaintext\">37</div>"
      ]
     },
     "execution_count": 156,
     "metadata": {},
     "output_type": "execute_result"
    }
   ],
   "source": [
    "CountFinalOccupiedSeats(initialSeatLayout)"
   ]
  },
  {
   "cell_type": "markdown",
   "metadata": {},
   "source": [
    "# --- Part Two ---"
   ]
  },
  {
   "cell_type": "code",
   "execution_count": 185,
   "metadata": {},
   "outputs": [],
   "source": [
    "char[][] GenerateNextLayout2(char[][] layout)\n",
    "{\n",
    "    var nextLayout = layout.Select(arr => (char[])arr.Clone()).ToArray();\n",
    "    var maxRow = layout.Length;\n",
    "    var maxCol = layout.First().Length;\n",
    "    \n",
    "    ValueTuple<int, int>[] directions = {\n",
    "        (1, 0),\n",
    "        (-1, 0),\n",
    "        (0, -1),\n",
    "        (0, 1),\n",
    "        (-1, 1),\n",
    "        (1, 1),\n",
    "        (1, -1),\n",
    "        (-1, -1),\n",
    "    };\n",
    "    \n",
    "    for (int i = 0; i < maxRow; i++)\n",
    "    {\n",
    "        for (int j = 0; j < maxCol; j++)\n",
    "        {\n",
    "            if (layout[i][j] == '.')\n",
    "            {\n",
    "                continue;\n",
    "            }\n",
    "            \n",
    "            var adjacents = new List<char>();\n",
    "            foreach (var d in directions)\n",
    "            {\n",
    "                var steps = 1;\n",
    "                while (0 <= i + steps*d.Item1 && i + steps*d.Item1 < maxRow \n",
    "                       && 0 <= j + steps*d.Item2 && j + steps*d.Item2 < maxCol)\n",
    "                {\n",
    "                    if (layout[i + steps*d.Item1][j + steps*d.Item2] != '.')\n",
    "                    {\n",
    "                        adjacents.Add(layout[i + steps*d.Item1][j + steps*d.Item2]);\n",
    "                        break;\n",
    "                    }\n",
    "                    steps++;\n",
    "                }\n",
    "            }\n",
    "            \n",
    "            if (layout[i][j] == 'L' && !adjacents.Where(seat => seat == '#').Any())\n",
    "            {\n",
    "                nextLayout[i][j] = '#';\n",
    "            }\n",
    "            else if (layout[i][j] == '#' && adjacents.Where(seat => seat == '#').Count() >= 5)\n",
    "            {\n",
    "                nextLayout[i][j] = 'L';\n",
    "            }\n",
    "        }\n",
    "    }\n",
    "    \n",
    "    return nextLayout;\n",
    "}"
   ]
  },
  {
   "cell_type": "code",
   "execution_count": 186,
   "metadata": {},
   "outputs": [],
   "source": [
    "int CountFinalOccupiedSeats2(char[][] layout)\n",
    "{\n",
    "    char[][] currentLayout;\n",
    "    var nextLayout = layout;\n",
    "    \n",
    "    do\n",
    "    {\n",
    "        currentLayout = nextLayout;\n",
    "        nextLayout = GenerateNextLayout(currentLayout);\n",
    "    } while (string.Join(\"\\n\", currentLayout.Select(row => string.Join(string.Empty, row))) \n",
    "             != string.Join(\"\\n\", nextLayout.Select(row => string.Join(string.Empty, row))));\n",
    "    return currentLayout.SelectMany(row => row).Where(seat => seat == '#').Count();\n",
    "}"
   ]
  },
  {
   "cell_type": "code",
   "execution_count": 187,
   "metadata": {},
   "outputs": [
    {
     "data": {
      "text/html": [
       "<div class=\"dni-plaintext\">2072</div>"
      ]
     },
     "execution_count": 187,
     "metadata": {},
     "output_type": "execute_result"
    }
   ],
   "source": [
    "CountFinalOccupiedSeats2(initialSeatLayout)"
   ]
  }
 ],
 "metadata": {
  "kernelspec": {
   "display_name": ".NET (C#)",
   "language": "C#",
   "name": ".net-csharp"
  },
  "language_info": {
   "file_extension": ".cs",
   "mimetype": "text/x-csharp",
   "name": "C#",
   "pygments_lexer": "csharp",
   "version": "8.0"
  }
 },
 "nbformat": 4,
 "nbformat_minor": 4
}
