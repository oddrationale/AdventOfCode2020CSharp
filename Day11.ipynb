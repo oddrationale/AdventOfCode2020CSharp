{
 "cells": [
  {
   "cell_type": "markdown",
   "metadata": {},
   "source": [
    "[![Binder](https://mybinder.org/badge_logo.svg)](https://mybinder.org/v2/gh/oddrationale/AdventOfCode2020CSharp/main?urlpath=lab%2Ftree%2FDay11.ipynb)"
   ]
  },
  {
   "cell_type": "markdown",
   "metadata": {},
   "source": [
    "# --- Day 11: Seating System ---"
   ]
  },
  {
   "cell_type": "code",
   "execution_count": 1,
   "metadata": {},
   "outputs": [
    {
     "data": {
      "text/html": [
       "\r\n",
       "<div>\r\n",
       "    <div id='dotnet-interactive-this-cell-18588.Microsoft.DotNet.Interactive.Http.HttpPort' style='display: none'>\r\n",
       "        The below script needs to be able to find the current output cell; this is an easy method to get it.\r\n",
       "    </div>\r\n",
       "    <script type='text/javascript'>\r\n",
       "async function probeAddresses(probingAddresses) {\r\n",
       "    function timeout(ms, promise) {\r\n",
       "        return new Promise(function (resolve, reject) {\r\n",
       "            setTimeout(function () {\r\n",
       "                reject(new Error('timeout'))\r\n",
       "            }, ms)\r\n",
       "            promise.then(resolve, reject)\r\n",
       "        })\r\n",
       "    }\r\n",
       "\r\n",
       "    if (Array.isArray(probingAddresses)) {\r\n",
       "        for (let i = 0; i < probingAddresses.length; i++) {\r\n",
       "\r\n",
       "            let rootUrl = probingAddresses[i];\r\n",
       "\r\n",
       "            if (!rootUrl.endsWith('/')) {\r\n",
       "                rootUrl = `${rootUrl}/`;\r\n",
       "            }\r\n",
       "\r\n",
       "            try {\r\n",
       "                let response = await timeout(1000, fetch(`${rootUrl}discovery`, {\r\n",
       "                    method: 'POST',\r\n",
       "                    cache: 'no-cache',\r\n",
       "                    mode: 'cors',\r\n",
       "                    timeout: 1000,\r\n",
       "                    headers: {\r\n",
       "                        'Content-Type': 'text/plain'\r\n",
       "                    },\r\n",
       "                    body: probingAddresses[i]\r\n",
       "                }));\r\n",
       "\r\n",
       "                if (response.status == 200) {\r\n",
       "                    return rootUrl;\r\n",
       "                }\r\n",
       "            }\r\n",
       "            catch (e) { }\r\n",
       "        }\r\n",
       "    }\r\n",
       "}\r\n",
       "\r\n",
       "function loadDotnetInteractiveApi() {\r\n",
       "    probeAddresses([\"http://192.168.86.66:1004/\", \"http://127.0.0.1:1004/\"])\r\n",
       "        .then((root) => {\r\n",
       "        // use probing to find host url and api resources\r\n",
       "        // load interactive helpers and language services\r\n",
       "        let dotnetInteractiveRequire = require.config({\r\n",
       "        context: '18588.Microsoft.DotNet.Interactive.Http.HttpPort',\r\n",
       "                paths:\r\n",
       "            {\r\n",
       "                'dotnet-interactive': `${root}resources`\r\n",
       "                }\r\n",
       "        }) || require;\r\n",
       "\r\n",
       "            window.dotnetInteractiveRequire = dotnetInteractiveRequire;\r\n",
       "\r\n",
       "            window.configureRequireFromExtension = function(extensionName, extensionCacheBuster) {\r\n",
       "                let paths = {};\r\n",
       "                paths[extensionName] = `${root}extensions/${extensionName}/resources/`;\r\n",
       "                \r\n",
       "                let internalRequire = require.config({\r\n",
       "                    context: extensionCacheBuster,\r\n",
       "                    paths: paths,\r\n",
       "                    urlArgs: `cacheBuster=${extensionCacheBuster}`\r\n",
       "                    }) || require;\r\n",
       "\r\n",
       "                return internalRequire\r\n",
       "            };\r\n",
       "        \r\n",
       "            dotnetInteractiveRequire([\r\n",
       "                    'dotnet-interactive/dotnet-interactive'\r\n",
       "                ],\r\n",
       "                function (dotnet) {\r\n",
       "                    dotnet.init(window);\r\n",
       "                },\r\n",
       "                function (error) {\r\n",
       "                    console.log(error);\r\n",
       "                }\r\n",
       "            );\r\n",
       "        })\r\n",
       "        .catch(error => {console.log(error);});\r\n",
       "    }\r\n",
       "\r\n",
       "// ensure `require` is available globally\r\n",
       "if ((typeof(require) !==  typeof(Function)) || (typeof(require.config) !== typeof(Function))) {\r\n",
       "    let require_script = document.createElement('script');\r\n",
       "    require_script.setAttribute('src', 'https://cdnjs.cloudflare.com/ajax/libs/require.js/2.3.6/require.min.js');\r\n",
       "    require_script.setAttribute('type', 'text/javascript');\r\n",
       "    \r\n",
       "    \r\n",
       "    require_script.onload = function() {\r\n",
       "        loadDotnetInteractiveApi();\r\n",
       "    };\r\n",
       "\r\n",
       "    document.getElementsByTagName('head')[0].appendChild(require_script);\r\n",
       "}\r\n",
       "else {\r\n",
       "    loadDotnetInteractiveApi();\r\n",
       "}\r\n",
       "\r\n",
       "    </script>\r\n",
       "</div>"
      ]
     },
     "metadata": {},
     "output_type": "display_data"
    }
   ],
   "source": [
    "using System.IO;"
   ]
  },
  {
   "cell_type": "code",
   "execution_count": 2,
   "metadata": {},
   "outputs": [],
   "source": [
    "var initialSeatLayout = File.ReadAllLines(@\"input/11.txt\").Select(line => line.ToCharArray()).ToArray();"
   ]
  },
  {
   "cell_type": "code",
   "execution_count": 8,
   "metadata": {},
   "outputs": [
    {
     "name": "stderr",
     "output_type": "stream",
     "text": [
      "\n",
      "(2,18): warning CS8123: The tuple element name 'X' is ignored because a different name or no name is specified by the target type '(int, int)'.\n",
      "\n",
      "(2,24): warning CS8123: The tuple element name 'Y' is ignored because a different name or no name is specified by the target type '(int, int)'.\n",
      "\n"
     ]
    }
   ],
   "source": [
    "var directions = new ValueTuple<int, int>[8];\n",
    "directions[0] = (X: 1, Y: 0);"
   ]
  },
  {
   "cell_type": "code",
   "execution_count": 3,
   "metadata": {},
   "outputs": [],
   "source": [
    "char[][] GenerateNextLayout(char[][] layout)\n",
    "{\n",
    "    var nextLayout = layout.Select(arr => (char[])arr.Clone()).ToArray();\n",
    "    var maxRow = layout.Length;\n",
    "    var maxCol = layout.First().Length;\n",
    "    \n",
    "    ValueTuple<int, int>[] directions = {\n",
    "        (X: 1, Y: 0),\n",
    "        (X: -1, Y: 0),\n",
    "        (0, -1),\n",
    "        (0, 1),\n",
    "        (-1, 1),\n",
    "        (1, 1),\n",
    "        (1, -1),\n",
    "        (-1, -1),\n",
    "    };\n",
    "    \n",
    "    for (int i = 0; i < maxRow; i++)\n",
    "    {\n",
    "        for (int j = 0; j < maxCol; j++)\n",
    "        {\n",
    "            if (layout[i][j] == '.')\n",
    "            {\n",
    "                continue;\n",
    "            }\n",
    "            \n",
    "            var adjacents = new List<char>();\n",
    "            foreach (var d in directions)\n",
    "            {\n",
    "                var steps = 1;\n",
    "                while (0 <= i + steps*d.Item1 && i + steps*d.Item1 < maxRow \n",
    "                       && 0 <= j + steps*d.Item2 && j + steps*d.Item2 < maxCol)\n",
    "                {\n",
    "                    if (layout[i + steps*d.Item1][j + steps*d.Item2] != '.')\n",
    "                    {\n",
    "                        adjacents.Add(layout[i + steps*d.Item1][j + steps*d.Item2]);\n",
    "                        break;\n",
    "                    }\n",
    "                    steps++;\n",
    "                }\n",
    "            }\n",
    "            \n",
    "            if (layout[i][j] == 'L' && !adjacents.Where(seat => seat == '#').Any())\n",
    "            {\n",
    "                nextLayout[i][j] = '#';\n",
    "            }\n",
    "            else if (layout[i][j] == '#' && adjacents.Where(seat => seat == '#').Count() >= 4)\n",
    "            {\n",
    "                nextLayout[i][j] = 'L';\n",
    "            }\n",
    "        }\n",
    "    }\n",
    "    \n",
    "    return nextLayout;\n",
    "}"
   ]
  },
  {
   "cell_type": "code",
   "execution_count": 4,
   "metadata": {},
   "outputs": [],
   "source": [
    "int CountFinalOccupiedSeats(char[][] layout)\n",
    "{\n",
    "    char[][] currentLayout;\n",
    "    var nextLayout = layout;\n",
    "    \n",
    "    do\n",
    "    {\n",
    "        currentLayout = nextLayout;\n",
    "        nextLayout = GenerateNextLayout(currentLayout);\n",
    "    } while (string.Join(\"\\n\", currentLayout.Select(row => string.Join(string.Empty, row))) \n",
    "             != string.Join(\"\\n\", nextLayout.Select(row => string.Join(string.Empty, row))));\n",
    "    return currentLayout.SelectMany(row => row).Where(seat => seat == '#').Count();\n",
    "}"
   ]
  },
  {
   "cell_type": "code",
   "execution_count": null,
   "metadata": {},
   "outputs": [],
   "source": [
    "CountFinalOccupiedSeats(initialSeatLayout)"
   ]
  },
  {
   "cell_type": "markdown",
   "metadata": {},
   "source": [
    "# --- Part Two ---"
   ]
  },
  {
   "cell_type": "code",
   "execution_count": 185,
   "metadata": {},
   "outputs": [],
   "source": [
    "char[][] GenerateNextLayout2(char[][] layout)\n",
    "{\n",
    "    var nextLayout = layout.Select(arr => (char[])arr.Clone()).ToArray();\n",
    "    var maxRow = layout.Length;\n",
    "    var maxCol = layout.First().Length;\n",
    "    \n",
    "    ValueTuple<int, int>[] directions = {\n",
    "        (1, 0),\n",
    "        (-1, 0),\n",
    "        (0, -1),\n",
    "        (0, 1),\n",
    "        (-1, 1),\n",
    "        (1, 1),\n",
    "        (1, -1),\n",
    "        (-1, -1),\n",
    "    };\n",
    "    \n",
    "    for (int i = 0; i < maxRow; i++)\n",
    "    {\n",
    "        for (int j = 0; j < maxCol; j++)\n",
    "        {\n",
    "            if (layout[i][j] == '.')\n",
    "            {\n",
    "                continue;\n",
    "            }\n",
    "            \n",
    "            var adjacents = new List<char>();\n",
    "            foreach (var d in directions)\n",
    "            {\n",
    "                var steps = 1;\n",
    "                while (0 <= i + steps*d.Item1 && i + steps*d.Item1 < maxRow \n",
    "                       && 0 <= j + steps*d.Item2 && j + steps*d.Item2 < maxCol)\n",
    "                {\n",
    "                    if (layout[i + steps*d.Item1][j + steps*d.Item2] != '.')\n",
    "                    {\n",
    "                        adjacents.Add(layout[i + steps*d.Item1][j + steps*d.Item2]);\n",
    "                        break;\n",
    "                    }\n",
    "                    steps++;\n",
    "                }\n",
    "            }\n",
    "            \n",
    "            if (layout[i][j] == 'L' && !adjacents.Where(seat => seat == '#').Any())\n",
    "            {\n",
    "                nextLayout[i][j] = '#';\n",
    "            }\n",
    "            else if (layout[i][j] == '#' && adjacents.Where(seat => seat == '#').Count() >= 5)\n",
    "            {\n",
    "                nextLayout[i][j] = 'L';\n",
    "            }\n",
    "        }\n",
    "    }\n",
    "    \n",
    "    return nextLayout;\n",
    "}"
   ]
  },
  {
   "cell_type": "code",
   "execution_count": 186,
   "metadata": {},
   "outputs": [],
   "source": [
    "int CountFinalOccupiedSeats2(char[][] layout)\n",
    "{\n",
    "    char[][] currentLayout;\n",
    "    var nextLayout = layout;\n",
    "    \n",
    "    do\n",
    "    {\n",
    "        currentLayout = nextLayout;\n",
    "        nextLayout = GenerateNextLayout(currentLayout);\n",
    "    } while (string.Join(\"\\n\", currentLayout.Select(row => string.Join(string.Empty, row))) \n",
    "             != string.Join(\"\\n\", nextLayout.Select(row => string.Join(string.Empty, row))));\n",
    "    return currentLayout.SelectMany(row => row).Where(seat => seat == '#').Count();\n",
    "}"
   ]
  },
  {
   "cell_type": "code",
   "execution_count": 187,
   "metadata": {},
   "outputs": [
    {
     "data": {
      "text/html": [
       "<div class=\"dni-plaintext\">2072</div>"
      ]
     },
     "execution_count": 187,
     "metadata": {},
     "output_type": "execute_result"
    }
   ],
   "source": [
    "CountFinalOccupiedSeats2(initialSeatLayout)"
   ]
  }
 ],
 "metadata": {
  "kernelspec": {
   "display_name": ".NET (C#)",
   "language": "C#",
   "name": ".net-csharp"
  },
  "language_info": {
   "file_extension": ".cs",
   "mimetype": "text/x-csharp",
   "name": "C#",
   "pygments_lexer": "csharp",
   "version": "8.0"
  }
 },
 "nbformat": 4,
 "nbformat_minor": 4
}
