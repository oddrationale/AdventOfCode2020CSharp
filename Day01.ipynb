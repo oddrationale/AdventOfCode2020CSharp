{
 "cells": [
  {
   "cell_type": "markdown",
   "metadata": {},
   "source": [
    "[![Binder](https://mybinder.org/badge_logo.svg)](https://mybinder.org/v2/gh/oddrationale/AdventOfCode2020CSharp/main?urlpath=lab%2Ftree%2FDay01.ipynb)"
   ]
  },
  {
   "cell_type": "markdown",
   "metadata": {},
   "source": [
    "# --- Day 1: Report Repair ---"
   ]
  },
  {
   "cell_type": "code",
   "execution_count": 2,
   "metadata": {},
   "outputs": [],
   "source": [
    "using System.IO;"
   ]
  },
  {
   "cell_type": "markdown",
   "metadata": {},
   "source": [
    "Read the input file and convert each line to an integer."
   ]
  },
  {
   "cell_type": "code",
   "execution_count": 3,
   "metadata": {},
   "outputs": [
    {
     "data": {
      "text/html": [
       "<table><thead><tr><th><i>index</i></th><th>value</th></tr></thead><tbody><tr><td>0</td><td><div class=\"dni-plaintext\">997</div></td></tr><tr><td>1</td><td><div class=\"dni-plaintext\">1582</div></td></tr><tr><td>2</td><td><div class=\"dni-plaintext\">1790</div></td></tr><tr><td>3</td><td><div class=\"dni-plaintext\">1798</div></td></tr><tr><td>4</td><td><div class=\"dni-plaintext\">1094</div></td></tr><tr><td>5</td><td><div class=\"dni-plaintext\">1831</div></td></tr><tr><td>6</td><td><div class=\"dni-plaintext\">1879</div></td></tr><tr><td>7</td><td><div class=\"dni-plaintext\">1730</div></td></tr><tr><td>8</td><td><div class=\"dni-plaintext\">1995</div></td></tr><tr><td>9</td><td><div class=\"dni-plaintext\">1702</div></td></tr><tr><td>10</td><td><div class=\"dni-plaintext\">1680</div></td></tr><tr><td>11</td><td><div class=\"dni-plaintext\">1869</div></td></tr><tr><td>12</td><td><div class=\"dni-plaintext\">1964</div></td></tr><tr><td>13</td><td><div class=\"dni-plaintext\">1777</div></td></tr><tr><td>14</td><td><div class=\"dni-plaintext\">1862</div></td></tr><tr><td>15</td><td><div class=\"dni-plaintext\">1928</div></td></tr><tr><td>16</td><td><div class=\"dni-plaintext\">1997</div></td></tr><tr><td>17</td><td><div class=\"dni-plaintext\">1741</div></td></tr><tr><td>18</td><td><div class=\"dni-plaintext\">1604</div></td></tr><tr><td>19</td><td><div class=\"dni-plaintext\">1691</div></td></tr><tr><td colspan=\"2\">(180 more)</td></tr></tbody></table>"
      ]
     },
     "execution_count": 3,
     "metadata": {},
     "output_type": "execute_result"
    }
   ],
   "source": [
    "var myExpenseReport = File.ReadAllLines(@\"input/01.txt\").Select(x => Convert.ToInt32(x)).ToArray();\n",
    "myExpenseReport"
   ]
  },
  {
   "cell_type": "markdown",
   "metadata": {},
   "source": [
    "In order to make sure to not include the same number twice and to not check the same combination twice, the index of the inner loop starts at the index of the outer loop + 1."
   ]
  },
  {
   "cell_type": "code",
   "execution_count": 4,
   "metadata": {},
   "outputs": [],
   "source": [
    "int Find2Entries(int[] expenseReport, int target)\n",
    "{\n",
    "    for (int i = 0; i < expenseReport.Length; i++)\n",
    "    {\n",
    "        for (int j = i + 1; j < expenseReport.Length; j++)\n",
    "        {\n",
    "            if (expenseReport[i] + expenseReport[j] == target)\n",
    "            {\n",
    "                return expenseReport[i] * expenseReport[j];\n",
    "            }\n",
    "        }\n",
    "    }\n",
    "    return 0;\n",
    "}"
   ]
  },
  {
   "cell_type": "code",
   "execution_count": 5,
   "metadata": {},
   "outputs": [
    {
     "data": {
      "text/html": [
       "<div class=\"dni-plaintext\">910539</div>"
      ]
     },
     "execution_count": 5,
     "metadata": {},
     "output_type": "execute_result"
    }
   ],
   "source": [
    "Find2Entries(myExpenseReport, 2020)"
   ]
  },
  {
   "cell_type": "markdown",
   "metadata": {},
   "source": [
    "# --- Part Two ---"
   ]
  },
  {
   "cell_type": "markdown",
   "metadata": {},
   "source": [
    "Same as above but add a third loop level."
   ]
  },
  {
   "cell_type": "code",
   "execution_count": 6,
   "metadata": {},
   "outputs": [],
   "source": [
    "int Find3Entries(int[] expenseReport, int target)\n",
    "{\n",
    "    for (int i = 0; i < expenseReport.Length; i++)\n",
    "    {\n",
    "        for (int j = i + 1; j < expenseReport.Length; j++)\n",
    "        {\n",
    "            for (int k = j + 1; k < expenseReport.Length; k++)\n",
    "            {\n",
    "                if (expenseReport[i] + expenseReport[j] + expenseReport[k] == target)\n",
    "                {\n",
    "                    return expenseReport[i] * expenseReport[j] * expenseReport[k];\n",
    "                }\n",
    "            }\n",
    "        }\n",
    "    }\n",
    "    return 0;\n",
    "}"
   ]
  },
  {
   "cell_type": "code",
   "execution_count": 7,
   "metadata": {},
   "outputs": [
    {
     "data": {
      "text/html": [
       "<div class=\"dni-plaintext\">116724144</div>"
      ]
     },
     "execution_count": 7,
     "metadata": {},
     "output_type": "execute_result"
    }
   ],
   "source": [
    "Find3Entries(myExpenseReport, 2020)"
   ]
  }
 ],
 "metadata": {
  "kernelspec": {
   "display_name": ".NET (C#)",
   "language": "C#",
   "name": ".net-csharp"
  },
  "language_info": {
   "file_extension": ".cs",
   "mimetype": "text/x-csharp",
   "name": "C#",
   "pygments_lexer": "csharp",
   "version": "8.0"
  }
 },
 "nbformat": 4,
 "nbformat_minor": 4
}
