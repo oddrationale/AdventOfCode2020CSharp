{
 "cells": [
  {
   "cell_type": "markdown",
   "metadata": {},
   "source": [
    "[![Binder](https://mybinder.org/badge_logo.svg)](https://mybinder.org/v2/gh/oddrationale/AdventOfCode2020CSharp/main?urlpath=lab%2Ftree%2FDay20.ipynb)"
   ]
  },
  {
   "cell_type": "markdown",
   "metadata": {},
   "source": [
    "# Day20"
   ]
  },
  {
   "cell_type": "code",
   "execution_count": 1,
   "metadata": {},
   "outputs": [
    {
     "data": {
      "text/html": [
       "\r\n",
       "<div>\r\n",
       "    <div id='dotnet-interactive-this-cell-3188.Microsoft.DotNet.Interactive.Http.HttpPort' style='display: none'>\r\n",
       "        The below script needs to be able to find the current output cell; this is an easy method to get it.\r\n",
       "    </div>\r\n",
       "    <script type='text/javascript'>\r\n",
       "async function probeAddresses(probingAddresses) {\r\n",
       "    function timeout(ms, promise) {\r\n",
       "        return new Promise(function (resolve, reject) {\r\n",
       "            setTimeout(function () {\r\n",
       "                reject(new Error('timeout'))\r\n",
       "            }, ms)\r\n",
       "            promise.then(resolve, reject)\r\n",
       "        })\r\n",
       "    }\r\n",
       "\r\n",
       "    if (Array.isArray(probingAddresses)) {\r\n",
       "        for (let i = 0; i < probingAddresses.length; i++) {\r\n",
       "\r\n",
       "            let rootUrl = probingAddresses[i];\r\n",
       "\r\n",
       "            if (!rootUrl.endsWith('/')) {\r\n",
       "                rootUrl = `${rootUrl}/`;\r\n",
       "            }\r\n",
       "\r\n",
       "            try {\r\n",
       "                let response = await timeout(1000, fetch(`${rootUrl}discovery`, {\r\n",
       "                    method: 'POST',\r\n",
       "                    cache: 'no-cache',\r\n",
       "                    mode: 'cors',\r\n",
       "                    timeout: 1000,\r\n",
       "                    headers: {\r\n",
       "                        'Content-Type': 'text/plain'\r\n",
       "                    },\r\n",
       "                    body: probingAddresses[i]\r\n",
       "                }));\r\n",
       "\r\n",
       "                if (response.status == 200) {\r\n",
       "                    return rootUrl;\r\n",
       "                }\r\n",
       "            }\r\n",
       "            catch (e) { }\r\n",
       "        }\r\n",
       "    }\r\n",
       "}\r\n",
       "\r\n",
       "function loadDotnetInteractiveApi() {\r\n",
       "    probeAddresses([\"http://192.168.86.66:1000/\", \"http://127.0.0.1:1000/\"])\r\n",
       "        .then((root) => {\r\n",
       "        // use probing to find host url and api resources\r\n",
       "        // load interactive helpers and language services\r\n",
       "        let dotnetInteractiveRequire = require.config({\r\n",
       "        context: '3188.Microsoft.DotNet.Interactive.Http.HttpPort',\r\n",
       "                paths:\r\n",
       "            {\r\n",
       "                'dotnet-interactive': `${root}resources`\r\n",
       "                }\r\n",
       "        }) || require;\r\n",
       "\r\n",
       "            window.dotnetInteractiveRequire = dotnetInteractiveRequire;\r\n",
       "\r\n",
       "            window.configureRequireFromExtension = function(extensionName, extensionCacheBuster) {\r\n",
       "                let paths = {};\r\n",
       "                paths[extensionName] = `${root}extensions/${extensionName}/resources/`;\r\n",
       "                \r\n",
       "                let internalRequire = require.config({\r\n",
       "                    context: extensionCacheBuster,\r\n",
       "                    paths: paths,\r\n",
       "                    urlArgs: `cacheBuster=${extensionCacheBuster}`\r\n",
       "                    }) || require;\r\n",
       "\r\n",
       "                return internalRequire\r\n",
       "            };\r\n",
       "        \r\n",
       "            dotnetInteractiveRequire([\r\n",
       "                    'dotnet-interactive/dotnet-interactive'\r\n",
       "                ],\r\n",
       "                function (dotnet) {\r\n",
       "                    dotnet.init(window);\r\n",
       "                },\r\n",
       "                function (error) {\r\n",
       "                    console.log(error);\r\n",
       "                }\r\n",
       "            );\r\n",
       "        })\r\n",
       "        .catch(error => {console.log(error);});\r\n",
       "    }\r\n",
       "\r\n",
       "// ensure `require` is available globally\r\n",
       "if ((typeof(require) !==  typeof(Function)) || (typeof(require.config) !== typeof(Function))) {\r\n",
       "    let require_script = document.createElement('script');\r\n",
       "    require_script.setAttribute('src', 'https://cdnjs.cloudflare.com/ajax/libs/require.js/2.3.6/require.min.js');\r\n",
       "    require_script.setAttribute('type', 'text/javascript');\r\n",
       "    \r\n",
       "    \r\n",
       "    require_script.onload = function() {\r\n",
       "        loadDotnetInteractiveApi();\r\n",
       "    };\r\n",
       "\r\n",
       "    document.getElementsByTagName('head')[0].appendChild(require_script);\r\n",
       "}\r\n",
       "else {\r\n",
       "    loadDotnetInteractiveApi();\r\n",
       "}\r\n",
       "\r\n",
       "    </script>\r\n",
       "</div>"
      ]
     },
     "metadata": {},
     "output_type": "display_data"
    }
   ],
   "source": [
    "using System.IO;\n",
    "using System.Numerics;\n",
    "using System.Text.RegularExpressions;"
   ]
  },
  {
   "cell_type": "code",
   "execution_count": 2,
   "metadata": {},
   "outputs": [],
   "source": [
    "class Tile\n",
    "{\n",
    "    private char[][] pixels;\n",
    "    \n",
    "    public int Id { get; init; }\n",
    "    public char[][] Pixels { get => pixels; }\n",
    "    \n",
    "    public string BorderTop\n",
    "    {\n",
    "        get => new string(pixels[0]);\n",
    "    }\n",
    "    \n",
    "    public string BorderBottom\n",
    "    {\n",
    "        get => new string(pixels[^1]);\n",
    "    }\n",
    "    \n",
    "    public string BorderLeft\n",
    "    {\n",
    "        get => new string(pixels.Select(line => line[0]).ToArray());\n",
    "    }\n",
    "    \n",
    "    public string BorderRight\n",
    "    {\n",
    "        get => new string(pixels.Select(line => line[^1]).ToArray());\n",
    "    }\n",
    "    \n",
    "    public string[] Borders\n",
    "    {\n",
    "        get => new string[]\n",
    "        {\n",
    "            BorderTop,\n",
    "            BorderRight,\n",
    "            BorderBottom,\n",
    "            BorderLeft,\n",
    "        };\n",
    "    }\n",
    "    \n",
    "    public Tile(string input)\n",
    "    {\n",
    "        var lines = input.Split(\"\\n\");\n",
    "        \n",
    "        // First line as the ID\n",
    "        Id = Convert.ToInt32(Regex.Match(lines[0], @\"\\d+\").Value);\n",
    "        \n",
    "        // Rest of the lines are the pixels\n",
    "        pixels = lines[1..].Select(line => line.ToCharArray()).ToArray();\n",
    "    }\n",
    "    \n",
    "    // Rotates the tile clockwise x number of times\n",
    "    public void Rotate(int times)\n",
    "    {\n",
    "        for (var i = 0; i < times; i++)\n",
    "        {\n",
    "            var cols = pixels[0].Length;\n",
    "            pixels = Enumerable.Range(0, cols)\n",
    "                .Select(col => Pixels\n",
    "                    .Select(line => line[col])\n",
    "                    .Reverse()\n",
    "                    .ToArray()\n",
    "                )\n",
    "                .ToArray();\n",
    "        }\n",
    "    }\n",
    "    \n",
    "    // Flips the tile. 0 is the x-axis. 1 is the y-axis.\n",
    "    public void Flip(int axis)\n",
    "    {\n",
    "        switch (axis)\n",
    "        {\n",
    "            case 0:\n",
    "                pixels = pixels.Select(line => line.Reverse().ToArray()).ToArray();\n",
    "                break;\n",
    "            case 1:\n",
    "                pixels = pixels.Reverse().ToArray();\n",
    "                break;\n",
    "            default:\n",
    "                throw new ArgumentException($\"Invalid axis: {axis}.\");\n",
    "        }\n",
    "    }\n",
    "    \n",
    "    public override string ToString()\n",
    "    {\n",
    "        var pixels = string.Join(\"\\n\", Pixels.Select(line => new string(line)));\n",
    "        return $\"Tile {Id}:\\n{pixels}\";\n",
    "    }\n",
    "}"
   ]
  },
  {
   "cell_type": "code",
   "execution_count": 51,
   "metadata": {},
   "outputs": [],
   "source": [
    "var tiles = File.ReadAllText(@\"input/20.txt\")\n",
    "    .Split(\"\\n\\n\")\n",
    "    .Select(tile => new Tile(tile))\n",
    "    .ToArray();"
   ]
  },
  {
   "cell_type": "code",
   "execution_count": 52,
   "metadata": {},
   "outputs": [
    {
     "data": {
      "text/html": [
       "<div class=\"dni-plaintext\">1152</div>"
      ]
     },
     "execution_count": 52,
     "metadata": {},
     "output_type": "execute_result"
    }
   ],
   "source": [
    "var allBorders = tiles.Select(t => t.Borders.Concat(t.Borders.Select(b => new string(b.Reverse().ToArray())))).SelectMany(b => b);\n",
    "allBorders.Count()"
   ]
  },
  {
   "cell_type": "code",
   "execution_count": 53,
   "metadata": {},
   "outputs": [
    {
     "data": {
      "text/html": [
       "<table><thead><tr><th><i>index</i></th><th>Id</th><th>Pixels</th><th>BorderTop</th><th>BorderBottom</th><th>BorderLeft</th><th>BorderRight</th><th>Borders</th></tr></thead><tbody><tr><td>0</td><td><div class=\"dni-plaintext\">1543</div></td><td><div class=\"dni-plaintext\">[ [ #, ., ., ., #, ., #, ., #, . ], [ ., #, ., #, ., ., ., ., ., . ], [ ., ., ., ., #, ., ., ., ., # ], [ ., #, ., ., ., ., ., ., ., . ], [ #, ., #, #, ., #, ., ., ., # ], [ #, ., ., ., ., ., ., ., ., . ], [ ., ., ., ., #, ., ., ., ., # ], [ #, ., ., ., ., ., ., ., #, . ], [ #, ., ., ., ., ., #, #, #, # ], [ #, #, ., #, ., #, ., ., ., # ] ]</div></td><td><div class=\"dni-plaintext\">#...#.#.#.</div></td><td><div class=\"dni-plaintext\">##.#.#...#</div></td><td><div class=\"dni-plaintext\">#...##.###</div></td><td><div class=\"dni-plaintext\">..#.#.#.##</div></td><td><div class=\"dni-plaintext\">[ #...#.#.#., ..#.#.#.##, ##.#.#...#, #...##.### ]</div></td></tr><tr><td>1</td><td><div class=\"dni-plaintext\">2887</div></td><td><div class=\"dni-plaintext\">[ [ ., #, ., ., #, ., ., #, #, # ], [ #, #, ., ., ., ., #, ., #, # ], [ #, ., ., #, ., ., #, ., ., . ], [ ., ., ., ., ., ., ., ., ., # ], [ #, ., ., ., ., ., ., ., ., . ], [ #, #, #, ., #, ., #, ., ., . ], [ #, ., ., ., ., ., ., ., ., # ], [ #, #, ., #, ., #, ., ., ., . ], [ #, ., ., ., ., ., ., ., ., . ], [ #, #, ., #, ., #, ., #, #, # ] ]</div></td><td><div class=\"dni-plaintext\">.#..#..###</div></td><td><div class=\"dni-plaintext\">##.#.#.###</div></td><td><div class=\"dni-plaintext\">.##.######</div></td><td><div class=\"dni-plaintext\">##.#..#..#</div></td><td><div class=\"dni-plaintext\">[ .#..#..###, ##.#..#..#, ##.#.#.###, .##.###### ]</div></td></tr><tr><td>2</td><td><div class=\"dni-plaintext\">2657</div></td><td><div class=\"dni-plaintext\">[ [ #, ., ., #, ., ., ., #, #, # ], [ ., ., ., ., ., ., ., ., ., # ], [ ., ., ., #, #, ., ., #, ., . ], [ #, #, #, ., ., ., #, ., ., . ], [ #, ., ., ., #, ., ., #, ., # ], [ #, #, ., ., ., ., ., ., ., . ], [ ., ., ., ., #, ., ., #, ., . ], [ ., ., ., ., ., ., ., ., ., . ], [ #, ., ., ., #, #, ., ., ., . ], [ ., ., ., #, #, ., ., ., ., . ] ]</div></td><td><div class=\"dni-plaintext\">#..#...###</div></td><td><div class=\"dni-plaintext\">...##.....</div></td><td><div class=\"dni-plaintext\">#..###..#.</div></td><td><div class=\"dni-plaintext\">##..#.....</div></td><td><div class=\"dni-plaintext\">[ #..#...###, ##..#....., ...##....., #..###..#. ]</div></td></tr><tr><td>3</td><td><div class=\"dni-plaintext\">3989</div></td><td><div class=\"dni-plaintext\">[ [ #, #, #, ., #, #, ., #, #, . ], [ #, ., ., ., ., ., ., ., ., # ], [ #, ., ., ., ., ., ., ., ., # ], [ #, ., #, ., ., ., ., #, ., # ], [ #, ., ., ., ., ., #, ., ., # ], [ ., ., #, #, ., ., ., #, ., . ], [ ., ., #, #, ., ., ., ., ., # ], [ #, ., ., ., ., #, ., ., ., . ], [ #, ., #, ., ., #, #, #, #, . ], [ #, ., #, #, ., ., ., #, #, # ] ]</div></td><td><div class=\"dni-plaintext\">###.##.##.</div></td><td><div class=\"dni-plaintext\">#.##...###</div></td><td><div class=\"dni-plaintext\">#####..###</div></td><td><div class=\"dni-plaintext\">.####.#..#</div></td><td><div class=\"dni-plaintext\">[ ###.##.##., .####.#..#, #.##...###, #####..### ]</div></td></tr></tbody></table>"
      ]
     },
     "execution_count": 53,
     "metadata": {},
     "output_type": "execute_result"
    }
   ],
   "source": [
    "var corners = tiles.Where(tile => tile.Borders.Where(border => allBorders.Where(otherBorder => otherBorder == border).Count() == 1).Count() == 2);\n",
    "corners"
   ]
  },
  {
   "cell_type": "code",
   "execution_count": 54,
   "metadata": {},
   "outputs": [
    {
     "data": {
      "text/html": [
       "<div class=\"dni-plaintext\">47213728755493</div>"
      ]
     },
     "execution_count": 54,
     "metadata": {},
     "output_type": "execute_result"
    }
   ],
   "source": [
    "corners.Select(t => (long)t.Id).Aggregate((a, b) => a*b)"
   ]
  },
  {
   "cell_type": "code",
   "execution_count": 60,
   "metadata": {},
   "outputs": [],
   "source": [
    "var borders = new Dictionary<string, List<int>>();\n",
    "foreach (var tile in tiles)\n",
    "{\n",
    "    foreach (var border in tile.Borders)\n",
    "    {\n",
    "        if (borders.ContainsKey(border))\n",
    "        {\n",
    "            borders[border].Add(tile.Id);\n",
    "        }\n",
    "        else\n",
    "        {\n",
    "            borders[border] = new List<int>() {tile.Id};\n",
    "        }\n",
    "    }\n",
    "    \n",
    "    foreach (var border in tile.Borders.Select(b => new string(b.Reverse().ToArray())))\n",
    "    {\n",
    "        if (borders.ContainsKey(border))\n",
    "        {\n",
    "            borders[border].Add(tile.Id);\n",
    "        }\n",
    "        else\n",
    "        {\n",
    "            borders[border] = new List<int>() {tile.Id};\n",
    "        }\n",
    "    }\n",
    "}"
   ]
  },
  {
   "cell_type": "code",
   "execution_count": 76,
   "metadata": {},
   "outputs": [
    {
     "data": {
      "text/html": [
       "<table><thead><tr><th><i>index</i></th><th>Key</th><th>Value</th></tr></thead><tbody><tr><td>0</td><td><div class=\"dni-plaintext\">#...#.#.#.</div></td><td><div class=\"dni-plaintext\">[ 1543 ]</div></td></tr><tr><td>1</td><td><div class=\"dni-plaintext\">#...##.###</div></td><td><div class=\"dni-plaintext\">[ 1543 ]</div></td></tr><tr><td>2</td><td><div class=\"dni-plaintext\">.#.#.#...#</div></td><td><div class=\"dni-plaintext\">[ 1543 ]</div></td></tr><tr><td>3</td><td><div class=\"dni-plaintext\">###.##...#</div></td><td><div class=\"dni-plaintext\">[ 1543 ]</div></td></tr></tbody></table>"
      ]
     },
     "execution_count": 76,
     "metadata": {},
     "output_type": "execute_result"
    }
   ],
   "source": [
    "borders.Where(kv => kv.Value.Contains(1543)).Where(kv => kv.Value.Count() == 1)"
   ]
  },
  {
   "cell_type": "code",
   "execution_count": 81,
   "metadata": {},
   "outputs": [
    {
     "data": {
      "text/html": [
       "<table><thead><tr><th><i>index</i></th><th>value</th></tr></thead><tbody><tr><td>0</td><td><div class=\"dni-plaintext\">1543</div></td></tr><tr><td>1</td><td><div class=\"dni-plaintext\">2887</div></td></tr><tr><td>2</td><td><div class=\"dni-plaintext\">2657</div></td></tr><tr><td>3</td><td><div class=\"dni-plaintext\">3989</div></td></tr></tbody></table>"
      ]
     },
     "execution_count": 81,
     "metadata": {},
     "output_type": "execute_result"
    }
   ],
   "source": [
    "tiles.Select(t => t.Id).Where(id => borders.Where(kv => kv.Value.Contains(id) && kv.Value.Count() == 1).Count() == 4)"
   ]
  },
  {
   "cell_type": "code",
   "execution_count": null,
   "metadata": {},
   "outputs": [],
   "source": []
  },
  {
   "cell_type": "code",
   "execution_count": null,
   "metadata": {},
   "outputs": [],
   "source": []
  },
  {
   "cell_type": "code",
   "execution_count": null,
   "metadata": {},
   "outputs": [],
   "source": []
  },
  {
   "cell_type": "code",
   "execution_count": 260,
   "metadata": {},
   "outputs": [
    {
     "name": "stderr",
     "output_type": "stream",
     "text": [
      "\n",
      "(37,18): error CS0161: 'Image.IsTileValid(int, int, Tile)': not all code paths return a value\n",
      "\n"
     ]
    },
    {
     "ename": "Cell not executed",
     "evalue": "compilation error",
     "output_type": "error",
     "traceback": []
    }
   ],
   "source": [
    "class Image\n",
    "{\n",
    "    private Tile[,] grid;\n",
    "    \n",
    "    public Image(IEnumerable<Tile> input)\n",
    "    {\n",
    "        var tiles = input.ToList();\n",
    "        var size = (int)Math.Sqrt(tiles.Count());\n",
    "        grid = new Tile[size,size];\n",
    "        ArrangeTiles(tiles);\n",
    "    }\n",
    "    \n",
    "    private void ArrangeTiles(List<Tile> tiles)\n",
    "    {\n",
    "        for (var row = 0; row < grid.GetLength(0); row++)\n",
    "        {\n",
    "            for (var col = 0; col < grid.GetLength(1); col++)\n",
    "            {\n",
    "                grid[row,col] = FindValidTile(row, col, tiles);\n",
    "            }\n",
    "        }\n",
    "    }\n",
    "    \n",
    "    private Tile? FindValidTile(int row, int col, List<Tile> tiles)\n",
    "    {\n",
    "        foreach (var tile in tiles)\n",
    "        {\n",
    "            if (IsTileValid(row, col, tile))\n",
    "            {\n",
    "                tiles.Remove(tile);\n",
    "                return tile;\n",
    "            }\n",
    "        }\n",
    "        return null;\n",
    "    }\n",
    "    \n",
    "    private bool IsTileValid(int row, int col, Tile tile)\n",
    "    {\n",
    "        for (var i = 0; i < 4; i++)\n",
    "        {\n",
    "            tile.Rotate(1);\n",
    "            if \n",
    "        }\n",
    "    }\n",
    "}"
   ]
  }
 ],
 "metadata": {
  "kernelspec": {
   "display_name": ".NET (C#)",
   "language": "C#",
   "name": ".net-csharp"
  },
  "language_info": {
   "file_extension": ".cs",
   "mimetype": "text/x-csharp",
   "name": "C#",
   "pygments_lexer": "csharp",
   "version": "8.0"
  }
 },
 "nbformat": 4,
 "nbformat_minor": 4
}
