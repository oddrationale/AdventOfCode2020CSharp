{
 "cells": [
  {
   "cell_type": "markdown",
   "metadata": {},
   "source": [
    "[![Binder](https://mybinder.org/badge_logo.svg)](https://mybinder.org/v2/gh/oddrationale/AdventOfCode2020CSharp/main?urlpath=lab%2Ftree%2FDay18.ipynb)"
   ]
  },
  {
   "cell_type": "markdown",
   "metadata": {},
   "source": [
    "# --- Day 18: Operation Order ---"
   ]
  },
  {
   "cell_type": "code",
   "execution_count": 1,
   "metadata": {},
   "outputs": [
    {
     "data": {
      "text/html": [
       "\r\n",
       "<div>\r\n",
       "    <div id='dotnet-interactive-this-cell-18012.Microsoft.DotNet.Interactive.Http.HttpPort' style='display: none'>\r\n",
       "        The below script needs to be able to find the current output cell; this is an easy method to get it.\r\n",
       "    </div>\r\n",
       "    <script type='text/javascript'>\r\n",
       "async function probeAddresses(probingAddresses) {\r\n",
       "    function timeout(ms, promise) {\r\n",
       "        return new Promise(function (resolve, reject) {\r\n",
       "            setTimeout(function () {\r\n",
       "                reject(new Error('timeout'))\r\n",
       "            }, ms)\r\n",
       "            promise.then(resolve, reject)\r\n",
       "        })\r\n",
       "    }\r\n",
       "\r\n",
       "    if (Array.isArray(probingAddresses)) {\r\n",
       "        for (let i = 0; i < probingAddresses.length; i++) {\r\n",
       "\r\n",
       "            let rootUrl = probingAddresses[i];\r\n",
       "\r\n",
       "            if (!rootUrl.endsWith('/')) {\r\n",
       "                rootUrl = `${rootUrl}/`;\r\n",
       "            }\r\n",
       "\r\n",
       "            try {\r\n",
       "                let response = await timeout(1000, fetch(`${rootUrl}discovery`, {\r\n",
       "                    method: 'POST',\r\n",
       "                    cache: 'no-cache',\r\n",
       "                    mode: 'cors',\r\n",
       "                    timeout: 1000,\r\n",
       "                    headers: {\r\n",
       "                        'Content-Type': 'text/plain'\r\n",
       "                    },\r\n",
       "                    body: probingAddresses[i]\r\n",
       "                }));\r\n",
       "\r\n",
       "                if (response.status == 200) {\r\n",
       "                    return rootUrl;\r\n",
       "                }\r\n",
       "            }\r\n",
       "            catch (e) { }\r\n",
       "        }\r\n",
       "    }\r\n",
       "}\r\n",
       "\r\n",
       "function loadDotnetInteractiveApi() {\r\n",
       "    probeAddresses([\"http://192.168.86.66:1001/\", \"http://127.0.0.1:1001/\"])\r\n",
       "        .then((root) => {\r\n",
       "        // use probing to find host url and api resources\r\n",
       "        // load interactive helpers and language services\r\n",
       "        let dotnetInteractiveRequire = require.config({\r\n",
       "        context: '18012.Microsoft.DotNet.Interactive.Http.HttpPort',\r\n",
       "                paths:\r\n",
       "            {\r\n",
       "                'dotnet-interactive': `${root}resources`\r\n",
       "                }\r\n",
       "        }) || require;\r\n",
       "\r\n",
       "            window.dotnetInteractiveRequire = dotnetInteractiveRequire;\r\n",
       "\r\n",
       "            window.configureRequireFromExtension = function(extensionName, extensionCacheBuster) {\r\n",
       "                let paths = {};\r\n",
       "                paths[extensionName] = `${root}extensions/${extensionName}/resources/`;\r\n",
       "                \r\n",
       "                let internalRequire = require.config({\r\n",
       "                    context: extensionCacheBuster,\r\n",
       "                    paths: paths,\r\n",
       "                    urlArgs: `cacheBuster=${extensionCacheBuster}`\r\n",
       "                    }) || require;\r\n",
       "\r\n",
       "                return internalRequire\r\n",
       "            };\r\n",
       "        \r\n",
       "            dotnetInteractiveRequire([\r\n",
       "                    'dotnet-interactive/dotnet-interactive'\r\n",
       "                ],\r\n",
       "                function (dotnet) {\r\n",
       "                    dotnet.init(window);\r\n",
       "                },\r\n",
       "                function (error) {\r\n",
       "                    console.log(error);\r\n",
       "                }\r\n",
       "            );\r\n",
       "        })\r\n",
       "        .catch(error => {console.log(error);});\r\n",
       "    }\r\n",
       "\r\n",
       "// ensure `require` is available globally\r\n",
       "if ((typeof(require) !==  typeof(Function)) || (typeof(require.config) !== typeof(Function))) {\r\n",
       "    let require_script = document.createElement('script');\r\n",
       "    require_script.setAttribute('src', 'https://cdnjs.cloudflare.com/ajax/libs/require.js/2.3.6/require.min.js');\r\n",
       "    require_script.setAttribute('type', 'text/javascript');\r\n",
       "    \r\n",
       "    \r\n",
       "    require_script.onload = function() {\r\n",
       "        loadDotnetInteractiveApi();\r\n",
       "    };\r\n",
       "\r\n",
       "    document.getElementsByTagName('head')[0].appendChild(require_script);\r\n",
       "}\r\n",
       "else {\r\n",
       "    loadDotnetInteractiveApi();\r\n",
       "}\r\n",
       "\r\n",
       "    </script>\r\n",
       "</div>"
      ]
     },
     "metadata": {},
     "output_type": "display_data"
    }
   ],
   "source": [
    "using System.IO;\n",
    "using System.Text.RegularExpressions;"
   ]
  },
  {
   "cell_type": "code",
   "execution_count": 2,
   "metadata": {},
   "outputs": [],
   "source": [
    "var homework = File.ReadAllLines(@\"input/18.txt\");"
   ]
  },
  {
   "cell_type": "markdown",
   "metadata": {},
   "source": [
    "Used a recursive function to handle the nested parentheses. The base case would take a string without any parentheses and step through and apply the operators as in order. The recursive case will get the most inner parenthesis groups and replace the expression with the value."
   ]
  },
  {
   "cell_type": "code",
   "execution_count": 3,
   "metadata": {},
   "outputs": [],
   "source": [
    "long evaluateExpression(string exp)\n",
    "{\n",
    "    // Handle all nested parentheses\n",
    "    var innerMatches = Regex.Matches(exp, @\"\\([\\d+* ]+?\\)\");\n",
    "    if (innerMatches.Any())\n",
    "    {\n",
    "        // Recursive case\n",
    "        foreach (Match match in innerMatches)\n",
    "        {\n",
    "            var inner = match.Value.Replace(\"(\", \"\").Replace(\")\", \"\");\n",
    "            exp = exp.Replace(match.Value, evaluateExpression(inner).ToString());\n",
    "        }\n",
    "        \n",
    "        return evaluateExpression(exp);\n",
    "    }\n",
    "    else\n",
    "    {\n",
    "        // Base case\n",
    "        var operation = '+';\n",
    "        long result = 0;\n",
    "\n",
    "        foreach (var item in Regex.Split(exp, @\"( \\+|\\* )\"))\n",
    "        {\n",
    "            switch (item.Trim())\n",
    "            {\n",
    "                case \"+\":\n",
    "                    operation = '+';\n",
    "                    break;\n",
    "                case \"*\":\n",
    "                    operation = '*';\n",
    "                    break;\n",
    "                default:\n",
    "                    switch (operation)\n",
    "                    {\n",
    "                        case '+':\n",
    "                            result += Convert.ToInt64(item);\n",
    "                            break;\n",
    "                        case '*':\n",
    "                            result *= Convert.ToInt64(item);\n",
    "                            break;\n",
    "                    }\n",
    "                    break;\n",
    "            }\n",
    "        }\n",
    "        \n",
    "        return result;\n",
    "    }\n",
    "}"
   ]
  },
  {
   "cell_type": "code",
   "execution_count": 4,
   "metadata": {},
   "outputs": [
    {
     "data": {
      "text/html": [
       "<div class=\"dni-plaintext\">24650385570008</div>"
      ]
     },
     "execution_count": 4,
     "metadata": {},
     "output_type": "execute_result"
    }
   ],
   "source": [
    "homework.Select(evaluateExpression).Sum()"
   ]
  },
  {
   "cell_type": "markdown",
   "metadata": {},
   "source": [
    "# --- Part Two ---"
   ]
  },
  {
   "cell_type": "markdown",
   "metadata": {},
   "source": [
    "Same as part one, except change the base case so that all the additions are handled first, then the numbers are multiplied together."
   ]
  },
  {
   "cell_type": "code",
   "execution_count": 5,
   "metadata": {},
   "outputs": [],
   "source": [
    "long evaluateExpression2(string exp)\n",
    "{\n",
    "    // Handle all nested parentheses\n",
    "    var innerMatches = Regex.Matches(exp, @\"\\([\\d+* ]+?\\)\");\n",
    "    if (innerMatches.Any())\n",
    "    {\n",
    "        // Recursive case\n",
    "        foreach (Match match in innerMatches)\n",
    "        {\n",
    "            var inner = match.Value.Replace(\"(\", \"\").Replace(\")\", \"\");\n",
    "            exp = exp.Replace(match.Value, evaluateExpression2(inner).ToString());\n",
    "        }\n",
    "        \n",
    "        return evaluateExpression2(exp);\n",
    "    }\n",
    "    else\n",
    "    {\n",
    "        // Base case\n",
    "        // Do all the additions first\n",
    "        while (exp.Contains(\"+\"))\n",
    "        {\n",
    "            var addition = Regex.Match(exp, @\"(\\d+) \\+ (\\d+)\");\n",
    "            var operand1 = Convert.ToInt64(addition.Groups[1].Value);\n",
    "            var operand2 = Convert.ToInt64(addition.Groups[2].Value);\n",
    "            var sum = operand1 + operand2;\n",
    "            exp = new Regex(@\"\\d+ \\+ \\d+\").Replace(exp, sum.ToString(), 1);\n",
    "        }\n",
    "        \n",
    "        // Do the multiplications\n",
    "        return Regex.Split(exp, @\" \\* \")\n",
    "            .Select(long.Parse)\n",
    "            .Aggregate((a, b) => a*b);\n",
    "    }\n",
    "}"
   ]
  },
  {
   "cell_type": "code",
   "execution_count": 6,
   "metadata": {},
   "outputs": [
    {
     "data": {
      "text/html": [
       "<div class=\"dni-plaintext\">158183007916215</div>"
      ]
     },
     "execution_count": 6,
     "metadata": {},
     "output_type": "execute_result"
    }
   ],
   "source": [
    "homework.Select(evaluateExpression2).Sum()"
   ]
  }
 ],
 "metadata": {
  "kernelspec": {
   "display_name": ".NET (C#)",
   "language": "C#",
   "name": ".net-csharp"
  },
  "language_info": {
   "file_extension": ".cs",
   "mimetype": "text/x-csharp",
   "name": "C#",
   "pygments_lexer": "csharp",
   "version": "8.0"
  }
 },
 "nbformat": 4,
 "nbformat_minor": 4
}
