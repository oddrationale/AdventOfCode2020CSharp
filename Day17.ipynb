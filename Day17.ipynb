{
 "cells": [
  {
   "cell_type": "markdown",
   "metadata": {},
   "source": [
    "[![Binder](https://mybinder.org/badge_logo.svg)](https://mybinder.org/v2/gh/oddrationale/AdventOfCode2020CSharp/main?urlpath=lab%2Ftree%2FDay17.ipynb)"
   ]
  },
  {
   "cell_type": "markdown",
   "metadata": {},
   "source": [
    "# --- Day 17: Conway Cubes ---"
   ]
  },
  {
   "cell_type": "code",
   "execution_count": 1,
   "metadata": {},
   "outputs": [
    {
     "data": {
      "text/html": [
       "\r\n",
       "<div>\r\n",
       "    <div id='dotnet-interactive-this-cell-10308.Microsoft.DotNet.Interactive.Http.HttpPort' style='display: none'>\r\n",
       "        The below script needs to be able to find the current output cell; this is an easy method to get it.\r\n",
       "    </div>\r\n",
       "    <script type='text/javascript'>\r\n",
       "async function probeAddresses(probingAddresses) {\r\n",
       "    function timeout(ms, promise) {\r\n",
       "        return new Promise(function (resolve, reject) {\r\n",
       "            setTimeout(function () {\r\n",
       "                reject(new Error('timeout'))\r\n",
       "            }, ms)\r\n",
       "            promise.then(resolve, reject)\r\n",
       "        })\r\n",
       "    }\r\n",
       "\r\n",
       "    if (Array.isArray(probingAddresses)) {\r\n",
       "        for (let i = 0; i < probingAddresses.length; i++) {\r\n",
       "\r\n",
       "            let rootUrl = probingAddresses[i];\r\n",
       "\r\n",
       "            if (!rootUrl.endsWith('/')) {\r\n",
       "                rootUrl = `${rootUrl}/`;\r\n",
       "            }\r\n",
       "\r\n",
       "            try {\r\n",
       "                let response = await timeout(1000, fetch(`${rootUrl}discovery`, {\r\n",
       "                    method: 'POST',\r\n",
       "                    cache: 'no-cache',\r\n",
       "                    mode: 'cors',\r\n",
       "                    timeout: 1000,\r\n",
       "                    headers: {\r\n",
       "                        'Content-Type': 'text/plain'\r\n",
       "                    },\r\n",
       "                    body: probingAddresses[i]\r\n",
       "                }));\r\n",
       "\r\n",
       "                if (response.status == 200) {\r\n",
       "                    return rootUrl;\r\n",
       "                }\r\n",
       "            }\r\n",
       "            catch (e) { }\r\n",
       "        }\r\n",
       "    }\r\n",
       "}\r\n",
       "\r\n",
       "function loadDotnetInteractiveApi() {\r\n",
       "    probeAddresses([\"http://192.168.86.66:1000/\", \"http://127.0.0.1:1000/\"])\r\n",
       "        .then((root) => {\r\n",
       "        // use probing to find host url and api resources\r\n",
       "        // load interactive helpers and language services\r\n",
       "        let dotnetInteractiveRequire = require.config({\r\n",
       "        context: '10308.Microsoft.DotNet.Interactive.Http.HttpPort',\r\n",
       "                paths:\r\n",
       "            {\r\n",
       "                'dotnet-interactive': `${root}resources`\r\n",
       "                }\r\n",
       "        }) || require;\r\n",
       "\r\n",
       "            window.dotnetInteractiveRequire = dotnetInteractiveRequire;\r\n",
       "\r\n",
       "            window.configureRequireFromExtension = function(extensionName, extensionCacheBuster) {\r\n",
       "                let paths = {};\r\n",
       "                paths[extensionName] = `${root}extensions/${extensionName}/resources/`;\r\n",
       "                \r\n",
       "                let internalRequire = require.config({\r\n",
       "                    context: extensionCacheBuster,\r\n",
       "                    paths: paths,\r\n",
       "                    urlArgs: `cacheBuster=${extensionCacheBuster}`\r\n",
       "                    }) || require;\r\n",
       "\r\n",
       "                return internalRequire\r\n",
       "            };\r\n",
       "        \r\n",
       "            dotnetInteractiveRequire([\r\n",
       "                    'dotnet-interactive/dotnet-interactive'\r\n",
       "                ],\r\n",
       "                function (dotnet) {\r\n",
       "                    dotnet.init(window);\r\n",
       "                },\r\n",
       "                function (error) {\r\n",
       "                    console.log(error);\r\n",
       "                }\r\n",
       "            );\r\n",
       "        })\r\n",
       "        .catch(error => {console.log(error);});\r\n",
       "    }\r\n",
       "\r\n",
       "// ensure `require` is available globally\r\n",
       "if ((typeof(require) !==  typeof(Function)) || (typeof(require.config) !== typeof(Function))) {\r\n",
       "    let require_script = document.createElement('script');\r\n",
       "    require_script.setAttribute('src', 'https://cdnjs.cloudflare.com/ajax/libs/require.js/2.3.6/require.min.js');\r\n",
       "    require_script.setAttribute('type', 'text/javascript');\r\n",
       "    \r\n",
       "    \r\n",
       "    require_script.onload = function() {\r\n",
       "        loadDotnetInteractiveApi();\r\n",
       "    };\r\n",
       "\r\n",
       "    document.getElementsByTagName('head')[0].appendChild(require_script);\r\n",
       "}\r\n",
       "else {\r\n",
       "    loadDotnetInteractiveApi();\r\n",
       "}\r\n",
       "\r\n",
       "    </script>\r\n",
       "</div>"
      ]
     },
     "metadata": {},
     "output_type": "display_data"
    }
   ],
   "source": [
    "using System.IO;\n",
    "using System.Numerics;"
   ]
  },
  {
   "cell_type": "markdown",
   "metadata": {},
   "source": [
    "Made use of the `Vector3` struct from the [`System.Numerics`](https://docs.microsoft.com/en-us/dotnet/api/system.numerics) namespace."
   ]
  },
  {
   "cell_type": "code",
   "execution_count": 2,
   "metadata": {},
   "outputs": [],
   "source": [
    "var input = File.ReadAllLines(@\"input/17.txt\").Select(line => line.ToCharArray()).ToArray();"
   ]
  },
  {
   "cell_type": "markdown",
   "metadata": {},
   "source": [
    "Solved this in two parts. The first part will expand the cube in all directions with the inactive (`\".\"`) state."
   ]
  },
  {
   "cell_type": "code",
   "execution_count": 3,
   "metadata": {},
   "outputs": [],
   "source": [
    "Dictionary<Vector3, char> ExpandCubes(Dictionary<Vector3, char> cubes)\n",
    "{\n",
    "    var newCubes = new Dictionary<Vector3, char>(cubes);\n",
    "    \n",
    "    var directions = Enumerable.Range(-1, 3).Select(\n",
    "        x => Enumerable.Range(-1, 3).Select(\n",
    "            y => Enumerable.Range(-1, 3).Select(z => new Vector3(x, y, z))\n",
    "        ).SelectMany(v => v)\n",
    "    ).SelectMany(v => v);\n",
    "    \n",
    "    foreach (var cube in cubes)\n",
    "    {\n",
    "        foreach (var d in directions)\n",
    "        {\n",
    "            var newVector = cube.Key + d;\n",
    "            newCubes[newVector] = cubes.ContainsKey(newVector) ? cubes[newVector] : '.';\n",
    "        }\n",
    "    }\n",
    "    \n",
    "    return newCubes;\n",
    "}"
   ]
  },
  {
   "cell_type": "markdown",
   "metadata": {},
   "source": [
    "The second part will perform one cycle of the cubes. Go through each cube and count the number of active neighbors. Then set the value accordingly."
   ]
  },
  {
   "cell_type": "code",
   "execution_count": 4,
   "metadata": {},
   "outputs": [],
   "source": [
    "Dictionary<Vector3, char> CycleCubes(Dictionary<Vector3, char> cubes)\n",
    "{\n",
    "    var newCubes = new Dictionary<Vector3, char>(cubes);\n",
    "    var directions = Enumerable.Range(-1, 3).Select(\n",
    "        x => Enumerable.Range(-1, 3).Select(\n",
    "            y => Enumerable.Range(-1, 3).Select(z => new Vector3(x, y, z))\n",
    "        ).SelectMany(v => v)\n",
    "    ).SelectMany(v => v).Where(v => v != new Vector3(0, 0, 0));\n",
    "    \n",
    "    foreach (var cube in cubes)\n",
    "    {\n",
    "        var activeNeighbors = directions\n",
    "            .Where(d => cubes.ContainsKey(cube.Key + d))\n",
    "            .Select(d => cubes[cube.Key + d])\n",
    "            .Where(c => c == '#')\n",
    "            .Count();\n",
    "        \n",
    "        if (cube.Value == '#')\n",
    "        {\n",
    "            newCubes[cube.Key] = activeNeighbors == 2 || activeNeighbors == 3 ? '#' : '.';\n",
    "        }\n",
    "        else if (cube.Value == '.')\n",
    "        {\n",
    "            newCubes[cube.Key] = activeNeighbors == 3 ? '#' : '.';\n",
    "        }\n",
    "    }\n",
    "    return newCubes;\n",
    "}"
   ]
  },
  {
   "cell_type": "markdown",
   "metadata": {},
   "source": [
    "This is a helper function for debugging. It will print out the cubes in the same format as the example."
   ]
  },
  {
   "cell_type": "code",
   "execution_count": 5,
   "metadata": {},
   "outputs": [],
   "source": [
    "void PrintCubes(Dictionary<Vector3, char> cubes)\n",
    "{\n",
    "    foreach (var z in cubes.GroupBy(kv => kv.Key.Z).OrderBy(grp => grp.Key))\n",
    "    {\n",
    "        var layer = String.Join(\n",
    "            \"\\n\", \n",
    "            z.GroupBy(kv => kv.Key.Y)\n",
    "                .OrderBy(grp => grp.Key)\n",
    "                .Select(\n",
    "                    grp => new string(\n",
    "                        grp.OrderBy(kv => kv.Key.X)\n",
    "                            .Select(kv => kv.Value)\n",
    "                            .ToArray()\n",
    "                    )\n",
    "                )\n",
    "        );\n",
    "        Console.WriteLine($\"z={z.Key}\");\n",
    "        Console.WriteLine(layer);\n",
    "        Console.WriteLine();\n",
    "    }\n",
    "}"
   ]
  },
  {
   "cell_type": "markdown",
   "metadata": {},
   "source": [
    "Covert the puzzle input to a dictionary where the key is the vector and the value is the state (active / inactive). Run six cycles. Then count the number of active cubes."
   ]
  },
  {
   "cell_type": "code",
   "execution_count": 6,
   "metadata": {},
   "outputs": [
    {
     "data": {
      "text/html": [
       "<div class=\"dni-plaintext\">293</div>"
      ]
     },
     "execution_count": 6,
     "metadata": {},
     "output_type": "execute_result"
    },
    {
     "data": {
      "text/plain": [
       "Wall time: 392.6857ms"
      ]
     },
     "metadata": {},
     "output_type": "display_data"
    }
   ],
   "source": [
    "#!time\n",
    "var cubes = input\n",
    "    .Select((row, y) => row.Select((cube, x) => (Vector: new Vector3(x, y, 0), Value: cube)))\n",
    "    .SelectMany(v => v)\n",
    "    .ToDictionary(t => t.Vector, t => t.Value);\n",
    "\n",
    "for (var i = 0; i < 6; i++)\n",
    "{\n",
    "    cubes = CycleCubes(ExpandCubes(cubes));\n",
    "}\n",
    "cubes.Values.Where(c => c == '#').Count()"
   ]
  },
  {
   "cell_type": "markdown",
   "metadata": {},
   "source": [
    "# --- Part Two ---"
   ]
  },
  {
   "cell_type": "markdown",
   "metadata": {},
   "source": [
    "Copy/pasted from above, but with the added dimension. Thanksfully the `System.Numerics` namespace had a `Vector4` struct, too."
   ]
  },
  {
   "cell_type": "code",
   "execution_count": 7,
   "metadata": {},
   "outputs": [],
   "source": [
    "Dictionary<Vector4, char> ExpandCubes2(Dictionary<Vector4, char> cubes)\n",
    "{\n",
    "    var newCubes = new Dictionary<Vector4, char>(cubes);\n",
    "    \n",
    "    var directions = Enumerable.Range(-1, 3).Select(\n",
    "        x => Enumerable.Range(-1, 3).Select(\n",
    "            y => Enumerable.Range(-1, 3).Select(\n",
    "                z => Enumerable.Range(-1, 3).Select(\n",
    "                    w => new Vector4(w, x, y, z)\n",
    "                )\n",
    "            ).SelectMany(v => v)\n",
    "        ).SelectMany(v => v)\n",
    "    ).SelectMany(v => v);\n",
    "    \n",
    "    foreach (var cube in cubes)\n",
    "    {\n",
    "        foreach (var d in directions)\n",
    "        {\n",
    "            var newVector = cube.Key + d;\n",
    "            newCubes[newVector] = cubes.ContainsKey(newVector) ? cubes[newVector] : '.';\n",
    "        }\n",
    "    }\n",
    "    \n",
    "    return newCubes;\n",
    "}"
   ]
  },
  {
   "cell_type": "code",
   "execution_count": 8,
   "metadata": {},
   "outputs": [],
   "source": [
    "Dictionary<Vector4, char> CycleCubes2(Dictionary<Vector4, char> cubes)\n",
    "{\n",
    "    var newCubes = new Dictionary<Vector4, char>(cubes);\n",
    "    var directions = Enumerable.Range(-1, 3).Select(\n",
    "        x => Enumerable.Range(-1, 3).Select(\n",
    "            y => Enumerable.Range(-1, 3).Select(\n",
    "                z => Enumerable.Range(-1, 3).Select(\n",
    "                    w => new Vector4(w, x, y, z)\n",
    "                )\n",
    "            ).SelectMany(v => v)\n",
    "        ).SelectMany(v => v)\n",
    "    ).SelectMany(v => v).Where(v => v != new Vector4(0, 0, 0, 0));\n",
    "    \n",
    "    foreach (var cube in cubes)\n",
    "    {\n",
    "        var activeNeighbors = directions\n",
    "            .Where(d => cubes.ContainsKey(cube.Key + d))\n",
    "            .Select(d => cubes[cube.Key + d])\n",
    "            .Where(c => c == '#')\n",
    "            .Count();\n",
    "        \n",
    "        if (cube.Value == '#')\n",
    "        {\n",
    "            newCubes[cube.Key] = activeNeighbors == 2 || activeNeighbors == 3 ? '#' : '.';\n",
    "        }\n",
    "        else if (cube.Value == '.')\n",
    "        {\n",
    "            newCubes[cube.Key] = activeNeighbors == 3 ? '#' : '.';\n",
    "        }\n",
    "    }\n",
    "    return newCubes;\n",
    "}"
   ]
  },
  {
   "cell_type": "code",
   "execution_count": 9,
   "metadata": {},
   "outputs": [
    {
     "data": {
      "text/html": [
       "<div class=\"dni-plaintext\">1816</div>"
      ]
     },
     "execution_count": 9,
     "metadata": {},
     "output_type": "execute_result"
    },
    {
     "data": {
      "text/plain": [
       "Wall time: 3415.5301ms"
      ]
     },
     "metadata": {},
     "output_type": "display_data"
    }
   ],
   "source": [
    "#!time\n",
    "var cubes2 = input\n",
    "    .Select((row, y) => row.Select((cube, x) => (Vector: new Vector4(0, x, y, 0), Value: cube)))\n",
    "    .SelectMany(v => v)\n",
    "    .ToDictionary(t => t.Vector, t => t.Value);\n",
    "\n",
    "for (var i = 0; i < 6; i++)\n",
    "{\n",
    "    cubes2 = CycleCubes2(ExpandCubes2(cubes2));\n",
    "}\n",
    "\n",
    "cubes2.Values.Where(c => c == '#').Count()"
   ]
  }
 ],
 "metadata": {
  "kernelspec": {
   "display_name": ".NET (C#)",
   "language": "C#",
   "name": ".net-csharp"
  },
  "language_info": {
   "file_extension": ".cs",
   "mimetype": "text/x-csharp",
   "name": "C#",
   "pygments_lexer": "csharp",
   "version": "8.0"
  }
 },
 "nbformat": 4,
 "nbformat_minor": 4
}
