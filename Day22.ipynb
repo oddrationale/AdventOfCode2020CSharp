{
 "cells": [
  {
   "cell_type": "markdown",
   "metadata": {},
   "source": [
    "[![Binder](https://mybinder.org/badge_logo.svg)](https://mybinder.org/v2/gh/oddrationale/AdventOfCode2020CSharp/main?urlpath=lab%2Ftree%2FDay22.ipynb)"
   ]
  },
  {
   "cell_type": "markdown",
   "metadata": {},
   "source": [
    "# --- Day 22: Crab Combat ---"
   ]
  },
  {
   "cell_type": "code",
   "execution_count": 1,
   "metadata": {},
   "outputs": [
    {
     "data": {
      "text/html": [
       "\r\n",
       "<div>\r\n",
       "    <div id='dotnet-interactive-this-cell-14528.Microsoft.DotNet.Interactive.Http.HttpPort' style='display: none'>\r\n",
       "        The below script needs to be able to find the current output cell; this is an easy method to get it.\r\n",
       "    </div>\r\n",
       "    <script type='text/javascript'>\r\n",
       "async function probeAddresses(probingAddresses) {\r\n",
       "    function timeout(ms, promise) {\r\n",
       "        return new Promise(function (resolve, reject) {\r\n",
       "            setTimeout(function () {\r\n",
       "                reject(new Error('timeout'))\r\n",
       "            }, ms)\r\n",
       "            promise.then(resolve, reject)\r\n",
       "        })\r\n",
       "    }\r\n",
       "\r\n",
       "    if (Array.isArray(probingAddresses)) {\r\n",
       "        for (let i = 0; i < probingAddresses.length; i++) {\r\n",
       "\r\n",
       "            let rootUrl = probingAddresses[i];\r\n",
       "\r\n",
       "            if (!rootUrl.endsWith('/')) {\r\n",
       "                rootUrl = `${rootUrl}/`;\r\n",
       "            }\r\n",
       "\r\n",
       "            try {\r\n",
       "                let response = await timeout(1000, fetch(`${rootUrl}discovery`, {\r\n",
       "                    method: 'POST',\r\n",
       "                    cache: 'no-cache',\r\n",
       "                    mode: 'cors',\r\n",
       "                    timeout: 1000,\r\n",
       "                    headers: {\r\n",
       "                        'Content-Type': 'text/plain'\r\n",
       "                    },\r\n",
       "                    body: probingAddresses[i]\r\n",
       "                }));\r\n",
       "\r\n",
       "                if (response.status == 200) {\r\n",
       "                    return rootUrl;\r\n",
       "                }\r\n",
       "            }\r\n",
       "            catch (e) { }\r\n",
       "        }\r\n",
       "    }\r\n",
       "}\r\n",
       "\r\n",
       "function loadDotnetInteractiveApi() {\r\n",
       "    probeAddresses([\"http://192.168.86.66:1000/\", \"http://127.0.0.1:1000/\"])\r\n",
       "        .then((root) => {\r\n",
       "        // use probing to find host url and api resources\r\n",
       "        // load interactive helpers and language services\r\n",
       "        let dotnetInteractiveRequire = require.config({\r\n",
       "        context: '14528.Microsoft.DotNet.Interactive.Http.HttpPort',\r\n",
       "                paths:\r\n",
       "            {\r\n",
       "                'dotnet-interactive': `${root}resources`\r\n",
       "                }\r\n",
       "        }) || require;\r\n",
       "\r\n",
       "            window.dotnetInteractiveRequire = dotnetInteractiveRequire;\r\n",
       "\r\n",
       "            window.configureRequireFromExtension = function(extensionName, extensionCacheBuster) {\r\n",
       "                let paths = {};\r\n",
       "                paths[extensionName] = `${root}extensions/${extensionName}/resources/`;\r\n",
       "                \r\n",
       "                let internalRequire = require.config({\r\n",
       "                    context: extensionCacheBuster,\r\n",
       "                    paths: paths,\r\n",
       "                    urlArgs: `cacheBuster=${extensionCacheBuster}`\r\n",
       "                    }) || require;\r\n",
       "\r\n",
       "                return internalRequire\r\n",
       "            };\r\n",
       "        \r\n",
       "            dotnetInteractiveRequire([\r\n",
       "                    'dotnet-interactive/dotnet-interactive'\r\n",
       "                ],\r\n",
       "                function (dotnet) {\r\n",
       "                    dotnet.init(window);\r\n",
       "                },\r\n",
       "                function (error) {\r\n",
       "                    console.log(error);\r\n",
       "                }\r\n",
       "            );\r\n",
       "        })\r\n",
       "        .catch(error => {console.log(error);});\r\n",
       "    }\r\n",
       "\r\n",
       "// ensure `require` is available globally\r\n",
       "if ((typeof(require) !==  typeof(Function)) || (typeof(require.config) !== typeof(Function))) {\r\n",
       "    let require_script = document.createElement('script');\r\n",
       "    require_script.setAttribute('src', 'https://cdnjs.cloudflare.com/ajax/libs/require.js/2.3.6/require.min.js');\r\n",
       "    require_script.setAttribute('type', 'text/javascript');\r\n",
       "    \r\n",
       "    \r\n",
       "    require_script.onload = function() {\r\n",
       "        loadDotnetInteractiveApi();\r\n",
       "    };\r\n",
       "\r\n",
       "    document.getElementsByTagName('head')[0].appendChild(require_script);\r\n",
       "}\r\n",
       "else {\r\n",
       "    loadDotnetInteractiveApi();\r\n",
       "}\r\n",
       "\r\n",
       "    </script>\r\n",
       "</div>"
      ]
     },
     "metadata": {},
     "output_type": "display_data"
    }
   ],
   "source": [
    "using System.IO;"
   ]
  },
  {
   "cell_type": "code",
   "execution_count": 2,
   "metadata": {},
   "outputs": [],
   "source": [
    "var input = File.ReadAllText(@\"input/22.txt\").Split(\"\\n\\n\");\n",
    "var player1 = new Queue<int>(input.First().Split(\"\\n\").Skip(1).Select(int.Parse).ToArray());\n",
    "var player2 = new Queue<int>(input.Last().Split(\"\\n\").Skip(1).Select(int.Parse).ToArray());"
   ]
  },
  {
   "cell_type": "code",
   "execution_count": 3,
   "metadata": {},
   "outputs": [],
   "source": [
    "void PlayRound(Queue<int> deck1, Queue<int> deck2)\n",
    "{\n",
    "    var card1 = deck1.Dequeue();\n",
    "    var card2 = deck2.Dequeue();\n",
    "    \n",
    "    if (card1 > card2)\n",
    "    {\n",
    "        deck1.Enqueue(card1);\n",
    "        deck1.Enqueue(card2);\n",
    "    }\n",
    "    else\n",
    "    {\n",
    "        deck2.Enqueue(card2);\n",
    "        deck2.Enqueue(card1);\n",
    "    }\n",
    "}"
   ]
  },
  {
   "cell_type": "code",
   "execution_count": 4,
   "metadata": {},
   "outputs": [],
   "source": [
    "Queue<int> PlayCombatGame(Queue<int> player1, Queue<int> player2)\n",
    "{\n",
    "    while (player1.Any() && player2.Any())\n",
    "    {\n",
    "        PlayRound(player1, player2);\n",
    "    }\n",
    "    \n",
    "    return player1.Any() ? player1 : player2;\n",
    "}"
   ]
  },
  {
   "cell_type": "code",
   "execution_count": 5,
   "metadata": {},
   "outputs": [],
   "source": [
    "var winner = PlayCombatGame(player1, player2);"
   ]
  },
  {
   "cell_type": "code",
   "execution_count": 6,
   "metadata": {},
   "outputs": [
    {
     "data": {
      "text/html": [
       "<div class=\"dni-plaintext\">31754</div>"
      ]
     },
     "execution_count": 6,
     "metadata": {},
     "output_type": "execute_result"
    }
   ],
   "source": [
    "Enumerable.Range(1, winner.Count()).Zip(winner.Reverse(), (i, card) => i*card).Sum()"
   ]
  },
  {
   "cell_type": "markdown",
   "metadata": {},
   "source": [
    "# --- Part Two ---"
   ]
  },
  {
   "cell_type": "code",
   "execution_count": 7,
   "metadata": {},
   "outputs": [],
   "source": [
    "var recursivePlayer1 = new Queue<int>(input.First().Split(\"\\n\").Skip(1).Select(int.Parse).ToArray());\n",
    "var recursivePlayer2 = new Queue<int>(input.Last().Split(\"\\n\").Skip(1).Select(int.Parse).ToArray());"
   ]
  },
  {
   "cell_type": "code",
   "execution_count": 8,
   "metadata": {},
   "outputs": [],
   "source": [
    "void PlayRecursiveRound(Queue<int> deck1, Queue<int> deck2)\n",
    "{\n",
    "    var card1 = deck1.Dequeue();\n",
    "    var card2 = deck2.Dequeue();\n",
    "    \n",
    "    if (card1 <= deck1.Count() && card2 <= deck2.Count())\n",
    "    {\n",
    "        var subDeck1 = new Queue<int>(deck1.Take(card1));\n",
    "        var subDeck2 = new Queue<int>(deck2.Take(card2));\n",
    "        \n",
    "        PlayRecursiveCombatGame(subDeck1, subDeck2);\n",
    "        \n",
    "        if (subDeck1.Any())\n",
    "        {\n",
    "            deck1.Enqueue(card1);\n",
    "            deck1.Enqueue(card2);\n",
    "        }\n",
    "        else\n",
    "        {\n",
    "            deck2.Enqueue(card2);\n",
    "            deck2.Enqueue(card1);\n",
    "        }\n",
    "    }\n",
    "    else\n",
    "    {\n",
    "        if (card1 > card2)\n",
    "        {\n",
    "            deck1.Enqueue(card1);\n",
    "            deck1.Enqueue(card2);\n",
    "        }\n",
    "        else\n",
    "        {\n",
    "            deck2.Enqueue(card2);\n",
    "            deck2.Enqueue(card1);\n",
    "        }\n",
    "    }\n",
    "}\n",
    "\n",
    "Queue<int> PlayRecursiveCombatGame(Queue<int> player1, Queue<int> player2)\n",
    "{\n",
    "    var prevGameStates = new HashSet<string>();\n",
    "    \n",
    "    while (player1.Any() && player2.Any())\n",
    "    {\n",
    "        if (!prevGameStates.Add($\"{string.Join(\",\", player1)}-{string.Join(\",\", player2)}\"))\n",
    "        {\n",
    "            return player1;\n",
    "        }\n",
    "        \n",
    "        PlayRecursiveRound(player1, player2);\n",
    "    }\n",
    "    \n",
    "    return player1.Any() ? player1 : player2;\n",
    "}"
   ]
  },
  {
   "cell_type": "code",
   "execution_count": 9,
   "metadata": {},
   "outputs": [],
   "source": [
    "var recursiveWinner = PlayRecursiveCombatGame(recursivePlayer1, recursivePlayer2);"
   ]
  },
  {
   "cell_type": "code",
   "execution_count": 10,
   "metadata": {},
   "outputs": [
    {
     "data": {
      "text/html": [
       "<div class=\"dni-plaintext\">35436</div>"
      ]
     },
     "execution_count": 10,
     "metadata": {},
     "output_type": "execute_result"
    }
   ],
   "source": [
    "Enumerable.Range(1, recursiveWinner.Count()).Zip(recursiveWinner.Reverse(), (i, card) => i*card).Sum()"
   ]
  }
 ],
 "metadata": {
  "kernelspec": {
   "display_name": ".NET (C#)",
   "language": "C#",
   "name": ".net-csharp"
  },
  "language_info": {
   "file_extension": ".cs",
   "mimetype": "text/x-csharp",
   "name": "C#",
   "pygments_lexer": "csharp",
   "version": "8.0"
  }
 },
 "nbformat": 4,
 "nbformat_minor": 4
}
