{
 "cells": [
  {
   "cell_type": "markdown",
   "metadata": {},
   "source": [
    "[![Binder](https://mybinder.org/badge_logo.svg)](https://mybinder.org/v2/gh/oddrationale/AdventOfCode2020CSharp/main?urlpath=lab%2Ftree%2FDay04.ipynb)"
   ]
  },
  {
   "cell_type": "markdown",
   "metadata": {},
   "source": [
    "# --- Day 4: Passport Processing ---"
   ]
  },
  {
   "cell_type": "code",
   "execution_count": 1,
   "metadata": {},
   "outputs": [
    {
     "data": {
      "text/html": [
       "\r\n",
       "<div>\r\n",
       "    <div id='dotnet-interactive-this-cell-8916.Microsoft.DotNet.Interactive.Http.HttpPort' style='display: none'>\r\n",
       "        The below script needs to be able to find the current output cell; this is an easy method to get it.\r\n",
       "    </div>\r\n",
       "    <script type='text/javascript'>\r\n",
       "async function probeAddresses(probingAddresses) {\r\n",
       "    function timeout(ms, promise) {\r\n",
       "        return new Promise(function (resolve, reject) {\r\n",
       "            setTimeout(function () {\r\n",
       "                reject(new Error('timeout'))\r\n",
       "            }, ms)\r\n",
       "            promise.then(resolve, reject)\r\n",
       "        })\r\n",
       "    }\r\n",
       "\r\n",
       "    if (Array.isArray(probingAddresses)) {\r\n",
       "        for (let i = 0; i < probingAddresses.length; i++) {\r\n",
       "\r\n",
       "            let rootUrl = probingAddresses[i];\r\n",
       "\r\n",
       "            if (!rootUrl.endsWith('/')) {\r\n",
       "                rootUrl = `${rootUrl}/`;\r\n",
       "            }\r\n",
       "\r\n",
       "            try {\r\n",
       "                let response = await timeout(1000, fetch(`${rootUrl}discovery`, {\r\n",
       "                    method: 'POST',\r\n",
       "                    cache: 'no-cache',\r\n",
       "                    mode: 'cors',\r\n",
       "                    timeout: 1000,\r\n",
       "                    headers: {\r\n",
       "                        'Content-Type': 'text/plain'\r\n",
       "                    },\r\n",
       "                    body: probingAddresses[i]\r\n",
       "                }));\r\n",
       "\r\n",
       "                if (response.status == 200) {\r\n",
       "                    return rootUrl;\r\n",
       "                }\r\n",
       "            }\r\n",
       "            catch (e) { }\r\n",
       "        }\r\n",
       "    }\r\n",
       "}\r\n",
       "\r\n",
       "function loadDotnetInteractiveApi() {\r\n",
       "    probeAddresses([\"http://192.168.86.66:1003/\", \"http://127.0.0.1:1003/\"])\r\n",
       "        .then((root) => {\r\n",
       "        // use probing to find host url and api resources\r\n",
       "        // load interactive helpers and language services\r\n",
       "        let dotnetInteractiveRequire = require.config({\r\n",
       "        context: '8916.Microsoft.DotNet.Interactive.Http.HttpPort',\r\n",
       "                paths:\r\n",
       "            {\r\n",
       "                'dotnet-interactive': `${root}resources`\r\n",
       "                }\r\n",
       "        }) || require;\r\n",
       "\r\n",
       "            window.dotnetInteractiveRequire = dotnetInteractiveRequire;\r\n",
       "\r\n",
       "            window.configureRequireFromExtension = function(extensionName, extensionCacheBuster) {\r\n",
       "                let paths = {};\r\n",
       "                paths[extensionName] = `${root}extensions/${extensionName}/resources/`;\r\n",
       "                \r\n",
       "                let internalRequire = require.config({\r\n",
       "                    context: extensionCacheBuster,\r\n",
       "                    paths: paths,\r\n",
       "                    urlArgs: `cacheBuster=${extensionCacheBuster}`\r\n",
       "                    }) || require;\r\n",
       "\r\n",
       "                return internalRequire\r\n",
       "            };\r\n",
       "        \r\n",
       "            dotnetInteractiveRequire([\r\n",
       "                    'dotnet-interactive/dotnet-interactive'\r\n",
       "                ],\r\n",
       "                function (dotnet) {\r\n",
       "                    dotnet.init(window);\r\n",
       "                },\r\n",
       "                function (error) {\r\n",
       "                    console.log(error);\r\n",
       "                }\r\n",
       "            );\r\n",
       "        })\r\n",
       "        .catch(error => {console.log(error);});\r\n",
       "    }\r\n",
       "\r\n",
       "// ensure `require` is available globally\r\n",
       "if ((typeof(require) !==  typeof(Function)) || (typeof(require.config) !== typeof(Function))) {\r\n",
       "    let require_script = document.createElement('script');\r\n",
       "    require_script.setAttribute('src', 'https://cdnjs.cloudflare.com/ajax/libs/require.js/2.3.6/require.min.js');\r\n",
       "    require_script.setAttribute('type', 'text/javascript');\r\n",
       "    \r\n",
       "    \r\n",
       "    require_script.onload = function() {\r\n",
       "        loadDotnetInteractiveApi();\r\n",
       "    };\r\n",
       "\r\n",
       "    document.getElementsByTagName('head')[0].appendChild(require_script);\r\n",
       "}\r\n",
       "else {\r\n",
       "    loadDotnetInteractiveApi();\r\n",
       "}\r\n",
       "\r\n",
       "    </script>\r\n",
       "</div>"
      ]
     },
     "metadata": {},
     "output_type": "display_data"
    }
   ],
   "source": [
    "using System.IO;\n",
    "using System.Text.RegularExpressions;"
   ]
  },
  {
   "cell_type": "markdown",
   "metadata": {},
   "source": [
    "Read the input file and split into separate passport entries."
   ]
  },
  {
   "cell_type": "code",
   "execution_count": 2,
   "metadata": {},
   "outputs": [],
   "source": [
    "var batchFile = File.ReadAllText(@\"input/04.txt\").Split(\"\\n\\n\");"
   ]
  },
  {
   "cell_type": "markdown",
   "metadata": {},
   "source": [
    "Fields for the passport:\n",
    "\n",
    "- byr (Birth Year)\n",
    "- iyr (Issue Year)\n",
    "- eyr (Expiration Year)\n",
    "- hgt (Height)\n",
    "- hcl (Hair Color)\n",
    "- ecl (Eye Color)\n",
    "- pid (Passport ID)\n",
    "- cid (Country ID)"
   ]
  },
  {
   "cell_type": "markdown",
   "metadata": {},
   "source": [
    "For Part 1, just check if the string contains each of the fields above, except for `cid`."
   ]
  },
  {
   "cell_type": "code",
   "execution_count": 3,
   "metadata": {},
   "outputs": [],
   "source": [
    "bool IsPassportValid(string passport)\n",
    "{\n",
    "    return passport.Contains(\"byr\") &&\n",
    "        passport.Contains(\"iyr\") &&\n",
    "        passport.Contains(\"eyr\") &&\n",
    "        passport.Contains(\"hgt\") &&\n",
    "        passport.Contains(\"hcl\") &&\n",
    "        passport.Contains(\"ecl\") &&\n",
    "        passport.Contains(\"pid\");\n",
    "}"
   ]
  },
  {
   "cell_type": "code",
   "execution_count": 4,
   "metadata": {},
   "outputs": [
    {
     "data": {
      "text/html": [
       "<div class=\"dni-plaintext\">264</div>"
      ]
     },
     "execution_count": 4,
     "metadata": {},
     "output_type": "execute_result"
    }
   ],
   "source": [
    "batchFile.Where(IsPassportValid).Count()"
   ]
  },
  {
   "cell_type": "markdown",
   "metadata": {},
   "source": [
    "# --- Part Two ---"
   ]
  },
  {
   "cell_type": "markdown",
   "metadata": {},
   "source": [
    "For Part 2, create a proper `Passport` object. Here, decided to use C# 9's new `record` feature."
   ]
  },
  {
   "cell_type": "code",
   "execution_count": 5,
   "metadata": {},
   "outputs": [],
   "source": [
    "record Passport\n",
    "{\n",
    "    public int byr { get; init; }\n",
    "    public int iyr { get; init; }\n",
    "    public int eyr { get; init; }\n",
    "    public string hgt { get; init; } = string.Empty;\n",
    "    public string hcl { get; init; } = string.Empty;\n",
    "    public string ecl { get; init; } = string.Empty;\n",
    "    public string pid { get; init; } = string.Empty;\n",
    "    public string cid { get; init; } = string.Empty;\n",
    "    public bool IsValid\n",
    "    {\n",
    "        get\n",
    "        {\n",
    "            return IsByrValid(byr) &&\n",
    "                IsIyrValid(iyr) &&\n",
    "                IsEyrValid(eyr) &&\n",
    "                IsHgtValid(hgt) &&\n",
    "                IsHclValid(hcl) &&\n",
    "                IsEclValid(ecl) &&\n",
    "                IsPidValid(pid);\n",
    "        }\n",
    "    }\n",
    "    \n",
    "    public Passport(string passport)\n",
    "    {\n",
    "        Dictionary<string,string> tempDict = Regex\n",
    "            .Split(passport, @\"[ \\r\\n]\")\n",
    "            .Select(f => f.Split(\":\"))\n",
    "            .ToDictionary(kv => kv.First(), kv => kv.Last());\n",
    "        \n",
    "        // Maybe possible to use reflection here?\n",
    "        foreach (KeyValuePair<string, string> kv in tempDict)\n",
    "        {\n",
    "            switch (kv.Key)\n",
    "            {\n",
    "                case \"byr\":\n",
    "                    byr = int.TryParse(kv.Value, out var ibyr) ? ibyr : 0;\n",
    "                    break;\n",
    "                case \"iyr\":\n",
    "                    iyr = int.TryParse(kv.Value, out var iiyr) ? iiyr : 0;\n",
    "                    break;\n",
    "                case \"eyr\":\n",
    "                    eyr = int.TryParse(kv.Value, out var ieyr) ? ieyr : 0;\n",
    "                    break;\n",
    "                case \"hgt\":\n",
    "                    hgt = kv.Value;\n",
    "                    break;\n",
    "                case \"hcl\":\n",
    "                    hcl = kv.Value;\n",
    "                    break;\n",
    "                case \"ecl\":\n",
    "                    ecl = kv.Value;\n",
    "                    break;\n",
    "                case \"pid\":\n",
    "                    pid = kv.Value;\n",
    "                    break;\n",
    "                case \"cid\":\n",
    "                    cid = kv.Value;\n",
    "                    break;\n",
    "            }\n",
    "        }\n",
    "    }\n",
    "    \n",
    "    private bool IsByrValid(int byr) => 1920 <= byr && byr <= 2002;\n",
    "    private bool IsIyrValid(int iyr) => 2010 <= iyr && iyr <= 2020;\n",
    "    private bool IsEyrValid(int eyr) => 2020 <= eyr && eyr <= 2030;\n",
    "    private bool IsHgtValid(string hgt)\n",
    "    {\n",
    "        if (hgt.EndsWith(\"cm\"))\n",
    "        {\n",
    "            var cm = Convert.ToInt32(hgt.Substring(0, hgt.Length - 2));\n",
    "            return 150 <= cm && cm <= 193;\n",
    "        }\n",
    "        if (hgt.EndsWith(\"in\"))\n",
    "        {\n",
    "            var inches = Convert.ToInt32(hgt.Substring(0, hgt.Length - 2));\n",
    "            return 59 <= inches && inches <= 76;\n",
    "        }\n",
    "        return false;\n",
    "    }\n",
    "    private bool IsHclValid(string hcl) => Regex.IsMatch(hcl, @\"^#[0-9a-f]{6}$\");\n",
    "    private bool IsEclValid(string ecl) => Regex.IsMatch(ecl, @\"^(amb|blu|brn|gry|grn|hzl|oth)$\");\n",
    "    private bool IsPidValid(string pid) => Regex.IsMatch(pid, @\"^\\d{9}$\");\n",
    "}"
   ]
  },
  {
   "cell_type": "code",
   "execution_count": 6,
   "metadata": {},
   "outputs": [
    {
     "data": {
      "text/html": [
       "<div class=\"dni-plaintext\">224</div>"
      ]
     },
     "execution_count": 6,
     "metadata": {},
     "output_type": "execute_result"
    }
   ],
   "source": [
    "batchFile.Select(p => new Passport(p)).Where(p => p.IsValid).Count()"
   ]
  }
 ],
 "metadata": {
  "kernelspec": {
   "display_name": ".NET (C#)",
   "language": "C#",
   "name": ".net-csharp"
  },
  "language_info": {
   "file_extension": ".cs",
   "mimetype": "text/x-csharp",
   "name": "C#",
   "pygments_lexer": "csharp",
   "version": "8.0"
  }
 },
 "nbformat": 4,
 "nbformat_minor": 4
}
