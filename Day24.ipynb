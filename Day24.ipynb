{
 "cells": [
  {
   "cell_type": "markdown",
   "metadata": {},
   "source": [
    "[![Binder](https://mybinder.org/badge_logo.svg)](https://mybinder.org/v2/gh/oddrationale/AdventOfCode2020CSharp/main?urlpath=lab%2Ftree%2FDay24.ipynb)"
   ]
  },
  {
   "cell_type": "markdown",
   "metadata": {},
   "source": [
    "# --- Day 24: Lobby Layout ---"
   ]
  },
  {
   "cell_type": "code",
   "execution_count": 1,
   "metadata": {},
   "outputs": [
    {
     "data": {
      "text/html": [
       "\r\n",
       "<div>\r\n",
       "    <div id='dotnet-interactive-this-cell-17620.Microsoft.DotNet.Interactive.Http.HttpPort' style='display: none'>\r\n",
       "        The below script needs to be able to find the current output cell; this is an easy method to get it.\r\n",
       "    </div>\r\n",
       "    <script type='text/javascript'>\r\n",
       "async function probeAddresses(probingAddresses) {\r\n",
       "    function timeout(ms, promise) {\r\n",
       "        return new Promise(function (resolve, reject) {\r\n",
       "            setTimeout(function () {\r\n",
       "                reject(new Error('timeout'))\r\n",
       "            }, ms)\r\n",
       "            promise.then(resolve, reject)\r\n",
       "        })\r\n",
       "    }\r\n",
       "\r\n",
       "    if (Array.isArray(probingAddresses)) {\r\n",
       "        for (let i = 0; i < probingAddresses.length; i++) {\r\n",
       "\r\n",
       "            let rootUrl = probingAddresses[i];\r\n",
       "\r\n",
       "            if (!rootUrl.endsWith('/')) {\r\n",
       "                rootUrl = `${rootUrl}/`;\r\n",
       "            }\r\n",
       "\r\n",
       "            try {\r\n",
       "                let response = await timeout(1000, fetch(`${rootUrl}discovery`, {\r\n",
       "                    method: 'POST',\r\n",
       "                    cache: 'no-cache',\r\n",
       "                    mode: 'cors',\r\n",
       "                    timeout: 1000,\r\n",
       "                    headers: {\r\n",
       "                        'Content-Type': 'text/plain'\r\n",
       "                    },\r\n",
       "                    body: probingAddresses[i]\r\n",
       "                }));\r\n",
       "\r\n",
       "                if (response.status == 200) {\r\n",
       "                    return rootUrl;\r\n",
       "                }\r\n",
       "            }\r\n",
       "            catch (e) { }\r\n",
       "        }\r\n",
       "    }\r\n",
       "}\r\n",
       "\r\n",
       "function loadDotnetInteractiveApi() {\r\n",
       "    probeAddresses([\"http://172.23.207.133:1001/\", \"http://127.0.0.1:1001/\"])\r\n",
       "        .then((root) => {\r\n",
       "        // use probing to find host url and api resources\r\n",
       "        // load interactive helpers and language services\r\n",
       "        let dotnetInteractiveRequire = require.config({\r\n",
       "        context: '17620.Microsoft.DotNet.Interactive.Http.HttpPort',\r\n",
       "                paths:\r\n",
       "            {\r\n",
       "                'dotnet-interactive': `${root}resources`\r\n",
       "                }\r\n",
       "        }) || require;\r\n",
       "\r\n",
       "            window.dotnetInteractiveRequire = dotnetInteractiveRequire;\r\n",
       "\r\n",
       "            window.configureRequireFromExtension = function(extensionName, extensionCacheBuster) {\r\n",
       "                let paths = {};\r\n",
       "                paths[extensionName] = `${root}extensions/${extensionName}/resources/`;\r\n",
       "                \r\n",
       "                let internalRequire = require.config({\r\n",
       "                    context: extensionCacheBuster,\r\n",
       "                    paths: paths,\r\n",
       "                    urlArgs: `cacheBuster=${extensionCacheBuster}`\r\n",
       "                    }) || require;\r\n",
       "\r\n",
       "                return internalRequire\r\n",
       "            };\r\n",
       "        \r\n",
       "            dotnetInteractiveRequire([\r\n",
       "                    'dotnet-interactive/dotnet-interactive'\r\n",
       "                ],\r\n",
       "                function (dotnet) {\r\n",
       "                    dotnet.init(window);\r\n",
       "                },\r\n",
       "                function (error) {\r\n",
       "                    console.log(error);\r\n",
       "                }\r\n",
       "            );\r\n",
       "        })\r\n",
       "        .catch(error => {console.log(error);});\r\n",
       "    }\r\n",
       "\r\n",
       "// ensure `require` is available globally\r\n",
       "if ((typeof(require) !==  typeof(Function)) || (typeof(require.config) !== typeof(Function))) {\r\n",
       "    let require_script = document.createElement('script');\r\n",
       "    require_script.setAttribute('src', 'https://cdnjs.cloudflare.com/ajax/libs/require.js/2.3.6/require.min.js');\r\n",
       "    require_script.setAttribute('type', 'text/javascript');\r\n",
       "    \r\n",
       "    \r\n",
       "    require_script.onload = function() {\r\n",
       "        loadDotnetInteractiveApi();\r\n",
       "    };\r\n",
       "\r\n",
       "    document.getElementsByTagName('head')[0].appendChild(require_script);\r\n",
       "}\r\n",
       "else {\r\n",
       "    loadDotnetInteractiveApi();\r\n",
       "}\r\n",
       "\r\n",
       "    </script>\r\n",
       "</div>"
      ]
     },
     "metadata": {},
     "output_type": "display_data"
    }
   ],
   "source": [
    "using System.IO;\n",
    "using System.Numerics;\n",
    "using System.Text.RegularExpressions;"
   ]
  },
  {
   "cell_type": "code",
   "execution_count": 2,
   "metadata": {},
   "outputs": [],
   "source": [
    "enum Neighbors\n",
    "{\n",
    "    E, SE, SW, W, NW, NE\n",
    "}"
   ]
  },
  {
   "cell_type": "code",
   "execution_count": 3,
   "metadata": {},
   "outputs": [],
   "source": [
    "enum Colors\n",
    "{\n",
    "    White, Black\n",
    "}"
   ]
  },
  {
   "cell_type": "code",
   "execution_count": 4,
   "metadata": {},
   "outputs": [],
   "source": [
    "class Tile\n",
    "{\n",
    "    public Colors Color { get; set; }\n",
    "    \n",
    "    public void Flip()\n",
    "    {\n",
    "        Color = Color == Colors.White ? Colors.Black : Colors.White;\n",
    "    }\n",
    "}"
   ]
  },
  {
   "cell_type": "markdown",
   "metadata": {},
   "source": [
    "Using the [Cube Coordinate](https://www.redblobgames.com/grids/hexagons/#coordinates-cube) for the hexagons."
   ]
  },
  {
   "cell_type": "code",
   "execution_count": 5,
   "metadata": {},
   "outputs": [],
   "source": [
    "readonly Dictionary<Neighbors, Vector3> directions = new()\n",
    "{\n",
    "    {Neighbors.E, new Vector3(+1, -1, 0)},\n",
    "    {Neighbors.SE, new Vector3(0, -1, +1)},\n",
    "    {Neighbors.SW, new Vector3(-1, 0, +1)},\n",
    "    {Neighbors.W, new Vector3(-1, +1, 0)},\n",
    "    {Neighbors.NW, new Vector3(0, +1, -1)},\n",
    "    {Neighbors.NE, new Vector3(+1, 0, -1)},\n",
    "};"
   ]
  },
  {
   "cell_type": "code",
   "execution_count": 6,
   "metadata": {},
   "outputs": [],
   "source": [
    "Vector3 GetTilePosition(string steps) =>\n",
    "    Regex.Matches(steps, @\"e|se|sw|w|nw|ne\")\n",
    "        .Select(grp => Enum.Parse<Neighbors>(grp.Value.ToUpper()))\n",
    "        .Select(n => directions[n])\n",
    "        .Aggregate(new Vector3(0, 0, 0), (a, b) => a + b);"
   ]
  },
  {
   "cell_type": "code",
   "execution_count": 7,
   "metadata": {},
   "outputs": [],
   "source": [
    "var tiles = File.ReadAllLines(@\"input/24.txt\")\n",
    "    .Select(line => GetTilePosition(line));"
   ]
  },
  {
   "cell_type": "code",
   "execution_count": 8,
   "metadata": {},
   "outputs": [],
   "source": [
    "Dictionary<Vector3, Tile> grid = new();\n",
    "foreach (var tile in tiles)\n",
    "{\n",
    "    if (grid.ContainsKey(tile))\n",
    "    {\n",
    "        grid[tile].Flip();\n",
    "    }\n",
    "    else\n",
    "    {\n",
    "        grid[tile] = new Tile {Color = Colors.Black};\n",
    "    }\n",
    "}"
   ]
  },
  {
   "cell_type": "code",
   "execution_count": 9,
   "metadata": {},
   "outputs": [
    {
     "data": {
      "text/html": [
       "<div class=\"dni-plaintext\">293</div>"
      ]
     },
     "execution_count": 9,
     "metadata": {},
     "output_type": "execute_result"
    }
   ],
   "source": [
    "grid.Values.Where(t => t.Color == Colors.Black).Count()"
   ]
  },
  {
   "cell_type": "markdown",
   "metadata": {},
   "source": [
    "# --- Part Two ---"
   ]
  },
  {
   "cell_type": "code",
   "execution_count": 10,
   "metadata": {},
   "outputs": [],
   "source": [
    "Dictionary<Vector3, Tile> FlipTiles(Dictionary<Vector3, Tile> grid)\n",
    "{\n",
    "    var newGrid = new Dictionary<Vector3, Tile>();\n",
    "    \n",
    "    var max = grid.Keys\n",
    "        .Select(k => new float[] {Math.Abs(k.X), Math.Abs(k.Y), Math.Abs(k.Z)})\n",
    "        .SelectMany(x => x)\n",
    "        .Max() + 1;\n",
    "    \n",
    "    for (var x = -max; x <= max; x++)\n",
    "    {\n",
    "        for (var y = -max; y <= max; y++)\n",
    "        {\n",
    "            for (var z = -max; z <= max; z++)\n",
    "            {\n",
    "                if (x + y + z == 0)\n",
    "                {\n",
    "                    var key = new Vector3(x, y, z);\n",
    "                    if (!grid.ContainsKey(key))\n",
    "                    {\n",
    "                        grid[key] = new Tile();\n",
    "                    }\n",
    "                }\n",
    "            }\n",
    "        }\n",
    "    }\n",
    "    \n",
    "    foreach (var tile in grid)\n",
    "    {\n",
    "        var adj = directions\n",
    "            .Select(d => grid.ContainsKey(tile.Key + d.Value) ? \n",
    "                    grid[tile.Key + d.Value].Color : Colors.White)\n",
    "            .Where(c => c == Colors.Black)\n",
    "            .Count();\n",
    "        \n",
    "        if (tile.Value.Color == Colors.Black)\n",
    "        {\n",
    "            newGrid[tile.Key] = adj == 0 || adj > 2 \n",
    "                ? new Tile {Color = Colors.White}\n",
    "                : new Tile {Color = Colors.Black};\n",
    "        }\n",
    "        else if (tile.Value.Color == Colors.White)\n",
    "        {\n",
    "            newGrid[tile.Key] = adj == 2 \n",
    "                ? new Tile {Color = Colors.Black} \n",
    "                : new Tile {Color = Colors.White};\n",
    "        }\n",
    "    }\n",
    "    \n",
    "    return newGrid;\n",
    "}"
   ]
  },
  {
   "cell_type": "code",
   "execution_count": 11,
   "metadata": {},
   "outputs": [
    {
     "data": {
      "text/html": [
       "<div class=\"dni-plaintext\">3967</div>"
      ]
     },
     "execution_count": 11,
     "metadata": {},
     "output_type": "execute_result"
    }
   ],
   "source": [
    "for (var i = 0; i < 100; i++)\n",
    "{\n",
    "    grid = FlipTiles(grid);\n",
    "}\n",
    "\n",
    "grid.Values.Where(t => t.Color == Colors.Black).Count()"
   ]
  }
 ],
 "metadata": {
  "kernelspec": {
   "display_name": ".NET (C#)",
   "language": "C#",
   "name": ".net-csharp"
  },
  "language_info": {
   "file_extension": ".cs",
   "mimetype": "text/x-csharp",
   "name": "C#",
   "pygments_lexer": "csharp",
   "version": "8.0"
  }
 },
 "nbformat": 4,
 "nbformat_minor": 4
}
