{
 "cells": [
  {
   "cell_type": "markdown",
   "metadata": {},
   "source": [
    "[![Binder](https://mybinder.org/badge_logo.svg)](https://mybinder.org/v2/gh/oddrationale/AdventOfCode2020CSharp/main?urlpath=lab%2Ftree%2FDay02.ipynb)"
   ]
  },
  {
   "cell_type": "markdown",
   "metadata": {},
   "source": [
    "# --- Day 2: Password Philosophy ---"
   ]
  },
  {
   "cell_type": "code",
   "execution_count": 2,
   "metadata": {},
   "outputs": [],
   "source": [
    "using System.IO;\n",
    "using System.Text.RegularExpressions;"
   ]
  },
  {
   "cell_type": "markdown",
   "metadata": {},
   "source": [
    "Let's use the new C# 9.0 records!"
   ]
  },
  {
   "cell_type": "code",
   "execution_count": 3,
   "metadata": {},
   "outputs": [],
   "source": [
    "record PasswordPolicy(int Min, int Max, char Letter);"
   ]
  },
  {
   "cell_type": "markdown",
   "metadata": {},
   "source": [
    "This function will parse a single line and return a tuple of the Policy and the Password."
   ]
  },
  {
   "cell_type": "code",
   "execution_count": 4,
   "metadata": {},
   "outputs": [],
   "source": [
    "(PasswordPolicy Policy, string Password) ParseLine(string line)\n",
    "{\n",
    "    var pattern = @\"(\\d+)-(\\d+)\\s(\\w):\\s(\\w+)\";\n",
    "    var match = Regex.Match(line, pattern);\n",
    "    var policy = new PasswordPolicy(\n",
    "        Convert.ToInt32(match.Groups[1].Value),\n",
    "        Convert.ToInt32(match.Groups[2].Value),\n",
    "        Convert.ToChar(match.Groups[3].Value)\n",
    "    );\n",
    "    \n",
    "    return (policy, match.Groups[4].Value);\n",
    "}"
   ]
  },
  {
   "cell_type": "markdown",
   "metadata": {},
   "source": [
    "Read in the input file and parse each of the lines."
   ]
  },
  {
   "cell_type": "code",
   "execution_count": 5,
   "metadata": {},
   "outputs": [],
   "source": [
    "var passwordList = File.ReadAllLines(@\"input/02.txt\").Select(ParseLine).ToArray();"
   ]
  },
  {
   "cell_type": "markdown",
   "metadata": {},
   "source": [
    "Create a function to validate the Password against the Policy. Use LINQ to count the given character."
   ]
  },
  {
   "cell_type": "code",
   "execution_count": 6,
   "metadata": {},
   "outputs": [],
   "source": [
    "bool IsPasswordValid(PasswordPolicy policy, String password)\n",
    "{\n",
    "    var count = password.ToCharArray().Count(x => x == policy.Letter);\n",
    "    return policy.Min <= count && count <= policy.Max;\n",
    "}"
   ]
  },
  {
   "cell_type": "code",
   "execution_count": 7,
   "metadata": {},
   "outputs": [
    {
     "data": {
      "text/html": [
       "<div class=\"dni-plaintext\">416</div>"
      ]
     },
     "execution_count": 7,
     "metadata": {},
     "output_type": "execute_result"
    }
   ],
   "source": [
    "passwordList.Where(x => IsPasswordValid(x.Policy, x.Password)).Count()"
   ]
  },
  {
   "cell_type": "markdown",
   "metadata": {},
   "source": [
    "# --- Part Two ---"
   ]
  },
  {
   "cell_type": "markdown",
   "metadata": {},
   "source": [
    "Use an exclusive or (XOR) and check the string indexes."
   ]
  },
  {
   "cell_type": "code",
   "execution_count": 8,
   "metadata": {},
   "outputs": [],
   "source": [
    "bool IsPasswordValidOfficial(PasswordPolicy policy, String password)\n",
    "{\n",
    "    return (password[policy.Min - 1] == policy.Letter) ^ (password[policy.Max - 1] == policy.Letter);\n",
    "}"
   ]
  },
  {
   "cell_type": "code",
   "execution_count": 9,
   "metadata": {},
   "outputs": [
    {
     "data": {
      "text/html": [
       "<div class=\"dni-plaintext\">688</div>"
      ]
     },
     "execution_count": 9,
     "metadata": {},
     "output_type": "execute_result"
    }
   ],
   "source": [
    "passwordList.Where(x => IsPasswordValidOfficial(x.Policy, x.Password)).Count()"
   ]
  }
 ],
 "metadata": {
  "kernelspec": {
   "display_name": ".NET (C#)",
   "language": "C#",
   "name": ".net-csharp"
  },
  "language_info": {
   "file_extension": ".cs",
   "mimetype": "text/x-csharp",
   "name": "C#",
   "pygments_lexer": "csharp",
   "version": "8.0"
  }
 },
 "nbformat": 4,
 "nbformat_minor": 4
}
