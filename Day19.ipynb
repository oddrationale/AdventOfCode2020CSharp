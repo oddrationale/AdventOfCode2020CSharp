{
 "cells": [
  {
   "cell_type": "markdown",
   "metadata": {},
   "source": [
    "[![Binder](https://mybinder.org/badge_logo.svg)](https://mybinder.org/v2/gh/oddrationale/AdventOfCode2020CSharp/main?urlpath=lab%2Ftree%2FDay19.ipynb)"
   ]
  },
  {
   "cell_type": "markdown",
   "metadata": {},
   "source": [
    "# --- Day 19: Monster Messages ---"
   ]
  },
  {
   "cell_type": "code",
   "execution_count": 52,
   "metadata": {},
   "outputs": [],
   "source": [
    "using System.IO;\n",
    "using System.Text.RegularExpressions;"
   ]
  },
  {
   "cell_type": "code",
   "execution_count": 60,
   "metadata": {},
   "outputs": [],
   "source": [
    "var input = File.ReadAllText(@\"input/19.txt\").Split(\"\\n\\n\");\n",
    "var rules = input.First().Split(\"\\n\")\n",
    "    .Select(line => line.Split(\": \"))\n",
    "    .ToDictionary(s => Convert.ToInt32(s.First()), s => s.Last());\n",
    "var messages = input.Last().Split(\"\\n\");"
   ]
  },
  {
   "cell_type": "code",
   "execution_count": 61,
   "metadata": {},
   "outputs": [],
   "source": [
    "Dictionary<int, string> ConvertRules2Regex(Dictionary<int, string> rules)\n",
    "{\n",
    "    var regexRules = new Dictionary<int, string>();\n",
    "    var finalRules = rules.Where(kv => !Regex.IsMatch(kv.Value, @\"\\d\")).ToArray();\n",
    "    while (rules.Count() > 3 && finalRules.Any())\n",
    "    {\n",
    "        foreach (var kv in finalRules)\n",
    "        {\n",
    "            var regex = kv.Value.Replace(\"\\\"\", \"\").Replace(\" \", \"\");\n",
    "            regex = regex.Contains(\"|\") ? $\"({regex})\" : regex;\n",
    "\n",
    "            foreach (var key in rules.Keys)\n",
    "            {\n",
    "                rules[key] = Regex.Replace(rules[key], $@\"\\b{kv.Key}\\b\", regex);\n",
    "            }\n",
    "\n",
    "            regexRules.Add(kv.Key, regex);\n",
    "            rules.Remove(kv.Key);\n",
    "        }\n",
    "        finalRules = rules.Where(kv => !Regex.IsMatch(kv.Value, @\"\\d\")).ToArray();\n",
    "    }\n",
    "        \n",
    "    return regexRules;\n",
    "}"
   ]
  },
  {
   "cell_type": "code",
   "execution_count": 55,
   "metadata": {},
   "outputs": [],
   "source": [
    "var regexRules = ConvertRules2Regex(rules);"
   ]
  },
  {
   "cell_type": "code",
   "execution_count": 49,
   "metadata": {},
   "outputs": [
    {
     "ename": "Unhandled exception",
     "evalue": "System.Collections.Generic.KeyNotFoundException: The given key '0' was not present in the dictionary.\r\n   at System.Collections.Generic.Dictionary`2.get_Item(TKey key)\r\n   at Submission#52.<<Initialize>>d__0.MoveNext()\r\n--- End of stack trace from previous location ---\r\n   at Microsoft.CodeAnalysis.Scripting.ScriptExecutionState.RunSubmissionsAsync[TResult](ImmutableArray`1 precedingExecutors, Func`2 currentExecutor, StrongBox`1 exceptionHolderOpt, Func`2 catchExceptionOpt, CancellationToken cancellationToken)",
     "output_type": "error",
     "traceback": [
      "System.Collections.Generic.KeyNotFoundException: The given key '0' was not present in the dictionary.\r\n   at System.Collections.Generic.Dictionary`2.get_Item(TKey key)\r\n   at Submission#52.<<Initialize>>d__0.MoveNext()\r\n--- End of stack trace from previous location ---\r\n   at Microsoft.CodeAnalysis.Scripting.ScriptExecutionState.RunSubmissionsAsync[TResult](ImmutableArray`1 precedingExecutors, Func`2 currentExecutor, StrongBox`1 exceptionHolderOpt, Func`2 catchExceptionOpt, CancellationToken cancellationToken)",
      "   at System.Collections.Generic.Dictionary`2.get_Item(TKey key)",
      "   at Submission#52.<<Initialize>>d__0.MoveNext()",
      "--- End of stack trace from previous location ---",
      "   at Microsoft.CodeAnalysis.Scripting.ScriptExecutionState.RunSubmissionsAsync[TResult](ImmutableArray`1 precedingExecutors, Func`2 currentExecutor, StrongBox`1 exceptionHolderOpt, Func`2 catchExceptionOpt, CancellationToken cancellationToken)"
     ]
    }
   ],
   "source": [
    "regexRules[0]"
   ]
  },
  {
   "cell_type": "code",
   "execution_count": 14,
   "metadata": {},
   "outputs": [
    {
     "data": {
      "text/html": [
       "<div class=\"dni-plaintext\">299</div>"
      ]
     },
     "execution_count": 14,
     "metadata": {},
     "output_type": "execute_result"
    }
   ],
   "source": [
    "messages.Where(m => Regex.IsMatch(m, $@\"^{regexRules[0]}$\")).Count()"
   ]
  },
  {
   "cell_type": "markdown",
   "metadata": {},
   "source": [
    "# --- Part Two ---"
   ]
  },
  {
   "cell_type": "code",
   "execution_count": 56,
   "metadata": {},
   "outputs": [
    {
     "data": {
      "text/plain": [
       "(((b(a(((bb|aa)b|bba)a|bbbb)|b(((ab|b(a|b))(a|b))b|(a(ab|b(a|b))|b(ba|aa))a))|a(a(a(((a|b)(a|b))b|(ab|aa)a)|b(b((a|b)b|aa)|a(ab|aa)))|b(a(((a|b)b|aa)a|(bb|aa)b)|b(b(ba|aa)|abb))))a|(a((b(b((a|b)(a|b))|aab)|a(bbb|a((a|b)(a|b))))b|(baaa|(bab|a(bb|ba))b)a)|b(a(((a|b)(ba|aa))b|(bba|(ab|b(a|b))b)a)|b((((a|b)b|aa)a|(ab|b(a|b))b)b|abba)))b)a|((a(b((a(ab|aa)|b(ab|bb))a|(b((a|b)b|aa)|aab)b)|a(a(b(ba|aa)|abb)|b((ba|aa)b|((a|b)b|aa)a)))|b(((b((a|b)b|aa)|aab)a|((ab|bb)b|((a|b)b|aa)a)b)a|(a(abb|bba)|b(aba|(ba|aa)b))b))a|(a(((b(ba|aa)|a(bb|aa))b|(b(ba|aa)|abb)a)a|(a(bba|bab)|b(aaa|b(ba|aa)))b)|b((b(((a|b)a|ab)a|((a|b)(a|b))b)|a(b((a|b)a|ab)|a(ab|b(a|b))))b|(((ab|bb)b|((a|b)b|aa)a)a|(a(bb|aa)|b(aa|b(a|b)))b)a))b)b)+(((b(a(((bb|aa)b|bba)a|bbbb)|b(((ab|b(a|b))(a|b))b|(a(ab|b(a|b))|b(ba|aa))a))|a(a(a(((a|b)(a|b))b|(ab|aa)a)|b(b((a|b)b|aa)|a(ab|aa)))|b(a(((a|b)b|aa)a|(bb|aa)b)|b(b(ba|aa)|abb))))a|(a((b(b((a|b)(a|b))|aab)|a(bbb|a((a|b)(a|b))))b|(baaa|(bab|a(bb|ba))b)a)|b(a(((a|b)(ba|aa))b|(bba|(ab|b(a|b))b)a)|b((((a|b)b|aa)a|(ab|b(a|b))b)b|abba)))b)a|((a(b((a(ab|aa)|b(ab|bb))a|(b((a|b)b|aa)|aab)b)|a(a(b(ba|aa)|abb)|b((ba|aa)b|((a|b)b|aa)a)))|b(((b((a|b)b|aa)|aab)a|((ab|bb)b|((a|b)b|aa)a)b)a|(a(abb|bba)|b(aba|(ba|aa)b))b))a|(a(((b(ba|aa)|a(bb|aa))b|(b(ba|aa)|abb)a)a|(a(bba|bab)|b(aaa|b(ba|aa)))b)|b((b(((a|b)a|ab)a|((a|b)(a|b))b)|a(b((a|b)a|ab)|a(ab|b(a|b))))b|(((ab|bb)b|((a|b)b|aa)a)a|(a(bb|aa)|b(aa|b(a|b)))b)a))b)b)+((b((((bbb|aaa)a|abbb)b|((aba|(ba|aa)b)b|(aab|b(ab|aa))a)a)b|((b(a(ab|bb)|baa)|a(b(ba|aa)|a(bb|aa)))a|((((a|b)(a|b))a|(bb|aa)b)a|((ab|b(a|b))b|(ab|aa)a)b)b)a)|a(a((b(a((a|b)a|ab)|bbb)|a(a((a|b)b|aa)|b((a|b)(a|b))))b|(a((ab|aa)a|(aa|b(a|b))b)|b(b(bb|aa)|abb))a)|b((a((ab|b(a|b))b|(bb|ba)a)|b((ab|bb)b|(bb|ba)a))b|(a(b((a|b)(a|b))|aab)|b(aaa|b(ab|aa)))a)))b|(a(b(a(b(bbb|a((a|b)(a|b)))|a((ba|ab)b|bba))|b(((a|b)(ba|aa))b|((ab|aa)a|(aa|b(a|b))b)a))|a(((b(ab|bb)|a(bb|ba))a|babb)a|(a((a|b)(ba|aa))|b((ba|aa)a|((a|b)a|ab)b))b))|b(a(b(a(((a|b)(a|b))a|(bb|aa)b)|b(aba|bbb))|a(a((aa|b(a|b))b|((a|b)b|aa)a)|b(((a|b)(a|b))a|(bb|aa)b)))|b(a(a((aa|b(a|b))b|((a|b)b|aa)a)|baab)|b(b(aab|b(ab|aa))|a(baa|((a|b)a|ab)b)))))a)+"
      ]
     },
     "execution_count": 56,
     "metadata": {},
     "output_type": "execute_result"
    }
   ],
   "source": [
    "regexRules[8] = $\"{regexRules[42]}+\";\n",
    "regexRules[11] = $\"{regexRules[42]}+{regexRules[31]}+\";\n",
    "regexRules[0] = regexRules[8] + regexRules[11];\n",
    "regexRules[0]"
   ]
  },
  {
   "cell_type": "code",
   "execution_count": 62,
   "metadata": {},
   "outputs": [],
   "source": [
    "var regexRules2 = ConvertRules2Regex(rules);"
   ]
  },
  {
   "cell_type": "code",
   "execution_count": 63,
   "metadata": {},
   "outputs": [
    {
     "data": {
      "text/html": [
       "<table><thead><tr><th><i>key</i></th><th>value</th></tr></thead><tbody><tr><td><div class=\"dni-plaintext\">8</div></td><td><div class=\"dni-plaintext\">(((b(a(((bb|aa)b|bba)a|bbbb)|b(((ab|b(a|b))(a|b))b|(a(ab|b(a|b))|b(ba|aa))a))|a(a(a(((a|b)(a|b))b|(ab|aa)a)|b(b((a|b)b|aa)|a(ab|aa)))|b(a(((a|b)b|aa)a|(bb|aa)b)|b(b(ba|aa)|abb))))a|(a((b(b((a|b)(a|b))|aab)|a(bbb|a((a|b)(a|b))))b|(baaa|(bab|a(bb|ba))b)a)|b(a(((a|b)(ba|aa))b|(bba|(ab|b(a|b))b)a)|b((((a|b)b|aa)a|(ab|b(a|b))b)b|abba)))b)a|((a(b((a(ab|aa)|b(ab|bb))a|(b((a|b)b|aa)|aab)b)|a(a(b(ba|aa)|abb)|b((ba|aa)b|((a|b)b|aa)a)))|b(((b((a|b)b|aa)|aab)a|((ab|bb)b|((a|b)b|aa)a)b)a|(a(abb|bba)|b(aba|(ba|aa)b))b))a|(a(((b(ba|aa)|a(bb|aa))b|(b(ba|aa)|abb)a)a|(a(bba|bab)|b(aaa|b(ba|aa)))b)|b((b(((a|b)a|ab)a|((a|b)(a|b))b)|a(b((a|b)a|ab)|a(ab|b(a|b))))b|(((ab|bb)b|((a|b)b|aa)a)a|(a(bb|aa)|b(aa|b(a|b)))b)a))b)b)</div></td></tr><tr><td><div class=\"dni-plaintext\">11</div></td><td><div class=\"dni-plaintext\">(((b(a(((bb|aa)b|bba)a|bbbb)|b(((ab|b(a|b))(a|b))b|(a(ab|b(a|b))|b(ba|aa))a))|a(a(a(((a|b)(a|b))b|(ab|aa)a)|b(b((a|b)b|aa)|a(ab|aa)))|b(a(((a|b)b|aa)a|(bb|aa)b)|b(b(ba|aa)|abb))))a|(a((b(b((a|b)(a|b))|aab)|a(bbb|a((a|b)(a|b))))b|(baaa|(bab|a(bb|ba))b)a)|b(a(((a|b)(ba|aa))b|(bba|(ab|b(a|b))b)a)|b((((a|b)b|aa)a|(ab|b(a|b))b)b|abba)))b)a|((a(b((a(ab|aa)|b(ab|bb))a|(b((a|b)b|aa)|aab)b)|a(a(b(ba|aa)|abb)|b((ba|aa)b|((a|b)b|aa)a)))|b(((b((a|b)b|aa)|aab)a|((ab|bb)b|((a|b)b|aa)a)b)a|(a(abb|bba)|b(aba|(ba|aa)b))b))a|(a(((b(ba|aa)|a(bb|aa))b|(b(ba|aa)|abb)a)a|(a(bba|bab)|b(aaa|b(ba|aa)))b)|b((b(((a|b)a|ab)a|((a|b)(a|b))b)|a(b((a|b)a|ab)|a(ab|b(a|b))))b|(((ab|bb)b|((a|b)b|aa)a)a|(a(bb|aa)|b(aa|b(a|b)))b)a))b)b) ((b((((bbb|aaa)a|abbb)b|((aba|(ba|aa)b)b|(aab|b(ab|aa))a)a)b|((b(a(ab|bb)|baa)|a(b(ba|aa)|a(bb|aa)))a|((((a|b)(a|b))a|(bb|aa)b)a|((ab|b(a|b))b|(ab|aa)a)b)b)a)|a(a((b(a((a|b)a|ab)|bbb)|a(a((a|b)b|aa)|b((a|b)(a|b))))b|(a((ab|aa)a|(aa|b(a|b))b)|b(b(bb|aa)|abb))a)|b((a((ab|b(a|b))b|(bb|ba)a)|b((ab|bb)b|(bb|ba)a))b|(a(b((a|b)(a|b))|aab)|b(aaa|b(ab|aa)))a)))b|(a(b(a(b(bbb|a((a|b)(a|b)))|a((ba|ab)b|bba))|b(((a|b)(ba|aa))b|((ab|aa)a|(aa|b(a|b))b)a))|a(((b(ab|bb)|a(bb|ba))a|babb)a|(a((a|b)(ba|aa))|b((ba|aa)a|((a|b)a|ab)b))b))|b(a(b(a(((a|b)(a|b))a|(bb|aa)b)|b(aba|bbb))|a(a((aa|b(a|b))b|((a|b)b|aa)a)|b(((a|b)(a|b))a|(bb|aa)b)))|b(a(a((aa|b(a|b))b|((a|b)b|aa)a)|baab)|b(b(aab|b(ab|aa))|a(baa|((a|b)a|ab)b)))))a)</div></td></tr><tr><td><div class=\"dni-plaintext\">0</div></td><td><div class=\"dni-plaintext\">8 11</div></td></tr></tbody></table>"
      ]
     },
     "execution_count": 63,
     "metadata": {},
     "output_type": "execute_result"
    }
   ],
   "source": [
    "rules"
   ]
  },
  {
   "cell_type": "code",
   "execution_count": 64,
   "metadata": {},
   "outputs": [
    {
     "data": {
      "text/plain": [
       "(((b(a(((bb|aa)b|bba)a|bbbb)|b(((ab|b(a|b))(a|b))b|(a(ab|b(a|b))|b(ba|aa))a))|a(a(a(((a|b)(a|b))b|(ab|aa)a)|b(b((a|b)b|aa)|a(ab|aa)))|b(a(((a|b)b|aa)a|(bb|aa)b)|b(b(ba|aa)|abb))))a|(a((b(b((a|b)(a|b))|aab)|a(bbb|a((a|b)(a|b))))b|(baaa|(bab|a(bb|ba))b)a)|b(a(((a|b)(ba|aa))b|(bba|(ab|b(a|b))b)a)|b((((a|b)b|aa)a|(ab|b(a|b))b)b|abba)))b)a|((a(b((a(ab|aa)|b(ab|bb))a|(b((a|b)b|aa)|aab)b)|a(a(b(ba|aa)|abb)|b((ba|aa)b|((a|b)b|aa)a)))|b(((b((a|b)b|aa)|aab)a|((ab|bb)b|((a|b)b|aa)a)b)a|(a(abb|bba)|b(aba|(ba|aa)b))b))a|(a(((b(ba|aa)|a(bb|aa))b|(b(ba|aa)|abb)a)a|(a(bba|bab)|b(aaa|b(ba|aa)))b)|b((b(((a|b)a|ab)a|((a|b)(a|b))b)|a(b((a|b)a|ab)|a(ab|b(a|b))))b|(((ab|bb)b|((a|b)b|aa)a)a|(a(bb|aa)|b(aa|b(a|b)))b)a))b)b)+(?<open>(((b(a(((bb|aa)b|bba)a|bbbb)|b(((ab|b(a|b))(a|b))b|(a(ab|b(a|b))|b(ba|aa))a))|a(a(a(((a|b)(a|b))b|(ab|aa)a)|b(b((a|b)b|aa)|a(ab|aa)))|b(a(((a|b)b|aa)a|(bb|aa)b)|b(b(ba|aa)|abb))))a|(a((b(b((a|b)(a|b))|aab)|a(bbb|a((a|b)(a|b))))b|(baaa|(bab|a(bb|ba))b)a)|b(a(((a|b)(ba|aa))b|(bba|(ab|b(a|b))b)a)|b((((a|b)b|aa)a|(ab|b(a|b))b)b|abba)))b)a|((a(b((a(ab|aa)|b(ab|bb))a|(b((a|b)b|aa)|aab)b)|a(a(b(ba|aa)|abb)|b((ba|aa)b|((a|b)b|aa)a)))|b(((b((a|b)b|aa)|aab)a|((ab|bb)b|((a|b)b|aa)a)b)a|(a(abb|bba)|b(aba|(ba|aa)b))b))a|(a(((b(ba|aa)|a(bb|aa))b|(b(ba|aa)|abb)a)a|(a(bba|bab)|b(aaa|b(ba|aa)))b)|b((b(((a|b)a|ab)a|((a|b)(a|b))b)|a(b((a|b)a|ab)|a(ab|b(a|b))))b|(((ab|bb)b|((a|b)b|aa)a)a|(a(bb|aa)|b(aa|b(a|b)))b)a))b)b))+(?<close-open>((b((((bbb|aaa)a|abbb)b|((aba|(ba|aa)b)b|(aab|b(ab|aa))a)a)b|((b(a(ab|bb)|baa)|a(b(ba|aa)|a(bb|aa)))a|((((a|b)(a|b))a|(bb|aa)b)a|((ab|b(a|b))b|(ab|aa)a)b)b)a)|a(a((b(a((a|b)a|ab)|bbb)|a(a((a|b)b|aa)|b((a|b)(a|b))))b|(a((ab|aa)a|(aa|b(a|b))b)|b(b(bb|aa)|abb))a)|b((a((ab|b(a|b))b|(bb|ba)a)|b((ab|bb)b|(bb|ba)a))b|(a(b((a|b)(a|b))|aab)|b(aaa|b(ab|aa)))a)))b|(a(b(a(b(bbb|a((a|b)(a|b)))|a((ba|ab)b|bba))|b(((a|b)(ba|aa))b|((ab|aa)a|(aa|b(a|b))b)a))|a(((b(ab|bb)|a(bb|ba))a|babb)a|(a((a|b)(ba|aa))|b((ba|aa)a|((a|b)a|ab)b))b))|b(a(b(a(((a|b)(a|b))a|(bb|aa)b)|b(aba|bbb))|a(a((aa|b(a|b))b|((a|b)b|aa)a)|b(((a|b)(a|b))a|(bb|aa)b)))|b(a(a((aa|b(a|b))b|((a|b)b|aa)a)|baab)|b(b(aab|b(ab|aa))|a(baa|((a|b)a|ab)b)))))a))+(?(open)(?!))"
      ]
     },
     "execution_count": 64,
     "metadata": {},
     "output_type": "execute_result"
    }
   ],
   "source": [
    "regexRules2[8] = $\"{regexRules2[42]}+\";\n",
    "regexRules2[11] = $\"(?<open>{regexRules2[42]})+(?<close-open>{regexRules2[31]})+(?(open)(?!))\";\n",
    "regexRules2[0] = regexRules2[8] + regexRules2[11];\n",
    "regexRules2[0]"
   ]
  },
  {
   "cell_type": "code",
   "execution_count": 65,
   "metadata": {},
   "outputs": [
    {
     "data": {
      "text/html": [
       "<div class=\"dni-plaintext\">414</div>"
      ]
     },
     "execution_count": 65,
     "metadata": {},
     "output_type": "execute_result"
    }
   ],
   "source": [
    "messages.Where(m => Regex.IsMatch(m, $@\"^{regexRules2[0]}$\")).Count()"
   ]
  }
 ],
 "metadata": {
  "kernelspec": {
   "display_name": ".NET (C#)",
   "language": "C#",
   "name": ".net-csharp"
  },
  "language_info": {
   "file_extension": ".cs",
   "mimetype": "text/x-csharp",
   "name": "C#",
   "pygments_lexer": "csharp",
   "version": "8.0"
  }
 },
 "nbformat": 4,
 "nbformat_minor": 4
}
