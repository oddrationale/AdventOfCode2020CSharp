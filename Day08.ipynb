{
 "cells": [
  {
   "cell_type": "markdown",
   "metadata": {},
   "source": [
    "[![Binder](https://mybinder.org/badge_logo.svg)](https://mybinder.org/v2/gh/oddrationale/AdventOfCode2020CSharp/main?urlpath=lab%2Ftree%2FDay08.ipynb)"
   ]
  },
  {
   "cell_type": "markdown",
   "metadata": {},
   "source": [
    "# --- Day 8: Handheld Halting ---"
   ]
  },
  {
   "cell_type": "code",
   "execution_count": 2,
   "metadata": {},
   "outputs": [],
   "source": [
    "using System.IO;"
   ]
  },
  {
   "cell_type": "code",
   "execution_count": 3,
   "metadata": {},
   "outputs": [],
   "source": [
    "enum Operations\n",
    "{\n",
    "    acc,\n",
    "    jmp,\n",
    "    nop,\n",
    "}"
   ]
  },
  {
   "cell_type": "code",
   "execution_count": 4,
   "metadata": {},
   "outputs": [],
   "source": [
    "record Instruction(Operations Operation, int Argument);"
   ]
  },
  {
   "cell_type": "code",
   "execution_count": 5,
   "metadata": {},
   "outputs": [],
   "source": [
    "var bootCode = File\n",
    "    .ReadAllLines(@\"input/08.txt\")\n",
    "    .Select(line => line.Split(\" \"))\n",
    "    .Select(arr => new Instruction((Operations)Enum.Parse(typeof(Operations), arr.First()), Convert.ToInt32(arr.Last())))\n",
    "    .ToArray();"
   ]
  },
  {
   "cell_type": "code",
   "execution_count": 6,
   "metadata": {},
   "outputs": [],
   "source": [
    "(int Accumulator, int Pointer) RunBootCode(Instruction[] instructions)\n",
    "{\n",
    "    var accumulator = 0;\n",
    "    var pointer = 0;\n",
    "    bool[] visited = new bool[instructions.Length];\n",
    "    while (pointer < instructions.Length && !visited[pointer])\n",
    "    {\n",
    "        var ins = instructions[pointer];\n",
    "        visited[pointer] = true;\n",
    "        switch (ins.Operation)\n",
    "        {\n",
    "            case Operations.acc:\n",
    "                accumulator += ins.Argument;\n",
    "                pointer++;\n",
    "                break;\n",
    "            case Operations.jmp:\n",
    "                pointer += ins.Argument;\n",
    "                break;\n",
    "            case Operations.nop:\n",
    "                pointer++;\n",
    "                break;\n",
    "        }\n",
    "    }\n",
    "    return (accumulator, pointer);\n",
    "}"
   ]
  },
  {
   "cell_type": "code",
   "execution_count": 7,
   "metadata": {},
   "outputs": [
    {
     "data": {
      "text/html": [
       "<div class=\"dni-plaintext\">1610</div>"
      ]
     },
     "execution_count": 7,
     "metadata": {},
     "output_type": "execute_result"
    }
   ],
   "source": [
    "RunBootCode(bootCode).Accumulator"
   ]
  },
  {
   "cell_type": "markdown",
   "metadata": {},
   "source": [
    "# --- Part Two ---"
   ]
  },
  {
   "cell_type": "code",
   "execution_count": 8,
   "metadata": {},
   "outputs": [],
   "source": [
    "int FixBootCode(Instruction[] instructions)\n",
    "{\n",
    "    for (int i = 0; i < instructions.Length; i++)\n",
    "    {\n",
    "        var acc = 0;\n",
    "        var ptr = 0;\n",
    "        var ins = instructions[i];\n",
    "        \n",
    "        switch (ins.Operation)\n",
    "        {\n",
    "            case Operations.jmp:\n",
    "                (acc, ptr) = runBootCode(instructions.Take(i)\n",
    "                    .Append(new Instruction(Operations.nop, ins.Argument))\n",
    "                    .Concat(instructions.Skip(i+1)).ToArray());\n",
    "                break;\n",
    "            case Operations.nop:\n",
    "                (acc, ptr) = runBootCode(instructions.Take(i)\n",
    "                    .Append(new Instruction(Operations.jmp, ins.Argument))\n",
    "                    .Concat(instructions.Skip(i+1)).ToArray());\n",
    "                break;\n",
    "        }\n",
    "\n",
    "        if (ptr >= instructions.Length)\n",
    "        {\n",
    "            return acc;\n",
    "        }\n",
    "    }\n",
    "    return 0;\n",
    "}"
   ]
  },
  {
   "cell_type": "code",
   "execution_count": 9,
   "metadata": {},
   "outputs": [
    {
     "data": {
      "text/html": [
       "<div class=\"dni-plaintext\">1703</div>"
      ]
     },
     "execution_count": 9,
     "metadata": {},
     "output_type": "execute_result"
    }
   ],
   "source": [
    "FixBootCode(bootCode)"
   ]
  }
 ],
 "metadata": {
  "kernelspec": {
   "display_name": ".NET (C#)",
   "language": "C#",
   "name": ".net-csharp"
  },
  "language_info": {
   "file_extension": ".cs",
   "mimetype": "text/x-csharp",
   "name": "C#",
   "pygments_lexer": "csharp",
   "version": "8.0"
  }
 },
 "nbformat": 4,
 "nbformat_minor": 4
}
