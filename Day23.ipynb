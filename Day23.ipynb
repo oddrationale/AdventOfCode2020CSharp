{
 "cells": [
  {
   "cell_type": "markdown",
   "metadata": {},
   "source": [
    "[![Binder](https://mybinder.org/badge_logo.svg)](https://mybinder.org/v2/gh/oddrationale/AdventOfCode2020CSharp/main?urlpath=lab%2Ftree%2FDay23.ipynb)"
   ]
  },
  {
   "cell_type": "markdown",
   "metadata": {},
   "source": [
    "# --- Day 23: Crab Cups ---"
   ]
  },
  {
   "cell_type": "code",
   "execution_count": 3,
   "metadata": {},
   "outputs": [],
   "source": [
    "using System.IO;"
   ]
  },
  {
   "cell_type": "code",
   "execution_count": 4,
   "metadata": {},
   "outputs": [],
   "source": [
    "var cups = new LinkedList<int>(File.ReadAllText(@\"input/23.txt\").ToCharArray().Select(c => (int)char.GetNumericValue(c)));"
   ]
  },
  {
   "cell_type": "code",
   "execution_count": 32,
   "metadata": {},
   "outputs": [],
   "source": [
    "var cups = new LinkedList<int>(\"389125467\".ToCharArray().Select(c => (int)char.GetNumericValue(c)));"
   ]
  },
  {
   "cell_type": "code",
   "execution_count": 6,
   "metadata": {},
   "outputs": [],
   "source": [
    "LinkedListNode<int> next(LinkedListNode<int> current) => current.Next ?? current.List.First;\n",
    "\n",
    "void move(LinkedList<int> cups, int times)\n",
    "{    \n",
    "    LinkedListNode<int> destination;\n",
    "    var current = cups.First;\n",
    "    var threeCups = new LinkedListNode<int>[3];\n",
    "    \n",
    "    for (var i = 0; i < times; i++)\n",
    "    {\n",
    "        threeCups[0] = next(current);\n",
    "        threeCups[1] = next(threeCups[0]);\n",
    "        threeCups[2] = next(threeCups[1]);\n",
    "        \n",
    "        cups.Remove(threeCups[0]);\n",
    "        cups.Remove(threeCups[1]);\n",
    "        cups.Remove(threeCups[2]);\n",
    "        \n",
    "        for (var inc = 1; ; inc++)\n",
    "        {\n",
    "            if (current.Value - inc < 1)\n",
    "            {\n",
    "                destination = cups.Find(cups.Max());\n",
    "                break;\n",
    "            }\n",
    "            else if (threeCups.Select(n => n.Value).Contains(current.Value - inc))\n",
    "            {\n",
    "                continue;\n",
    "            }\n",
    "            else\n",
    "            {\n",
    "                destination = cups.Find(current.Value - inc);\n",
    "                break;\n",
    "            }\n",
    "        }\n",
    "        \n",
    "        cups.AddAfter(destination, threeCups[2]);\n",
    "        cups.AddAfter(destination, threeCups[1]);\n",
    "        cups.AddAfter(destination, threeCups[0]);\n",
    "        \n",
    "        current = next(current);\n",
    "    }\n",
    "}"
   ]
  },
  {
   "cell_type": "code",
   "execution_count": 7,
   "metadata": {},
   "outputs": [],
   "source": [
    "move(cups, 100)"
   ]
  },
  {
   "cell_type": "code",
   "execution_count": 8,
   "metadata": {},
   "outputs": [
    {
     "data": {
      "text/plain": [
       "67384529"
      ]
     },
     "execution_count": 8,
     "metadata": {},
     "output_type": "execute_result"
    }
   ],
   "source": [
    "string.Join(\"\", cups.ToArray()[cups.ToList().IndexOf(1)..].Skip(1)) + string.Join(\"\", cups.ToArray()[0..cups.ToList().IndexOf(1)])"
   ]
  },
  {
   "cell_type": "markdown",
   "metadata": {},
   "source": [
    "# --- Part Two ---"
   ]
  },
  {
   "cell_type": "code",
   "execution_count": 33,
   "metadata": {},
   "outputs": [],
   "source": [
    "var cups2 = new LinkedList<int>(File.ReadAllText(@\"input/23.txt\").ToCharArray().Select(c => (int)char.GetNumericValue(c)).Concat(Enumerable.Range(10, 1_000_000 - 9)));"
   ]
  },
  {
   "cell_type": "code",
   "execution_count": 34,
   "metadata": {},
   "outputs": [
    {
     "data": {
      "text/html": [
       "<div class=\"dni-plaintext\">1000000</div>"
      ]
     },
     "execution_count": 34,
     "metadata": {},
     "output_type": "execute_result"
    }
   ],
   "source": [
    "cups2.Count()"
   ]
  },
  {
   "cell_type": "code",
   "execution_count": null,
   "metadata": {},
   "outputs": [],
   "source": [
    "move(cups2, 10_000_000)"
   ]
  },
  {
   "cell_type": "code",
   "execution_count": 31,
   "metadata": {},
   "outputs": [
    {
     "data": {
      "text/html": [
       "<div class=\"dni-plaintext\">4585053</div>"
      ]
     },
     "execution_count": 31,
     "metadata": {},
     "output_type": "execute_result"
    }
   ],
   "source": [
    "next(cups2.Find(1)).Value * next(next(cups2.Find(1))).Value"
   ]
  },
  {
   "cell_type": "code",
   "execution_count": 13,
   "metadata": {},
   "outputs": [
    {
     "data": {
      "text/html": [
       "<table><thead><tr><th><i>index</i></th><th>value</th></tr></thead><tbody><tr><td>0</td><td><div class=\"dni-plaintext\">1</div></td></tr><tr><td>1</td><td><div class=\"dni-plaintext\">6</div></td></tr><tr><td>2</td><td><div class=\"dni-plaintext\">9</div></td></tr><tr><td>3</td><td><div class=\"dni-plaintext\">13</div></td></tr><tr><td>4</td><td><div class=\"dni-plaintext\">17</div></td></tr><tr><td>5</td><td><div class=\"dni-plaintext\">21</div></td></tr><tr><td>6</td><td><div class=\"dni-plaintext\">25</div></td></tr><tr><td>7</td><td><div class=\"dni-plaintext\">29</div></td></tr><tr><td>8</td><td><div class=\"dni-plaintext\">33</div></td></tr><tr><td>9</td><td><div class=\"dni-plaintext\">37</div></td></tr><tr><td>10</td><td><div class=\"dni-plaintext\">41</div></td></tr><tr><td>11</td><td><div class=\"dni-plaintext\">45</div></td></tr><tr><td>12</td><td><div class=\"dni-plaintext\">49</div></td></tr><tr><td>13</td><td><div class=\"dni-plaintext\">53</div></td></tr><tr><td>14</td><td><div class=\"dni-plaintext\">57</div></td></tr><tr><td>15</td><td><div class=\"dni-plaintext\">61</div></td></tr><tr><td>16</td><td><div class=\"dni-plaintext\">65</div></td></tr><tr><td>17</td><td><div class=\"dni-plaintext\">69</div></td></tr><tr><td>18</td><td><div class=\"dni-plaintext\">73</div></td></tr><tr><td>19</td><td><div class=\"dni-plaintext\">77</div></td></tr><tr><td colspan=\"2\">(999980 more)</td></tr></tbody></table>"
      ]
     },
     "execution_count": 13,
     "metadata": {},
     "output_type": "execute_result"
    }
   ],
   "source": [
    "cups2"
   ]
  },
  {
   "cell_type": "code",
   "execution_count": null,
   "metadata": {},
   "outputs": [],
   "source": []
  }
 ],
 "metadata": {
  "kernelspec": {
   "display_name": ".NET (C#)",
   "language": "C#",
   "name": ".net-csharp"
  },
  "language_info": {
   "file_extension": ".cs",
   "mimetype": "text/x-csharp",
   "name": "C#",
   "pygments_lexer": "csharp",
   "version": "8.0"
  }
 },
 "nbformat": 4,
 "nbformat_minor": 4
}
