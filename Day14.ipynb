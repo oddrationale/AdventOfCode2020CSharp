{
 "cells": [
  {
   "cell_type": "markdown",
   "metadata": {},
   "source": [
    "[![Binder](https://mybinder.org/badge_logo.svg)](https://mybinder.org/v2/gh/oddrationale/AdventOfCode2020CSharp/main?urlpath=lab%2Ftree%2FDay14.ipynb)"
   ]
  },
  {
   "cell_type": "markdown",
   "metadata": {},
   "source": [
    "# --- Day 14: Docking Data ---"
   ]
  },
  {
   "cell_type": "code",
   "execution_count": 11,
   "metadata": {},
   "outputs": [],
   "source": [
    "using System.IO;\n",
    "using System.Text.RegularExpressions;"
   ]
  },
  {
   "cell_type": "code",
   "execution_count": 12,
   "metadata": {},
   "outputs": [],
   "source": [
    "var initProgram = File.ReadAllLines(@\"input/14.txt\");"
   ]
  },
  {
   "cell_type": "code",
   "execution_count": 13,
   "metadata": {},
   "outputs": [],
   "source": [
    "class DecoderChip\n",
    "{\n",
    "    private Dictionary<long, long> _mem = new();\n",
    "    private string mask = \"XXXXXXXXXXXXXXXXXXXXXXXXXXXXXXXXXXXX\";\n",
    "    \n",
    "    public Dictionary<long, long> Mem\n",
    "    {\n",
    "        get => _mem;\n",
    "    }\n",
    "    \n",
    "    public DecoderChip(IEnumerable<string> program)\n",
    "    {\n",
    "        foreach (var ins in program)\n",
    "        {\n",
    "            ReadInstruction(ins);\n",
    "        }\n",
    "    }\n",
    "    \n",
    "    private void UpdateMask(string mask)\n",
    "    {\n",
    "        this.mask = mask;\n",
    "    }\n",
    "    \n",
    "    private void SetMem(long addr, long input)\n",
    "    {\n",
    "        _mem[addr] = ApplyMask(input);\n",
    "    }\n",
    "    \n",
    "    private long ApplyMask(long input)\n",
    "    {\n",
    "        var inputStr = Convert.ToString(input, 2).PadLeft(36, '0');\n",
    "        var resultStr = new string(Enumerable.Zip(inputStr, mask, (i, m) => m == 'X' ? i : m).ToArray());\n",
    "        return Convert.ToInt64(resultStr, 2);\n",
    "    }\n",
    "    \n",
    "    public void ReadInstruction(string instruction)\n",
    "    {\n",
    "        if (instruction.StartsWith(\"mask\"))\n",
    "        {\n",
    "            UpdateMask(instruction.Split(\" = \").Last());\n",
    "        }\n",
    "        else if (instruction.StartsWith(\"mem\"))\n",
    "        {\n",
    "            var addr = Convert.ToInt64(Regex.Match(instruction.Split(\" = \").First(), @\"\\d+\").Value);\n",
    "            var input = Convert.ToInt64(instruction.Split(\" = \").Last());\n",
    "            SetMem(addr, input);\n",
    "        }\n",
    "    }\n",
    "}"
   ]
  },
  {
   "cell_type": "code",
   "execution_count": 14,
   "metadata": {},
   "outputs": [
    {
     "data": {
      "text/html": [
       "<div class=\"dni-plaintext\">5902420735773</div>"
      ]
     },
     "execution_count": 14,
     "metadata": {},
     "output_type": "execute_result"
    }
   ],
   "source": [
    "var decoderChip = new DecoderChip(initProgram);\n",
    "decoderChip.Mem.Values.Sum()"
   ]
  },
  {
   "cell_type": "markdown",
   "metadata": {},
   "source": [
    "# --- Part Two ---"
   ]
  },
  {
   "cell_type": "code",
   "execution_count": 15,
   "metadata": {},
   "outputs": [],
   "source": [
    "class DecoderChip2\n",
    "{\n",
    "    private Dictionary<long, long> _mem = new();\n",
    "    private string mask = \"XXXXXXXXXXXXXXXXXXXXXXXXXXXXXXXXXXXX\";\n",
    "    \n",
    "    public Dictionary<long, long> Mem\n",
    "    {\n",
    "        get => _mem;\n",
    "    }\n",
    "    \n",
    "    public DecoderChip2(IEnumerable<string> program)\n",
    "    {\n",
    "        foreach (var ins in program)\n",
    "        {\n",
    "            ReadInstruction(ins);\n",
    "        }\n",
    "    }\n",
    "    \n",
    "    private void UpdateMask(string mask)\n",
    "    {\n",
    "        this.mask = mask;\n",
    "    }\n",
    "    \n",
    "    private void SetMem(long addr, long input)\n",
    "    {\n",
    "        foreach (var address in ApplyMask(addr))\n",
    "        {\n",
    "            _mem[address] = input;\n",
    "        }\n",
    "    }\n",
    "    \n",
    "    private long[] ApplyMask(long input)\n",
    "    {\n",
    "        var inputStr = Convert.ToString(input, 2).PadLeft(36, '0');\n",
    "        var resultStr = new string(Enumerable.Zip(inputStr, mask, (i, m) => m == '0' ? i : m).ToArray());\n",
    "        var stack = new Stack<string>();\n",
    "        var regex = new Regex(@\"X\");\n",
    "        var addresses = new List<long>();\n",
    "        \n",
    "        stack.Push(resultStr);\n",
    "        while (stack.Any())\n",
    "        {\n",
    "            var next = stack.Pop();\n",
    "            if (next.Contains(\"X\"))\n",
    "            {\n",
    "                stack.Push(regex.Replace(next, \"0\", 1));\n",
    "                stack.Push(regex.Replace(next, \"1\", 1));\n",
    "            }\n",
    "            else\n",
    "            {\n",
    "                addresses.Add(Convert.ToInt64(next, 2));\n",
    "            }\n",
    "        }\n",
    "        \n",
    "        return addresses.ToArray();\n",
    "    }\n",
    "    \n",
    "    public void ReadInstruction(string instruction)\n",
    "    {\n",
    "        if (instruction.StartsWith(\"mask\"))\n",
    "        {\n",
    "            UpdateMask(instruction.Split(\" = \").Last());\n",
    "        }\n",
    "        else if (instruction.StartsWith(\"mem\"))\n",
    "        {\n",
    "            var addr = Convert.ToInt64(Regex.Match(instruction.Split(\" = \").First(), @\"\\d+\").Value);\n",
    "            var input = Convert.ToInt64(instruction.Split(\" = \").Last());\n",
    "            SetMem(addr, input);\n",
    "        }\n",
    "    }\n",
    "}"
   ]
  },
  {
   "cell_type": "code",
   "execution_count": 16,
   "metadata": {},
   "outputs": [
    {
     "data": {
      "text/html": [
       "<div class=\"dni-plaintext\">3801988250775</div>"
      ]
     },
     "execution_count": 16,
     "metadata": {},
     "output_type": "execute_result"
    }
   ],
   "source": [
    "var decoderChip2 = new DecoderChip2(initProgram);\n",
    "decoderChip2.Mem.Values.Sum()"
   ]
  }
 ],
 "metadata": {
  "kernelspec": {
   "display_name": ".NET (C#)",
   "language": "C#",
   "name": ".net-csharp"
  },
  "language_info": {
   "file_extension": ".cs",
   "mimetype": "text/x-csharp",
   "name": "C#",
   "pygments_lexer": "csharp",
   "version": "8.0"
  }
 },
 "nbformat": 4,
 "nbformat_minor": 4
}
