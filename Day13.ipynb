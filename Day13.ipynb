{
 "cells": [
  {
   "cell_type": "markdown",
   "metadata": {},
   "source": [
    "[![Binder](https://mybinder.org/badge_logo.svg)](https://mybinder.org/v2/gh/oddrationale/AdventOfCode2020CSharp/main?urlpath=lab%2Ftree%2FDay13.ipynb)"
   ]
  },
  {
   "cell_type": "markdown",
   "metadata": {},
   "source": [
    "# --- Day 13: Shuttle Search ---"
   ]
  },
  {
   "cell_type": "code",
   "execution_count": 2,
   "metadata": {},
   "outputs": [],
   "source": [
    "using System.IO;"
   ]
  },
  {
   "cell_type": "code",
   "execution_count": 3,
   "metadata": {},
   "outputs": [],
   "source": [
    "var input = File.ReadAllLines(@\"input/13.txt\");\n",
    "var earliestDepartingTimestamp = Convert.ToInt32(input.First());\n",
    "var buses = input.Last().Split(\",\");"
   ]
  },
  {
   "cell_type": "code",
   "execution_count": 4,
   "metadata": {},
   "outputs": [],
   "source": [
    "(int ID, int WaitTime) FindEarliestBus(int departTime, string[] buses)\n",
    "{\n",
    "    var time = departTime;\n",
    "    var activeBuses = buses.Where(id => id != \"x\").Select(int.Parse).ToArray();\n",
    "    \n",
    "    while (true)\n",
    "    {\n",
    "        foreach (int bus in activeBuses)\n",
    "        {\n",
    "            if (time % bus == 0)\n",
    "            {\n",
    "                return (bus, time - departTime);\n",
    "            }\n",
    "        }\n",
    "        time++;\n",
    "    }\n",
    "}"
   ]
  },
  {
   "cell_type": "code",
   "execution_count": 5,
   "metadata": {},
   "outputs": [
    {
     "data": {
      "text/html": [
       "<div class=\"dni-plaintext\">2947</div>"
      ]
     },
     "execution_count": 5,
     "metadata": {},
     "output_type": "execute_result"
    }
   ],
   "source": [
    "(var id, var waitTime) = FindEarliestBus(earliestDepartingTimestamp, buses);\n",
    "id * waitTime"
   ]
  },
  {
   "cell_type": "markdown",
   "metadata": {},
   "source": [
    "# --- Part Two ---"
   ]
  },
  {
   "cell_type": "code",
   "execution_count": 6,
   "metadata": {},
   "outputs": [],
   "source": [
    "ulong FindT(string[] buses)\n",
    "{\n",
    "    var activeBuses = buses.Select((bus, i) => (i, bus)).Where(t => t.Item2 != \"x\").Select(t => (t.Item1, Convert.ToInt32(t.Item2)));\n",
    "    ulong increment = 1;\n",
    "    ulong t = 0;\n",
    "    \n",
    "    foreach ((var index, var id) in activeBuses)\n",
    "    {\n",
    "        while ((t + (uint)index) % (uint)id != 0)\n",
    "        {\n",
    "            t += increment;\n",
    "        }\n",
    "        increment *= (uint)id;\n",
    "    }\n",
    "    \n",
    "    return t;\n",
    "}"
   ]
  },
  {
   "cell_type": "code",
   "execution_count": 7,
   "metadata": {},
   "outputs": [
    {
     "data": {
      "text/html": [
       "<div class=\"dni-plaintext\">526090562196173</div>"
      ]
     },
     "execution_count": 7,
     "metadata": {},
     "output_type": "execute_result"
    }
   ],
   "source": [
    "FindT(buses)"
   ]
  }
 ],
 "metadata": {
  "kernelspec": {
   "display_name": ".NET (C#)",
   "language": "C#",
   "name": ".net-csharp"
  },
  "language_info": {
   "file_extension": ".cs",
   "mimetype": "text/x-csharp",
   "name": "C#",
   "pygments_lexer": "csharp",
   "version": "8.0"
  }
 },
 "nbformat": 4,
 "nbformat_minor": 4
}
