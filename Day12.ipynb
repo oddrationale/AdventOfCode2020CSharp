{
 "cells": [
  {
   "cell_type": "markdown",
   "metadata": {},
   "source": [
    "[![Binder](https://mybinder.org/badge_logo.svg)](https://mybinder.org/v2/gh/oddrationale/AdventOfCode2020CSharp/main?urlpath=lab%2Ftree%2FDay12.ipynb)"
   ]
  },
  {
   "cell_type": "markdown",
   "metadata": {},
   "source": [
    "# --- Day 12: Rain Risk ---"
   ]
  },
  {
   "cell_type": "code",
   "execution_count": 2,
   "metadata": {},
   "outputs": [],
   "source": [
    "using System.IO;"
   ]
  },
  {
   "cell_type": "code",
   "execution_count": 3,
   "metadata": {},
   "outputs": [],
   "source": [
    "var navInstructions = File.ReadAllLines(@\"input/12.txt\").ToArray();"
   ]
  },
  {
   "cell_type": "code",
   "execution_count": 4,
   "metadata": {},
   "outputs": [],
   "source": [
    "enum Orientation\n",
    "{\n",
    "    N,\n",
    "    E,\n",
    "    S,\n",
    "    W,\n",
    "};"
   ]
  },
  {
   "cell_type": "code",
   "execution_count": 5,
   "metadata": {},
   "outputs": [],
   "source": [
    "class Ship1\n",
    "{\n",
    "    private int _x = 0;\n",
    "    private int _y = 0;\n",
    "    \n",
    "    public int X { get => _x; }\n",
    "    public int Y { get => _y; }    \n",
    "    public int Distance { get => Math.Abs(_x) + Math.Abs(_y); }\n",
    "    public Orientation Facing { get; set; } = Orientation.E;\n",
    "    \n",
    "    private void Move(string instruction)\n",
    "    {\n",
    "        var direction = instruction[0] == 'F' ? Facing : Enum.Parse<Orientation>(instruction[0].ToString());\n",
    "        \n",
    "        switch (direction)\n",
    "        {\n",
    "            case Orientation.N:\n",
    "                _y -= Convert.ToInt32(instruction[1..]);\n",
    "                break;\n",
    "            case Orientation.E:\n",
    "                _x += Convert.ToInt32(instruction[1..]);\n",
    "                break;\n",
    "            case Orientation.S:\n",
    "                _y += Convert.ToInt32(instruction[1..]);\n",
    "                break;\n",
    "            case Orientation.W:\n",
    "                _x -= Convert.ToInt32(instruction[1..]);\n",
    "                break;\n",
    "        }\n",
    "    }\n",
    "    \n",
    "    private void Turn(string instruction)\n",
    "    {\n",
    "        var degrees = Convert.ToInt32(instruction[1..]);\n",
    "        switch (instruction[0])\n",
    "        {\n",
    "            case 'L':\n",
    "                Facing = (Orientation)(((int)Facing + 4 - (degrees / 90)) % 4);\n",
    "                break;\n",
    "            case 'R':\n",
    "                Facing = (Orientation)(((int)Facing + (degrees / 90)) % 4);\n",
    "                break;\n",
    "        }\n",
    "    }\n",
    "    \n",
    "    public void ReadNavInstruction(string instruction)\n",
    "    {\n",
    "        switch (instruction[0])\n",
    "        {\n",
    "            case 'N':\n",
    "            case 'E':\n",
    "            case 'S':\n",
    "            case 'W':\n",
    "            case 'F':\n",
    "                Move(instruction);\n",
    "                break;\n",
    "            case 'L':\n",
    "            case 'R':\n",
    "                Turn(instruction);\n",
    "                break;\n",
    "        }\n",
    "    }\n",
    "}"
   ]
  },
  {
   "cell_type": "code",
   "execution_count": 6,
   "metadata": {},
   "outputs": [
    {
     "data": {
      "text/html": [
       "<div class=\"dni-plaintext\">441</div>"
      ]
     },
     "execution_count": 6,
     "metadata": {},
     "output_type": "execute_result"
    }
   ],
   "source": [
    "var ship1 = new Ship1();\n",
    "foreach (var i in navInstructions)\n",
    "{\n",
    "    ship1.ReadNavInstruction(i);\n",
    "}\n",
    "ship1.Distance"
   ]
  },
  {
   "cell_type": "markdown",
   "metadata": {},
   "source": [
    "# --- Part Two ---"
   ]
  },
  {
   "cell_type": "code",
   "execution_count": 7,
   "metadata": {},
   "outputs": [],
   "source": [
    "class Ship2\n",
    "{\n",
    "    private int _x = 0;\n",
    "    private int _y = 0;\n",
    "    private int _dX = 10;\n",
    "    private int _dY = -1;\n",
    "    \n",
    "    public int X { get => _x; }\n",
    "    public int Y { get => _y; }\n",
    "    public int WaypointX { get => _x + _dX; }\n",
    "    public int WaypointY { get => _y + _dY; }\n",
    "    public int Distance { get => Math.Abs(_x) + Math.Abs(_y); }\n",
    "    \n",
    "    private void Move(string instruction)\n",
    "    {\n",
    "        if (instruction[0] == 'F')\n",
    "        {\n",
    "            for (int i = 0; i < Convert.ToInt32(instruction[1..]); i++)\n",
    "            {\n",
    "                _x = WaypointX;\n",
    "                _y = WaypointY;\n",
    "            }\n",
    "            return;\n",
    "        }\n",
    "        \n",
    "        switch (Enum.Parse<Orientation>(instruction[0].ToString()))\n",
    "        {\n",
    "            case Orientation.N:\n",
    "                _dY -= Convert.ToInt32(instruction[1..]);\n",
    "                break;\n",
    "            case Orientation.E:\n",
    "                _dX += Convert.ToInt32(instruction[1..]);\n",
    "                break;\n",
    "            case Orientation.S:\n",
    "                _dY += Convert.ToInt32(instruction[1..]);\n",
    "                break;\n",
    "            case Orientation.W:\n",
    "                _dX -= Convert.ToInt32(instruction[1..]);\n",
    "                break;\n",
    "        }\n",
    "    }\n",
    "    \n",
    "    private void Turn(string instruction)\n",
    "    {\n",
    "        var degrees = Convert.ToInt32(instruction[1..]);\n",
    "        switch (instruction[0])\n",
    "        {\n",
    "            case 'L':\n",
    "                for (int i = 0; i < degrees / 90; i++)\n",
    "                {\n",
    "                    (_dX, _dY) = (_dY, -_dX);\n",
    "                }\n",
    "                break;\n",
    "            case 'R':\n",
    "                for (int i = 0; i < degrees / 90; i++)\n",
    "                {\n",
    "                    (_dX, _dY) = (-_dY, _dX);\n",
    "                }\n",
    "                break;\n",
    "        }\n",
    "    }\n",
    "    \n",
    "    public void ReadNavInstruction(string instruction)\n",
    "    {\n",
    "        switch (instruction[0])\n",
    "        {\n",
    "            case 'N':\n",
    "            case 'E':\n",
    "            case 'S':\n",
    "            case 'W':\n",
    "            case 'F':\n",
    "                Move(instruction);\n",
    "                break;\n",
    "            case 'L':\n",
    "            case 'R':\n",
    "                Turn(instruction);\n",
    "                break;\n",
    "        }\n",
    "    }\n",
    "}"
   ]
  },
  {
   "cell_type": "code",
   "execution_count": 8,
   "metadata": {},
   "outputs": [
    {
     "data": {
      "text/html": [
       "<div class=\"dni-plaintext\">40014</div>"
      ]
     },
     "execution_count": 8,
     "metadata": {},
     "output_type": "execute_result"
    }
   ],
   "source": [
    "var ship2 = new Ship2();\n",
    "foreach (var i in navInstructions)\n",
    "{\n",
    "    ship2.ReadNavInstruction(i);\n",
    "}\n",
    "ship2.Distance"
   ]
  }
 ],
 "metadata": {
  "kernelspec": {
   "display_name": ".NET (C#)",
   "language": "C#",
   "name": ".net-csharp"
  },
  "language_info": {
   "file_extension": ".cs",
   "mimetype": "text/x-csharp",
   "name": "C#",
   "pygments_lexer": "csharp",
   "version": "8.0"
  }
 },
 "nbformat": 4,
 "nbformat_minor": 4
}
