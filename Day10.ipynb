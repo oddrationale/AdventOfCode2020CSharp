{
 "cells": [
  {
   "cell_type": "markdown",
   "metadata": {},
   "source": [
    "[![Binder](https://mybinder.org/badge_logo.svg)](https://mybinder.org/v2/gh/oddrationale/AdventOfCode2020CSharp/main?urlpath=lab%2Ftree%2FDay10.ipynb)"
   ]
  },
  {
   "cell_type": "markdown",
   "metadata": {},
   "source": [
    "# --- Day 10: Adapter Array ---"
   ]
  },
  {
   "cell_type": "code",
   "execution_count": 2,
   "metadata": {},
   "outputs": [],
   "source": [
    "using System.IO;\n",
    "using System.Text.RegularExpressions;"
   ]
  },
  {
   "cell_type": "code",
   "execution_count": 3,
   "metadata": {},
   "outputs": [],
   "source": [
    "var adapters = File.ReadAllLines(@\"input/10.txt\").Select(int.Parse).ToArray();"
   ]
  },
  {
   "cell_type": "markdown",
   "metadata": {},
   "source": [
    "Order the adapters in ascending order. Use the `Zip` method to get the difference between each adapter and the previous one. Group by the difference. Filter for where the difference is 1 or 3. Multiply the numbers together."
   ]
  },
  {
   "cell_type": "code",
   "execution_count": 4,
   "metadata": {},
   "outputs": [
    {
     "data": {
      "text/html": [
       "<div class=\"dni-plaintext\">2484</div>"
      ]
     },
     "execution_count": 4,
     "metadata": {},
     "output_type": "execute_result"
    }
   ],
   "source": [
    "Enumerable.Zip(\n",
    "    adapters.Append(0).OrderBy(jolt => jolt),\n",
    "    adapters.Append(adapters.Max() + 3).OrderBy(jolt => jolt),\n",
    "    (i, j) => j - i\n",
    ").GroupBy(diff => diff)\n",
    "    .Where(grp => grp.Key == 1 || grp.Key == 3)\n",
    "    .Select(grp => grp.Count())\n",
    "    .Aggregate((a, b) => a * b)"
   ]
  },
  {
   "cell_type": "markdown",
   "metadata": {},
   "source": [
    "# --- Part Two ---"
   ]
  },
  {
   "cell_type": "markdown",
   "metadata": {},
   "source": [
    "Here's how the problem can be solved, using the first example:\n",
    "\n",
    "```\n",
    "(0), 1, 4, 5, 6, 7, 10, 11, 12, 15, 16, 19, (22)\n",
    "   1  3  1  1  1  3   1   1   3   1   3   3\n",
    "```\n",
    "\n",
    "The first row are the adapter jolts in ascending order. The second row shows the difference/gap between each adapter.\n",
    "\n",
    "The first thing which should become obvious is that adapters with a gap of three can never be removed from the chain. Hence, we only can have variation in the arrangement if there is a sequence of adapters with gaps of one between them.\n",
    "\n",
    "For example, in a sequence of **four consecutive numbers**:\n",
    "\n",
    "```\n",
    "4, 5, 6, 7\n",
    " 1  1  1\n",
    "```\n",
    "\n",
    "We have four different valid arrangements:\n",
    "\n",
    "```\n",
    "4, 5, 6, 7\n",
    "4, 5, 7\n",
    "4, 6, 7\n",
    "4, 7\n",
    "```\n",
    "\n",
    "Likewise, in a sequence of **three consecutive numbers**:\n",
    "\n",
    "```\n",
    "10, 11, 12\n",
    "  1   1\n",
    "```\n",
    "\n",
    "There are only two valid arrangements:\n",
    "\n",
    "```\n",
    "10, 11, 12\n",
    "10, 12\n",
    "```\n",
    "\n",
    "For **two consecutive numbers**, there is only one valid arragement:\n",
    "\n",
    "```\n",
    "15, 16\n",
    "  1\n",
    "```\n",
    "\n",
    "We should now start to see a pattern for a solution. First we find the groups of consecutive numbers (where the gaps is one). For each group, we calculate the number of arrangements. Then finally we multiply the numbers together to get the total number of arrangements in the chain.\n",
    "\n",
    "Using our example, we can take the list of gaps as a string:\n",
    "\n",
    "```\n",
    "131113113133\n",
    "```\n",
    "\n",
    "We can split/remove the threes and get the following groups:\n",
    "\n",
    "```\n",
    "[1], [111], [11], [1]\n",
    "```\n",
    "\n",
    "Or in other words:\n",
    "\n",
    "```\n",
    "[two consecutive numbers], [four consecutive numbers], [three consecutive numbers, [two consecutive numbers]\n",
    "```\n",
    "\n",
    "For each group, we calculate the number of arrangements:\n",
    "\n",
    "```\n",
    "[1 arrangement], [4 arragements], [2 arragements], [1 arragement]\n",
    "```\n",
    "\n",
    "Multiply these together gives us the answer `8`."
   ]
  },
  {
   "cell_type": "code",
   "execution_count": 5,
   "metadata": {},
   "outputs": [
    {
     "data": {
      "text/html": [
       "<div class=\"dni-plaintext\">15790581481472</div>"
      ]
     },
     "execution_count": 5,
     "metadata": {},
     "output_type": "execute_result"
    }
   ],
   "source": [
    "Regex.Split(\n",
    "    string.Join(\n",
    "        \"\",\n",
    "        Enumerable.Zip(\n",
    "            adapters.Append(0).OrderBy(jolt => jolt),\n",
    "            adapters.Append(adapters.Max() + 3).OrderBy(jolt => jolt),\n",
    "            (i, j) => j - i\n",
    "        )\n",
    "    ),\n",
    "    @\"3+\"\n",
    ").Where(g => !string.IsNullOrEmpty(g))\n",
    "    .Select(g => {\n",
    "    if (g.Length == 0)\n",
    "    {\n",
    "        return 1;\n",
    "    }\n",
    "    else if (g.Length < 4)\n",
    "    {\n",
    "        return Math.Pow(2, g.Length - 1);\n",
    "    }\n",
    "    else if (g.Length == 4)\n",
    "    {\n",
    "        return Math.Pow(2, g.Length - 1) - 1;\n",
    "    }\n",
    "    else\n",
    "    {\n",
    "        return Math.Pow(2, g.Length - 1) - g.Length - 2;\n",
    "    }\n",
    "}).Aggregate((a, b) => a*b)"
   ]
  }
 ],
 "metadata": {
  "kernelspec": {
   "display_name": ".NET (C#)",
   "language": "C#",
   "name": ".net-csharp"
  },
  "language_info": {
   "file_extension": ".cs",
   "mimetype": "text/x-csharp",
   "name": "C#",
   "pygments_lexer": "csharp",
   "version": "8.0"
  }
 },
 "nbformat": 4,
 "nbformat_minor": 4
}
