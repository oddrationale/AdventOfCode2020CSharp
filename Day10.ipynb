{
 "cells": [
  {
   "cell_type": "markdown",
   "metadata": {},
   "source": [
    "[![Binder](https://mybinder.org/badge_logo.svg)](https://mybinder.org/v2/gh/oddrationale/AdventOfCode2020CSharp/main?urlpath=lab%2Ftree%2FDay10.ipynb)"
   ]
  },
  {
   "cell_type": "markdown",
   "metadata": {},
   "source": [
    "# --- Day 10: Adapter Array ---"
   ]
  },
  {
   "cell_type": "code",
   "execution_count": 2,
   "metadata": {},
   "outputs": [],
   "source": [
    "using System.IO;\n",
    "using System.Text.RegularExpressions;"
   ]
  },
  {
   "cell_type": "code",
   "execution_count": 3,
   "metadata": {},
   "outputs": [],
   "source": [
    "var adapters = File.ReadAllLines(@\"input/10.txt\").Select(int.Parse).ToArray();"
   ]
  },
  {
   "cell_type": "markdown",
   "metadata": {},
   "source": [
    "Order the adapters in ascending order. Use the `Zip` method to get the difference between each adapter and the previous one. Group by the difference. Filter for where the difference is 1 or 3. Multiply the numbers together."
   ]
  },
  {
   "cell_type": "code",
   "execution_count": 4,
   "metadata": {},
   "outputs": [
    {
     "data": {
      "text/html": [
       "<div class=\"dni-plaintext\">2484</div>"
      ]
     },
     "execution_count": 4,
     "metadata": {},
     "output_type": "execute_result"
    }
   ],
   "source": [
    "Enumerable.Zip(\n",
    "    adapters.Append(0).OrderBy(jolt => jolt),\n",
    "    adapters.Append(adapters.Max() + 3).OrderBy(jolt => jolt),\n",
    "    (i, j) => j - i\n",
    ").GroupBy(diff => diff)\n",
    "    .Where(grp => grp.Key == 1 || grp.Key == 3)\n",
    "    .Select(grp => grp.Count())\n",
    "    .Aggregate((a, b) => a * b)"
   ]
  },
  {
   "cell_type": "markdown",
   "metadata": {},
   "source": [
    "# --- Part Two ---"
   ]
  },
  {
   "cell_type": "markdown",
   "metadata": {},
   "source": [
    "Here we are looking for groupings of where the difference between the adapters is `1`. So, using the example in the problem:\n",
    "\n",
    "```\n",
    "(0)\n",
    "  -> 1\n",
    "1\n",
    "  -> 3\n",
    "4\n",
    "  -> 1\n",
    "5\n",
    "  -> 1\n",
    "6\n",
    "  -> 1\n",
    "7\n",
    "  -> 3\n",
    "10\n",
    "  -> 1\n",
    "11\n",
    "  -> 1\n",
    "12\n",
    "  -> 3\n",
    "15\n",
    "  -> 1\n",
    "16\n",
    "  -> 3\n",
    "19\n",
    "  -> 3\n",
    "(22)\n",
    "```\n",
    "\n",
    "The `->` shows the difference between the adapters. This gives us a string of numbers:\n",
    "```\n",
    "131113113133\n",
    "```\n",
    "\n",
    "This gives us four groups of `1`'s, separated by `3`'s:\n",
    "\n",
    "```\n",
    "Group 1: 1\n",
    "Group 2: 111\n",
    "Group 3: 11\n",
    "Group 4: 1\n",
    "```\n",
    "\n",
    "We can only remove numbers if the count of `1`'s is more than two. So if there are two `1`'s then that means it is possible to remove the number between the `1`'s, in this case the 11.\n",
    "\n",
    "We convert we group of `1`'s to the number of combination that can be had in that group. Then we multiply the number of combination in each group to get the total."
   ]
  },
  {
   "cell_type": "code",
   "execution_count": 5,
   "metadata": {},
   "outputs": [
    {
     "data": {
      "text/html": [
       "<div class=\"dni-plaintext\">15790581481472</div>"
      ]
     },
     "execution_count": 5,
     "metadata": {},
     "output_type": "execute_result"
    }
   ],
   "source": [
    "Regex.Split(\n",
    "    string.Join(\n",
    "        \"\",\n",
    "        Enumerable.Zip(\n",
    "            adapters.Append(0).OrderBy(jolt => jolt),\n",
    "            adapters.Append(adapters.Max() + 3).OrderBy(jolt => jolt),\n",
    "            (i, j) => j - i\n",
    "        )\n",
    "    ),\n",
    "    @\"3+\"\n",
    ").Select(g => {\n",
    "    if (g.Length == 0)\n",
    "    {\n",
    "        return 1;\n",
    "    }\n",
    "    else if (g.Length < 4)\n",
    "    {\n",
    "        return Math.Pow(2, g.Length - 1);\n",
    "    }\n",
    "    else if (g.Length == 4)\n",
    "    {\n",
    "        return Math.Pow(2, g.Length - 1) - 1;\n",
    "    }\n",
    "    else\n",
    "    {\n",
    "        return Math.Pow(2, g.Length - 1) - g.Length + 2;\n",
    "    }\n",
    "}).Aggregate((a, b) => a*b)"
   ]
  }
 ],
 "metadata": {
  "kernelspec": {
   "display_name": ".NET (C#)",
   "language": "C#",
   "name": ".net-csharp"
  },
  "language_info": {
   "file_extension": ".cs",
   "mimetype": "text/x-csharp",
   "name": "C#",
   "pygments_lexer": "csharp",
   "version": "8.0"
  }
 },
 "nbformat": 4,
 "nbformat_minor": 4
}
