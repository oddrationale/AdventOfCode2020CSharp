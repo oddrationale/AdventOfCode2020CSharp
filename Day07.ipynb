{
 "cells": [
  {
   "cell_type": "markdown",
   "metadata": {},
   "source": [
    "[![Binder](https://mybinder.org/badge_logo.svg)](https://mybinder.org/v2/gh/oddrationale/AdventOfCode2020CSharp/main?urlpath=lab%2Ftree%2FDay07.ipynb)"
   ]
  },
  {
   "cell_type": "markdown",
   "metadata": {},
   "source": [
    "# --- Day 7: Handy Haversacks ---"
   ]
  },
  {
   "cell_type": "code",
   "execution_count": 2,
   "metadata": {},
   "outputs": [],
   "source": [
    "using System.IO;\n",
    "using System.Text.RegularExpressions;"
   ]
  },
  {
   "cell_type": "code",
   "execution_count": 3,
   "metadata": {},
   "outputs": [],
   "source": [
    "var rules = File\n",
    "    .ReadAllLines(@\"input/07.txt\")\n",
    "    .Where(line => !line.Contains(\"contain no other bags.\"))\n",
    "    .Select(line => line.Split(\" bags contain \"))\n",
    "    .ToDictionary(\n",
    "        k => k.First(),\n",
    "        v => v.Last().Split(\", \")\n",
    "            .Select(rule => Regex.Match(rule, @\"(\\d+)\\s(\\w+\\s\\w+)\"))\n",
    "            .Select(m => (InnerBag: m.Groups[2].Value, Count: Convert.ToInt32(m.Groups[1].Value)))\n",
    "            .ToArray());"
   ]
  },
  {
   "cell_type": "code",
   "execution_count": 4,
   "metadata": {},
   "outputs": [
    {
     "data": {
      "text/html": [
       "<table><thead><tr><th>Key</th><th>Value</th></tr></thead><tbody><tr><td><div class=\"dni-plaintext\">plaid fuchsia</div></td><td><div class=\"dni-plaintext\">[ ( light violet, 5 ), ( light yellow, 1 ) ]</div></td></tr></tbody></table>"
      ]
     },
     "execution_count": 4,
     "metadata": {},
     "output_type": "execute_result"
    }
   ],
   "source": [
    "rules.First()"
   ]
  },
  {
   "cell_type": "code",
   "execution_count": 5,
   "metadata": {},
   "outputs": [],
   "source": [
    "const string myBag = \"shiny gold\";"
   ]
  },
  {
   "cell_type": "code",
   "execution_count": 6,
   "metadata": {},
   "outputs": [],
   "source": [
    "int CountBagsThatCanContain(string bag, Dictionary<string, ValueTuple<string, int>[]> rules)\n",
    "{\n",
    "    var Q = new Queue<string>();\n",
    "    var L = new List<string>();\n",
    "    \n",
    "    Q.Enqueue(bag);\n",
    "    while (Q.Count > 0)\n",
    "    {\n",
    "        var nextBag = Q.Dequeue();\n",
    "        foreach (var b in rules.Where(kv => kv.Value.Where(rule => rule.Item1 == nextBag).Any()).Select(kv => kv.Key))\n",
    "        {\n",
    "            Q.Enqueue(b);\n",
    "            L.Add(b);\n",
    "        }\n",
    "    }\n",
    "    return L.Distinct().Count();\n",
    "}"
   ]
  },
  {
   "cell_type": "code",
   "execution_count": 7,
   "metadata": {},
   "outputs": [
    {
     "data": {
      "text/html": [
       "<div class=\"dni-plaintext\">205</div>"
      ]
     },
     "execution_count": 7,
     "metadata": {},
     "output_type": "execute_result"
    }
   ],
   "source": [
    "CountBagsThatCanContain(myBag)"
   ]
  },
  {
   "cell_type": "markdown",
   "metadata": {},
   "source": [
    "# --- Part Two ---"
   ]
  },
  {
   "cell_type": "code",
   "execution_count": 8,
   "metadata": {},
   "outputs": [],
   "source": [
    "int CountBagsInside(string bag)\n",
    "{\n",
    "    if (!rules.ContainsKey(bag))\n",
    "    {\n",
    "        return 0;\n",
    "    }\n",
    "    var total = 0;\n",
    "    foreach (var rule in rules[bag])\n",
    "    {\n",
    "        total = total + rule.Count + rule.Count * countBagsInside(rule.InnerBag);\n",
    "    }\n",
    "    return total;\n",
    "}"
   ]
  },
  {
   "cell_type": "code",
   "execution_count": 9,
   "metadata": {},
   "outputs": [
    {
     "data": {
      "text/html": [
       "<div class=\"dni-plaintext\">80902</div>"
      ]
     },
     "execution_count": 9,
     "metadata": {},
     "output_type": "execute_result"
    }
   ],
   "source": [
    "CountBagsInside(myBag)"
   ]
  }
 ],
 "metadata": {
  "kernelspec": {
   "display_name": ".NET (C#)",
   "language": "C#",
   "name": ".net-csharp"
  },
  "language_info": {
   "file_extension": ".cs",
   "mimetype": "text/x-csharp",
   "name": "C#",
   "pygments_lexer": "csharp",
   "version": "8.0"
  }
 },
 "nbformat": 4,
 "nbformat_minor": 4
}
