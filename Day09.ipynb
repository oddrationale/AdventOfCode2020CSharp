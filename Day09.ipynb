{
 "cells": [
  {
   "cell_type": "markdown",
   "metadata": {},
   "source": [
    "[![Binder](https://mybinder.org/badge_logo.svg)](https://mybinder.org/v2/gh/oddrationale/AdventOfCode2020CSharp/main?urlpath=lab%2Ftree%2FDay09.ipynb)"
   ]
  },
  {
   "cell_type": "markdown",
   "metadata": {},
   "source": [
    "# --- Day 9: Encoding Error ---"
   ]
  },
  {
   "cell_type": "code",
   "execution_count": 2,
   "metadata": {},
   "outputs": [],
   "source": [
    "using System.IO;"
   ]
  },
  {
   "cell_type": "code",
   "execution_count": 3,
   "metadata": {},
   "outputs": [],
   "source": [
    "var xmasData = File.ReadAllLines(@\"input/09.txt\").Select(line => Convert.ToInt64(line)).ToArray();"
   ]
  },
  {
   "cell_type": "code",
   "execution_count": 4,
   "metadata": {},
   "outputs": [],
   "source": [
    "const int preambleSize = 25;"
   ]
  },
  {
   "cell_type": "code",
   "execution_count": 5,
   "metadata": {},
   "outputs": [],
   "source": [
    "bool isValidNextNumber(long nextNumber, long[] data)\n",
    "{\n",
    "    for (int i = 0; i < data.Length; i++)\n",
    "    {\n",
    "        for (int j = i + 1; j < data.Length; j++)\n",
    "        {\n",
    "            if (data[i] + data[j] == nextNumber)\n",
    "            {\n",
    "                return true;\n",
    "            }\n",
    "        }\n",
    "    }\n",
    "    return false;\n",
    "}"
   ]
  },
  {
   "cell_type": "code",
   "execution_count": 6,
   "metadata": {},
   "outputs": [],
   "source": [
    "long findFirstInvalidData(long[] data, int preambleSize)\n",
    "{\n",
    "    for (int i = preambleSize; i < data.Length; i++)\n",
    "    {\n",
    "        if (!isValidNextNumber(data[i], data[(i - preambleSize)..i]))\n",
    "        {\n",
    "            return data[i];\n",
    "        }\n",
    "    }\n",
    "    return -1;\n",
    "}"
   ]
  },
  {
   "cell_type": "code",
   "execution_count": 7,
   "metadata": {},
   "outputs": [
    {
     "data": {
      "text/html": [
       "<div class=\"dni-plaintext\">41682220</div>"
      ]
     },
     "execution_count": 7,
     "metadata": {},
     "output_type": "execute_result"
    }
   ],
   "source": [
    "findFirstInvalidData(xmasData, preambleSize)"
   ]
  },
  {
   "cell_type": "markdown",
   "metadata": {},
   "source": [
    "# --- Part Two ---"
   ]
  },
  {
   "cell_type": "code",
   "execution_count": 8,
   "metadata": {},
   "outputs": [],
   "source": [
    "long findEncryptionWeakness(long[] data, long target)\n",
    "{\n",
    "    for (int i = 0; i < data.Length; i++)\n",
    "    {\n",
    "        for (int j = i + 1; j < data.Length; j++)\n",
    "        {\n",
    "            long sum = data[i..j].Sum();\n",
    "            if (sum == target)\n",
    "            {\n",
    "                return data[i..j].Min() + data[i..j].Max();\n",
    "            }\n",
    "            else if (sum > target)\n",
    "            {\n",
    "                continue;\n",
    "            }\n",
    "        }\n",
    "    }\n",
    "    return -1;\n",
    "}"
   ]
  },
  {
   "cell_type": "code",
   "execution_count": 9,
   "metadata": {},
   "outputs": [
    {
     "data": {
      "text/html": [
       "<div class=\"dni-plaintext\">5388976</div>"
      ]
     },
     "execution_count": 9,
     "metadata": {},
     "output_type": "execute_result"
    }
   ],
   "source": [
    "findEncryptionWeakness(xmasData, findFirstInvalidData(xmasData, preambleSize))"
   ]
  }
 ],
 "metadata": {
  "kernelspec": {
   "display_name": ".NET (C#)",
   "language": "C#",
   "name": ".net-csharp"
  },
  "language_info": {
   "file_extension": ".cs",
   "mimetype": "text/x-csharp",
   "name": "C#",
   "pygments_lexer": "csharp",
   "version": "8.0"
  }
 },
 "nbformat": 4,
 "nbformat_minor": 4
}
